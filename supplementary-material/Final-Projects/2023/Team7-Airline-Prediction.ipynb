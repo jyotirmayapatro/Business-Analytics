{
  "cells": [
    {
      "cell_type": "markdown",
      "metadata": {
        "id": "3z8Q5nniYJqz"
      },
      "source": [
        "#**Boston Logan International (BOS) Flight Departure Delay Prediction**\n",
        "\n"
      ]
    },
    {
      "cell_type": "markdown",
      "metadata": {
        "id": "fHoIKpCwEXSK"
      },
      "source": [
        "![photo-1610642372677-bcddb69f3531.avif](data:image/avif;base64,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)"
      ]
    },
    {
      "cell_type": "markdown",
      "metadata": {
        "id": "yz-9ttw0a5FA"
      },
      "source": [
        "#**1. Executive Summary**\n",
        "\n",
        "\n"
      ]
    },
    {
      "cell_type": "markdown",
      "metadata": {
        "id": "RLOlES5xXc7M"
      },
      "source": [
        "##1.1 Problem Definition and Motivation\n",
        "Air travel is a popular mode of transportation for many people, with hundreds of thousands of flights operating globally each month in 2022. However, flight delays can disrupt travel plans. Before traveling by plane, travelers may not have enough information to make informed decisions about which flights are more likely to be delayed. This can lead to travelers choosing a flight that ends up being delayed and impacting their travel. It would be beneficial to use historical data to address this issue. Travelers are interested in identifying the optimal times, airlines, and destinations for traveling to minimize delays and enjoy seamless trips to new places and reunions with loved ones. We would like to provide a variety of tools for travelers to use to help them identify the most attractive flights to avoid departure delays.\n"
      ]
    },
    {
      "cell_type": "markdown",
      "metadata": {
        "id": "1RFhz2_NXym-"
      },
      "source": [
        "##1.2 Project Objective\n",
        "Our project objective is to create a series of visualizations to provide graphical information on departure delays for flights originating from Boston Logan International Airport. Our team analyzed the cause of flight delays by utilizing data provided by the US Department of Transportation Statistics. The data set contains flight information for a wide range of factors, such as schedule, airline, and season. The ultimate goal is to provide travelers with more accurate and informative insights on the expected departure delays they may encounter when flying during specific time periods, with particular airlines, and destinations. The visualizations will enable travelers to make more informed decisions about their travel plans to be better prepared for potential delays. \n",
        "\n",
        "Additionally, we plan on creating a Machine Learning model that will be able to accurately predict flight delays based on historic data using the above-mentioned variables. This tool will inform travelers of possible departure delays they might experience when traveling during a specific season, to a specific location, or traveling with a specific airline. \n",
        "\n"
      ]
    },
    {
      "cell_type": "markdown",
      "metadata": {
        "id": "u9ZlURHKX8AO"
      },
      "source": [
        "##1.3 Dataset Information\n",
        "Our team imported the data form [Bureau of Transportation Statistics](https://www.transtats.bts.gov/ONTIME/Departures.aspx) in order to gather information from each airline. This data included details on departure delays and destinations.  Moreover, our team download the data from [Humanitarian Data Exchange](https://data.humdata.org/dataset/ourairports-usa?fbclid=IwAR36ud-zTc1KwprOY9CdXpZFlisxxP_ql886mpHb2jk4DFqcs6gbcKqJEY8) in order to gather the information about longtitude and latitude of domestic airports, which can be utilized to create geographic visualizations."
      ]
    },
    {
      "cell_type": "markdown",
      "source": [
        "##1.4 Report Summary\n",
        "In this notebook, we began by processing, importing, and merging all of our datasets used into one dataframe. We then began our exploratory data analysis phase where we begin exploring the contents of our dataframe through visualizations. After creating a variety of useful and consumable visualizations we started working on a Machine Learning Model and User Interactive Widget. We wrap up our report by outlining some of our major challenges and conclusions drawn from our exploratory analysis, visualizations, and our model."
      ],
      "metadata": {
        "id": "pIZg8jNMLD4j"
      }
    },
    {
      "cell_type": "markdown",
      "metadata": {
        "id": "qss9O7awxXEh"
      },
      "source": [
        "#**2 Data Processing**"
      ]
    },
    {
      "cell_type": "code",
      "execution_count": 1,
      "metadata": {
        "id": "7dcdVUymO7QM"
      },
      "outputs": [],
      "source": [
        "#Import necessary libraries\n",
        "import pandas as pd\n",
        "import numpy as np\n",
        "import matplotlib.pyplot as plt\n",
        "import matplotlib.cm as cm\n",
        "import seaborn as sns\n",
        "import math\n",
        "import calendar\n",
        "import os\n",
        "import warnings\n",
        "warnings.filterwarnings('ignore')\n",
        "from sklearn.naive_bayes import GaussianNB\n",
        "from sklearn.model_selection import train_test_split\n",
        "from sklearn.linear_model import LogisticRegression\n",
        "from sklearn.metrics import accuracy_score, precision_score, recall_score, f1_score, classification_report\n",
        "from sklearn.preprocessing import StandardScaler"
      ]
    },
    {
      "cell_type": "code",
      "execution_count": 2,
      "metadata": {
        "id": "gh1je403lXPi",
        "colab": {
          "base_uri": "https://localhost:8080/"
        },
        "outputId": "b2f72473-8027-48a9-fe58-f81a6c885d94"
      },
      "outputs": [
        {
          "output_type": "stream",
          "name": "stdout",
          "text": [
            "Mounted at /content/drive\n"
          ]
        }
      ],
      "source": [
        "#Mount google drive\n",
        "from google.colab import drive\n",
        "drive.mount('/content/drive', force_remount=True)"
      ]
    },
    {
      "cell_type": "code",
      "execution_count": 3,
      "metadata": {
        "colab": {
          "base_uri": "https://localhost:8080/"
        },
        "id": "EC8jcY5i_DOG",
        "outputId": "9ffc9ec3-9e1a-4c5e-8036-78f8705235aa"
      },
      "outputs": [
        {
          "output_type": "stream",
          "name": "stdout",
          "text": [
            "/content/drive/Shareddrives/IS833_Team_7_Project/Airline_Datasets\n"
          ]
        }
      ],
      "source": [
        "#Change directory to find files saved in shared google drive folder\n",
        "%cd '/content/drive/Shareddrives/IS833_Team_7_Project/Airline_Datasets'\n"
      ]
    },
    {
      "cell_type": "markdown",
      "metadata": {
        "id": "45JLj6U3mUEQ"
      },
      "source": [
        "#2.1 Data Importing and Merging"
      ]
    },
    {
      "cell_type": "code",
      "execution_count": 4,
      "metadata": {
        "id": "O2Zvjw94AaG6"
      },
      "outputs": [],
      "source": [
        "# Loading all CSV files and skipping 7 rows to pass over titles provided by source download\n",
        "df_fl = pd.read_csv('fl_data.csv', skiprows = 7, usecols= [i for i in range(17)])\n",
        "df_as = pd.read_csv('as_data.csv', skiprows = 7, usecols= [i for i in range(17)])\n",
        "df_g4 = pd.read_csv('g4_data.csv', skiprows = 7, usecols= [i for i in range(17)])\n",
        "df_aa = pd.read_csv('aa_data.csv', skiprows = 7, usecols= [i for i in range(17)])\n",
        "df_mq = pd.read_csv('mq_data.csv', skiprows = 7, usecols= [i for i in range(17)])\n",
        "df_ev = pd.read_csv('ev_data.csv', skiprows = 7, usecols= [i for i in range(17)])\n",
        "df_dl = pd.read_csv('dl_data.csv', skiprows = 7, usecols= [i for i in range(17)])\n",
        "df_9e = pd.read_csv('9e_data.csv', skiprows = 7, usecols= [i for i in range(17)])\n",
        "df_f9 = pd.read_csv('f9_data.csv', skiprows = 7, usecols= [i for i in range(17)])\n",
        "df_ha = pd.read_csv('ha_data.csv', skiprows = 7, usecols= [i for i in range(17)])\n",
        "df_b6 = pd.read_csv('b6_data.csv', skiprows = 7, usecols= [i for i in range(17)])\n",
        "df_yv = pd.read_csv('yv_data.csv', skiprows = 7, usecols= [i for i in range(17)])\n",
        "df_oh = pd.read_csv('oh_data.csv', skiprows = 7, usecols= [i for i in range(17)])\n",
        "df_yx = pd.read_csv('yx_data.csv', skiprows = 7, usecols= [i for i in range(17)])\n",
        "df_oo = pd.read_csv('oo_data.csv', skiprows = 7, usecols= [i for i in range(17)])\n",
        "df_wn = pd.read_csv('wn_data.csv', skiprows = 7, usecols= [i for i in range(17)])\n",
        "df_nk = pd.read_csv('nk_data.csv', skiprows = 7, usecols= [i for i in range(17)])\n",
        "df_us = pd.read_csv('us_data.csv', skiprows = 7, usecols= [i for i in range(17)])\n",
        "df_ua = pd.read_csv('ua_data.csv', skiprows = 7, usecols= [i for i in range(17)])\n",
        "df_vx = pd.read_csv('vx_data.csv', skiprows = 7, usecols= [i for i in range(17)])\n"
      ]
    },
    {
      "cell_type": "code",
      "execution_count": 5,
      "metadata": {
        "id": "A415Kz46QEyt"
      },
      "outputs": [],
      "source": [
        "#Merge all dataframes togething\n",
        "merged_df = pd.concat([df_fl, df_as, df_g4, df_aa, df_mq, df_ev, df_dl, df_9e, df_f9, df_ha, df_b6, df_yv, df_oh, df_yx, df_oo, df_wn, df_nk, df_us, df_ua, df_vx])\n",
        "#Save the merged dataframe as a CSV file called merged.csv\n",
        "merged_df.to_csv('firstdf.csv', index=False)"
      ]
    },
    {
      "cell_type": "code",
      "execution_count": 6,
      "metadata": {
        "id": "keULhqkoP-ue"
      },
      "outputs": [],
      "source": [
        "#Set merged_df to airlines_df \n",
        "airlines_df = pd.read_csv('firstdf.csv')"
      ]
    },
    {
      "cell_type": "code",
      "execution_count": 7,
      "metadata": {
        "colab": {
          "base_uri": "https://localhost:8080/"
        },
        "id": "AhmG4mR1piqZ",
        "outputId": "518cc406-1c42-4415-ca4f-0bc67bcd1ab6"
      },
      "outputs": [
        {
          "output_type": "stream",
          "name": "stdout",
          "text": [
            "/content/drive/Shareddrives/IS833_Team_7_Project\n"
          ]
        }
      ],
      "source": [
        "#Change directory to find files saved in shared google drive folder\n",
        "%cd '/content/drive/Shareddrives/IS833_Team_7_Project/'"
      ]
    },
    {
      "cell_type": "code",
      "execution_count": 8,
      "metadata": {
        "id": "EajQuXnHjwbz"
      },
      "outputs": [],
      "source": [
        "#Import csv with carrier names to add carrier names - merge with airlines df\n",
        "carrier_name_df = pd.read_csv('Carrier_names.csv')\n",
        "\n",
        "#US airport lat long data set source: https://data.humdata.org/dataset/ourairports-usa\n",
        "airports_df = pd.read_csv('us-airports.csv')\n",
        "\n",
        "#Create df with only airport code, lat deg, long deg\n",
        "lat_long_airports_df = airports_df[['iata_code', 'latitude_deg', 'longitude_deg']]\n"
      ]
    },
    {
      "cell_type": "code",
      "execution_count": 9,
      "metadata": {
        "id": "6AaH8SyRjzKj"
      },
      "outputs": [],
      "source": [
        "#Rename df column names to remove spaces and decapitalize\n",
        "airlines_df = airlines_df.rename(columns = lambda x: x.replace(' ', '_').lower())\n",
        "carrier_name_df = carrier_name_df.rename(columns = lambda x: x.replace(' ', '_').lower())\n",
        "airports_df = airports_df.rename(columns = lambda x: x.replace(' ', '_').lower())\n",
        "lat_long_airports_df = lat_long_airports_df.rename(columns = lambda x: x.replace(' ', '_').lower())"
      ]
    },
    {
      "cell_type": "code",
      "execution_count": 10,
      "metadata": {
        "colab": {
          "base_uri": "https://localhost:8080/"
        },
        "id": "1GezOQ7odDif",
        "outputId": "686c4a47-ca14-4295-dce9-a3ff41c074d2"
      },
      "outputs": [
        {
          "output_type": "stream",
          "name": "stdout",
          "text": [
            "/content/drive/Shareddrives/IS833_Team_7_Project/Airline_Datasets\n"
          ]
        }
      ],
      "source": [
        "%cd '/content/drive/Shareddrives/IS833_Team_7_Project/Airline_Datasets'"
      ]
    },
    {
      "cell_type": "code",
      "execution_count": 11,
      "metadata": {
        "id": "ui82Jh-ckYBT"
      },
      "outputs": [],
      "source": [
        "#Merge all dataframes into one\n",
        "airlines_carrier = pd.merge(airlines_df, carrier_name_df, left_on = 'carrier_code', right_on = 'iata_carrier_code')\n",
        "merged_df = pd.merge(airlines_carrier, lat_long_airports_df, left_on='destination_airport', right_on='iata_code')\n",
        "#Save the merged dataframe as a CSV file called merged.csv\n",
        "merged_df.to_csv('merged.csv', index=False)"
      ]
    },
    {
      "cell_type": "markdown",
      "metadata": {
        "id": "1xTudKQ8mbTO"
      },
      "source": [
        "##2.2 Data Cleaning"
      ]
    },
    {
      "cell_type": "code",
      "execution_count": 12,
      "metadata": {
        "id": "YgEOCrUmbv4i"
      },
      "outputs": [],
      "source": [
        "#Data processing\n",
        "merged_df['date'] = pd.to_datetime(merged_df['date_(mm/dd/yyyy)'], infer_datetime_format=True)\n",
        "merged_df = merged_df.drop('date_(mm/dd/yyyy)', axis=1)\n",
        "merged_df['year'] = pd.DatetimeIndex(merged_df['date']).year\n",
        "merged_df['month'] = pd.DatetimeIndex(merged_df['date']).month\n",
        "merged_df['day'] = pd.DatetimeIndex(merged_df['date']).day\n",
        "# define function to apply\n",
        "def check_delay(delay):\n",
        "    if delay > 0:\n",
        "        return 1\n",
        "    else:\n",
        "        return 0\n",
        "\n",
        "# apply function to create new binary column\n",
        "merged_df['delayed'] = merged_df['departure_delay_(minutes)'].apply(check_delay)"
      ]
    },
    {
      "cell_type": "code",
      "execution_count": 13,
      "metadata": {
        "id": "Z6BKcdN3QF4H",
        "colab": {
          "base_uri": "https://localhost:8080/"
        },
        "outputId": "95b7c64a-bbfb-40e3-b357-055952113bbc"
      },
      "outputs": [
        {
          "output_type": "execute_result",
          "data": {
            "text/plain": [
              "(1156749, 27)"
            ]
          },
          "metadata": {},
          "execution_count": 13
        }
      ],
      "source": [
        "#Examine shape\n",
        "merged_df.shape"
      ]
    },
    {
      "cell_type": "code",
      "execution_count": 14,
      "metadata": {
        "id": "ZWnHgQ1ESXRS",
        "colab": {
          "base_uri": "https://localhost:8080/"
        },
        "outputId": "dba3d3dd-ac71-4a1b-ffb9-bc05e4bf08de"
      },
      "outputs": [
        {
          "output_type": "stream",
          "name": "stdout",
          "text": [
            "<class 'pandas.core.frame.DataFrame'>\n",
            "Int64Index: 1156749 entries, 0 to 1156748\n",
            "Data columns (total 27 columns):\n",
            " #   Column                                    Non-Null Count    Dtype         \n",
            "---  ------                                    --------------    -----         \n",
            " 0   carrier_code                              1156749 non-null  object        \n",
            " 1   flight_number                             1156749 non-null  float64       \n",
            " 2   tail_number                               1149734 non-null  object        \n",
            " 3   destination_airport                       1156749 non-null  object        \n",
            " 4   scheduled_departure_time                  1156749 non-null  object        \n",
            " 5   actual_departure_time                     1156749 non-null  object        \n",
            " 6   scheduled_elapsed_time_(minutes)          1156749 non-null  float64       \n",
            " 7   actual_elapsed_time_(minutes)             1156749 non-null  float64       \n",
            " 8   departure_delay_(minutes)                 1156749 non-null  float64       \n",
            " 9   wheels-off_time                           1156749 non-null  object        \n",
            " 10  taxi-out_time_(minutes)                   1156749 non-null  float64       \n",
            " 11  delay_carrier_(minutes)                   1156749 non-null  float64       \n",
            " 12  delay_weather_(minutes)                   1156749 non-null  float64       \n",
            " 13  delay_national_aviation_system_(minutes)  1156749 non-null  float64       \n",
            " 14  delay_security_(minutes)                  1156749 non-null  float64       \n",
            " 15  delay_late_aircraft_arrival_(minutes)     1156749 non-null  float64       \n",
            " 16  iata_carrier_code                         1156749 non-null  object        \n",
            " 17  icao_carrier_code                         1156749 non-null  object        \n",
            " 18  carrier_name                              1156749 non-null  object        \n",
            " 19  iata_code                                 1156749 non-null  object        \n",
            " 20  latitude_deg                              1156749 non-null  object        \n",
            " 21  longitude_deg                             1156749 non-null  object        \n",
            " 22  date                                      1156749 non-null  datetime64[ns]\n",
            " 23  year                                      1156749 non-null  int64         \n",
            " 24  month                                     1156749 non-null  int64         \n",
            " 25  day                                       1156749 non-null  int64         \n",
            " 26  delayed                                   1156749 non-null  int64         \n",
            "dtypes: datetime64[ns](1), float64(10), int64(4), object(12)\n",
            "memory usage: 247.1+ MB\n"
          ]
        }
      ],
      "source": [
        "#Examine column info, nulls and datatype\n",
        "merged_df.info()"
      ]
    },
    {
      "cell_type": "code",
      "execution_count": 15,
      "metadata": {
        "id": "o-a2qowGHI-P",
        "colab": {
          "base_uri": "https://localhost:8080/"
        },
        "outputId": "9dbf1497-9480-4b2c-c4b7-25f21b627aaa"
      },
      "outputs": [
        {
          "output_type": "execute_result",
          "data": {
            "text/plain": [
              "carrier_code                                   0\n",
              "flight_number                                  0\n",
              "tail_number                                 7015\n",
              "destination_airport                            0\n",
              "scheduled_departure_time                       0\n",
              "actual_departure_time                          0\n",
              "scheduled_elapsed_time_(minutes)               0\n",
              "actual_elapsed_time_(minutes)                  0\n",
              "departure_delay_(minutes)                      0\n",
              "wheels-off_time                                0\n",
              "taxi-out_time_(minutes)                        0\n",
              "delay_carrier_(minutes)                        0\n",
              "delay_weather_(minutes)                        0\n",
              "delay_national_aviation_system_(minutes)       0\n",
              "delay_security_(minutes)                       0\n",
              "delay_late_aircraft_arrival_(minutes)          0\n",
              "iata_carrier_code                              0\n",
              "icao_carrier_code                              0\n",
              "carrier_name                                   0\n",
              "iata_code                                      0\n",
              "latitude_deg                                   0\n",
              "longitude_deg                                  0\n",
              "date                                           0\n",
              "year                                           0\n",
              "month                                          0\n",
              "day                                            0\n",
              "delayed                                        0\n",
              "dtype: int64"
            ]
          },
          "metadata": {},
          "execution_count": 15
        }
      ],
      "source": [
        "merged_df.isna().sum()"
      ]
    },
    {
      "cell_type": "code",
      "execution_count": 16,
      "metadata": {
        "id": "De5v52muqQR_",
        "colab": {
          "base_uri": "https://localhost:8080/",
          "height": 306
        },
        "outputId": "8cd0206b-ccd5-4409-89ab-4810a4411481"
      },
      "outputs": [
        {
          "output_type": "execute_result",
          "data": {
            "text/plain": [
              "     carrier_code  flight_number tail_number destination_airport  \\\n",
              "6939           B6          427.0         NaN                 BWI   \n",
              "6940           B6         1027.0         NaN                 BWI   \n",
              "6980           B6          427.0         NaN                 BWI   \n",
              "\n",
              "     scheduled_departure_time actual_departure_time  \\\n",
              "6939                    08:45                 00:00   \n",
              "6940                    18:48                 00:00   \n",
              "6980                    08:45                 00:00   \n",
              "\n",
              "      scheduled_elapsed_time_(minutes)  actual_elapsed_time_(minutes)  \\\n",
              "6939                              92.0                            0.0   \n",
              "6940                              94.0                            0.0   \n",
              "6980                              92.0                            0.0   \n",
              "\n",
              "      departure_delay_(minutes) wheels-off_time  ...  icao_carrier_code  \\\n",
              "6939                        0.0           00:00  ...                JBU   \n",
              "6940                        0.0           00:00  ...                JBU   \n",
              "6980                        0.0           00:00  ...                JBU   \n",
              "\n",
              "         carrier_name  iata_code  latitude_deg  longitude_deg       date  \\\n",
              "6939  JetBlue Airways        BWI       39.1754     -76.668297 2020-04-01   \n",
              "6940  JetBlue Airways        BWI       39.1754     -76.668297 2020-04-01   \n",
              "6980  JetBlue Airways        BWI       39.1754     -76.668297 2020-04-02   \n",
              "\n",
              "      year month day delayed  \n",
              "6939  2020     4   1       0  \n",
              "6940  2020     4   1       0  \n",
              "6980  2020     4   2       0  \n",
              "\n",
              "[3 rows x 27 columns]"
            ],
            "text/html": [
              "\n",
              "  <div id=\"df-a296234c-2769-4629-9e6e-6f4423bb23f8\">\n",
              "    <div class=\"colab-df-container\">\n",
              "      <div>\n",
              "<style scoped>\n",
              "    .dataframe tbody tr th:only-of-type {\n",
              "        vertical-align: middle;\n",
              "    }\n",
              "\n",
              "    .dataframe tbody tr th {\n",
              "        vertical-align: top;\n",
              "    }\n",
              "\n",
              "    .dataframe thead th {\n",
              "        text-align: right;\n",
              "    }\n",
              "</style>\n",
              "<table border=\"1\" class=\"dataframe\">\n",
              "  <thead>\n",
              "    <tr style=\"text-align: right;\">\n",
              "      <th></th>\n",
              "      <th>carrier_code</th>\n",
              "      <th>flight_number</th>\n",
              "      <th>tail_number</th>\n",
              "      <th>destination_airport</th>\n",
              "      <th>scheduled_departure_time</th>\n",
              "      <th>actual_departure_time</th>\n",
              "      <th>scheduled_elapsed_time_(minutes)</th>\n",
              "      <th>actual_elapsed_time_(minutes)</th>\n",
              "      <th>departure_delay_(minutes)</th>\n",
              "      <th>wheels-off_time</th>\n",
              "      <th>...</th>\n",
              "      <th>icao_carrier_code</th>\n",
              "      <th>carrier_name</th>\n",
              "      <th>iata_code</th>\n",
              "      <th>latitude_deg</th>\n",
              "      <th>longitude_deg</th>\n",
              "      <th>date</th>\n",
              "      <th>year</th>\n",
              "      <th>month</th>\n",
              "      <th>day</th>\n",
              "      <th>delayed</th>\n",
              "    </tr>\n",
              "  </thead>\n",
              "  <tbody>\n",
              "    <tr>\n",
              "      <th>6939</th>\n",
              "      <td>B6</td>\n",
              "      <td>427.0</td>\n",
              "      <td>NaN</td>\n",
              "      <td>BWI</td>\n",
              "      <td>08:45</td>\n",
              "      <td>00:00</td>\n",
              "      <td>92.0</td>\n",
              "      <td>0.0</td>\n",
              "      <td>0.0</td>\n",
              "      <td>00:00</td>\n",
              "      <td>...</td>\n",
              "      <td>JBU</td>\n",
              "      <td>JetBlue Airways</td>\n",
              "      <td>BWI</td>\n",
              "      <td>39.1754</td>\n",
              "      <td>-76.668297</td>\n",
              "      <td>2020-04-01</td>\n",
              "      <td>2020</td>\n",
              "      <td>4</td>\n",
              "      <td>1</td>\n",
              "      <td>0</td>\n",
              "    </tr>\n",
              "    <tr>\n",
              "      <th>6940</th>\n",
              "      <td>B6</td>\n",
              "      <td>1027.0</td>\n",
              "      <td>NaN</td>\n",
              "      <td>BWI</td>\n",
              "      <td>18:48</td>\n",
              "      <td>00:00</td>\n",
              "      <td>94.0</td>\n",
              "      <td>0.0</td>\n",
              "      <td>0.0</td>\n",
              "      <td>00:00</td>\n",
              "      <td>...</td>\n",
              "      <td>JBU</td>\n",
              "      <td>JetBlue Airways</td>\n",
              "      <td>BWI</td>\n",
              "      <td>39.1754</td>\n",
              "      <td>-76.668297</td>\n",
              "      <td>2020-04-01</td>\n",
              "      <td>2020</td>\n",
              "      <td>4</td>\n",
              "      <td>1</td>\n",
              "      <td>0</td>\n",
              "    </tr>\n",
              "    <tr>\n",
              "      <th>6980</th>\n",
              "      <td>B6</td>\n",
              "      <td>427.0</td>\n",
              "      <td>NaN</td>\n",
              "      <td>BWI</td>\n",
              "      <td>08:45</td>\n",
              "      <td>00:00</td>\n",
              "      <td>92.0</td>\n",
              "      <td>0.0</td>\n",
              "      <td>0.0</td>\n",
              "      <td>00:00</td>\n",
              "      <td>...</td>\n",
              "      <td>JBU</td>\n",
              "      <td>JetBlue Airways</td>\n",
              "      <td>BWI</td>\n",
              "      <td>39.1754</td>\n",
              "      <td>-76.668297</td>\n",
              "      <td>2020-04-02</td>\n",
              "      <td>2020</td>\n",
              "      <td>4</td>\n",
              "      <td>2</td>\n",
              "      <td>0</td>\n",
              "    </tr>\n",
              "  </tbody>\n",
              "</table>\n",
              "<p>3 rows × 27 columns</p>\n",
              "</div>\n",
              "      <button class=\"colab-df-convert\" onclick=\"convertToInteractive('df-a296234c-2769-4629-9e6e-6f4423bb23f8')\"\n",
              "              title=\"Convert this dataframe to an interactive table.\"\n",
              "              style=\"display:none;\">\n",
              "        \n",
              "  <svg xmlns=\"http://www.w3.org/2000/svg\" height=\"24px\"viewBox=\"0 0 24 24\"\n",
              "       width=\"24px\">\n",
              "    <path d=\"M0 0h24v24H0V0z\" fill=\"none\"/>\n",
              "    <path d=\"M18.56 5.44l.94 2.06.94-2.06 2.06-.94-2.06-.94-.94-2.06-.94 2.06-2.06.94zm-11 1L8.5 8.5l.94-2.06 2.06-.94-2.06-.94L8.5 2.5l-.94 2.06-2.06.94zm10 10l.94 2.06.94-2.06 2.06-.94-2.06-.94-.94-2.06-.94 2.06-2.06.94z\"/><path d=\"M17.41 7.96l-1.37-1.37c-.4-.4-.92-.59-1.43-.59-.52 0-1.04.2-1.43.59L10.3 9.45l-7.72 7.72c-.78.78-.78 2.05 0 2.83L4 21.41c.39.39.9.59 1.41.59.51 0 1.02-.2 1.41-.59l7.78-7.78 2.81-2.81c.8-.78.8-2.07 0-2.86zM5.41 20L4 18.59l7.72-7.72 1.47 1.35L5.41 20z\"/>\n",
              "  </svg>\n",
              "      </button>\n",
              "      \n",
              "  <style>\n",
              "    .colab-df-container {\n",
              "      display:flex;\n",
              "      flex-wrap:wrap;\n",
              "      gap: 12px;\n",
              "    }\n",
              "\n",
              "    .colab-df-convert {\n",
              "      background-color: #E8F0FE;\n",
              "      border: none;\n",
              "      border-radius: 50%;\n",
              "      cursor: pointer;\n",
              "      display: none;\n",
              "      fill: #1967D2;\n",
              "      height: 32px;\n",
              "      padding: 0 0 0 0;\n",
              "      width: 32px;\n",
              "    }\n",
              "\n",
              "    .colab-df-convert:hover {\n",
              "      background-color: #E2EBFA;\n",
              "      box-shadow: 0px 1px 2px rgba(60, 64, 67, 0.3), 0px 1px 3px 1px rgba(60, 64, 67, 0.15);\n",
              "      fill: #174EA6;\n",
              "    }\n",
              "\n",
              "    [theme=dark] .colab-df-convert {\n",
              "      background-color: #3B4455;\n",
              "      fill: #D2E3FC;\n",
              "    }\n",
              "\n",
              "    [theme=dark] .colab-df-convert:hover {\n",
              "      background-color: #434B5C;\n",
              "      box-shadow: 0px 1px 3px 1px rgba(0, 0, 0, 0.15);\n",
              "      filter: drop-shadow(0px 1px 2px rgba(0, 0, 0, 0.3));\n",
              "      fill: #FFFFFF;\n",
              "    }\n",
              "  </style>\n",
              "\n",
              "      <script>\n",
              "        const buttonEl =\n",
              "          document.querySelector('#df-a296234c-2769-4629-9e6e-6f4423bb23f8 button.colab-df-convert');\n",
              "        buttonEl.style.display =\n",
              "          google.colab.kernel.accessAllowed ? 'block' : 'none';\n",
              "\n",
              "        async function convertToInteractive(key) {\n",
              "          const element = document.querySelector('#df-a296234c-2769-4629-9e6e-6f4423bb23f8');\n",
              "          const dataTable =\n",
              "            await google.colab.kernel.invokeFunction('convertToInteractive',\n",
              "                                                     [key], {});\n",
              "          if (!dataTable) return;\n",
              "\n",
              "          const docLinkHtml = 'Like what you see? Visit the ' +\n",
              "            '<a target=\"_blank\" href=https://colab.research.google.com/notebooks/data_table.ipynb>data table notebook</a>'\n",
              "            + ' to learn more about interactive tables.';\n",
              "          element.innerHTML = '';\n",
              "          dataTable['output_type'] = 'display_data';\n",
              "          await google.colab.output.renderOutput(dataTable, element);\n",
              "          const docLink = document.createElement('div');\n",
              "          docLink.innerHTML = docLinkHtml;\n",
              "          element.appendChild(docLink);\n",
              "        }\n",
              "      </script>\n",
              "    </div>\n",
              "  </div>\n",
              "  "
            ]
          },
          "metadata": {},
          "execution_count": 16
        }
      ],
      "source": [
        "merged_df[merged_df.tail_number.isnull() == True].head(3)"
      ]
    },
    {
      "cell_type": "markdown",
      "metadata": {
        "id": "GC-zjhC6-maC"
      },
      "source": [
        "#2.2.1 Missing Tail Numbers Conclusion\n",
        "Unfortunately, we were unable to identify why there were so many missing tail numbers in our dataset. We found no correlation between the missing tail numbers and any other variables within the dataset. Thus, we assume that missing tail numbers likely are due to the nature of the airline industry's flexibility surrounding the aircraft itself. We believe that it is possible that certain flights' tail numbers may be missing due to last-minute aircraft changes or having to deplane and re-plane a different aircraft causing the tail number to not be recorded. Under this assumption, we are going to drop all rows where the tail number is NaN which is a small percentage of the total population.\n",
        "\n",
        "Now that the data has been cleaned, we wanted to explore the summary statistics to evaluate the average departure delay times and to begin our exploratory analysis. \n",
        "\n"
      ]
    },
    {
      "cell_type": "code",
      "execution_count": 17,
      "metadata": {
        "id": "06jrwU7ft3vG",
        "colab": {
          "base_uri": "https://localhost:8080/"
        },
        "outputId": "4186131e-f590-40cf-e632-2b4e729b7a96"
      },
      "outputs": [
        {
          "output_type": "execute_result",
          "data": {
            "text/plain": [
              "carrier_code                                0\n",
              "flight_number                               0\n",
              "tail_number                                 0\n",
              "destination_airport                         0\n",
              "scheduled_departure_time                    0\n",
              "actual_departure_time                       0\n",
              "scheduled_elapsed_time_(minutes)            0\n",
              "actual_elapsed_time_(minutes)               0\n",
              "departure_delay_(minutes)                   0\n",
              "wheels-off_time                             0\n",
              "taxi-out_time_(minutes)                     0\n",
              "delay_carrier_(minutes)                     0\n",
              "delay_weather_(minutes)                     0\n",
              "delay_national_aviation_system_(minutes)    0\n",
              "delay_security_(minutes)                    0\n",
              "delay_late_aircraft_arrival_(minutes)       0\n",
              "iata_carrier_code                           0\n",
              "icao_carrier_code                           0\n",
              "carrier_name                                0\n",
              "iata_code                                   0\n",
              "latitude_deg                                0\n",
              "longitude_deg                               0\n",
              "date                                        0\n",
              "year                                        0\n",
              "month                                       0\n",
              "day                                         0\n",
              "delayed                                     0\n",
              "dtype: int64"
            ]
          },
          "metadata": {},
          "execution_count": 17
        }
      ],
      "source": [
        "#Drop rows with missing tail numbers\n",
        "merged_df = merged_df.dropna(subset=['tail_number'])\n",
        "\n",
        "#Confirm no values are missing\n",
        "merged_df.isna().sum()"
      ]
    },
    {
      "cell_type": "markdown",
      "metadata": {
        "id": "M_hojF1Xm_H0"
      },
      "source": [
        "##2.4 Preliminary Data Exploration"
      ]
    },
    {
      "cell_type": "code",
      "execution_count": 18,
      "metadata": {
        "id": "vN_MXC6hSge_",
        "colab": {
          "base_uri": "https://localhost:8080/"
        },
        "outputId": "9d5af45e-3e8e-4ab8-d0eb-caaaf347b57c"
      },
      "outputs": [
        {
          "output_type": "execute_result",
          "data": {
            "text/plain": [
              "Index(['carrier_code', 'flight_number', 'tail_number', 'destination_airport',\n",
              "       'scheduled_departure_time', 'actual_departure_time',\n",
              "       'scheduled_elapsed_time_(minutes)', 'actual_elapsed_time_(minutes)',\n",
              "       'departure_delay_(minutes)', 'wheels-off_time',\n",
              "       'taxi-out_time_(minutes)', 'delay_carrier_(minutes)',\n",
              "       'delay_weather_(minutes)', 'delay_national_aviation_system_(minutes)',\n",
              "       'delay_security_(minutes)', 'delay_late_aircraft_arrival_(minutes)',\n",
              "       'iata_carrier_code', 'icao_carrier_code', 'carrier_name', 'iata_code',\n",
              "       'latitude_deg', 'longitude_deg', 'date', 'year', 'month', 'day',\n",
              "       'delayed'],\n",
              "      dtype='object')"
            ]
          },
          "metadata": {},
          "execution_count": 18
        }
      ],
      "source": [
        "merged_df.keys()"
      ]
    },
    {
      "cell_type": "code",
      "source": [
        "merged_df.describe()"
      ],
      "metadata": {
        "colab": {
          "base_uri": "https://localhost:8080/",
          "height": 382
        },
        "id": "QJ8I2je39aj0",
        "outputId": "b8c7cbc6-4f89-4967-a361-d538db2f7fd2"
      },
      "execution_count": 19,
      "outputs": [
        {
          "output_type": "execute_result",
          "data": {
            "text/plain": [
              "       flight_number  scheduled_elapsed_time_(minutes)  \\\n",
              "count   1.149734e+06                      1.149734e+06   \n",
              "mean    1.401415e+03                      1.817972e+02   \n",
              "std     1.060391e+03                      9.785781e+01   \n",
              "min     1.000000e+00                      3.900000e+01   \n",
              "25%     6.010000e+02                      9.900000e+01   \n",
              "50%     1.213000e+03                      1.650000e+02   \n",
              "75%     2.043000e+03                      2.150000e+02   \n",
              "max     9.665000e+03                      7.050000e+02   \n",
              "\n",
              "       actual_elapsed_time_(minutes)  departure_delay_(minutes)  \\\n",
              "count                   1.149734e+06               1.149734e+06   \n",
              "mean                    1.722404e+02               9.574825e+00   \n",
              "std                     9.933887e+01               4.121892e+01   \n",
              "min                     0.000000e+00              -7.800000e+01   \n",
              "25%                     9.300000e+01              -6.000000e+00   \n",
              "50%                     1.530000e+02              -2.000000e+00   \n",
              "75%                     2.120000e+02               6.000000e+00   \n",
              "max                     7.640000e+02               1.545000e+03   \n",
              "\n",
              "       taxi-out_time_(minutes)  delay_carrier_(minutes)  \\\n",
              "count             1.149734e+06             1.149734e+06   \n",
              "mean              1.882457e+01             3.868506e+00   \n",
              "std               9.527963e+00             2.381750e+01   \n",
              "min               0.000000e+00             0.000000e+00   \n",
              "25%               1.400000e+01             0.000000e+00   \n",
              "50%               1.700000e+01             0.000000e+00   \n",
              "75%               2.200000e+01             0.000000e+00   \n",
              "max               1.750000e+02             1.545000e+03   \n",
              "\n",
              "       delay_weather_(minutes)  delay_national_aviation_system_(minutes)  \\\n",
              "count             1.149734e+06                              1.149734e+06   \n",
              "mean              4.677586e-01                              3.497343e+00   \n",
              "std               9.263006e+00                              1.638956e+01   \n",
              "min               0.000000e+00                              0.000000e+00   \n",
              "25%               0.000000e+00                              0.000000e+00   \n",
              "50%               0.000000e+00                              0.000000e+00   \n",
              "75%               0.000000e+00                              0.000000e+00   \n",
              "max               1.470000e+03                              1.237000e+03   \n",
              "\n",
              "       delay_security_(minutes)  delay_late_aircraft_arrival_(minutes)  \\\n",
              "count              1.149734e+06                           1.149734e+06   \n",
              "mean               1.710222e-02                           4.316471e+00   \n",
              "std                8.460177e-01                           2.230626e+01   \n",
              "min                0.000000e+00                           0.000000e+00   \n",
              "25%                0.000000e+00                           0.000000e+00   \n",
              "50%                0.000000e+00                           0.000000e+00   \n",
              "75%                0.000000e+00                           0.000000e+00   \n",
              "max                2.050000e+02                           1.509000e+03   \n",
              "\n",
              "               year         month           day       delayed  \n",
              "count  1.149734e+06  1.149734e+06  1.149734e+06  1.149734e+06  \n",
              "mean   2.016799e+03  6.539273e+00  1.574385e+01  3.394855e-01  \n",
              "std    3.020206e+00  3.380016e+00  8.763473e+00  4.735349e-01  \n",
              "min    2.012000e+03  1.000000e+00  1.000000e+00  0.000000e+00  \n",
              "25%    2.014000e+03  4.000000e+00  8.000000e+00  0.000000e+00  \n",
              "50%    2.017000e+03  7.000000e+00  1.600000e+01  0.000000e+00  \n",
              "75%    2.019000e+03  9.000000e+00  2.300000e+01  1.000000e+00  \n",
              "max    2.022000e+03  1.200000e+01  3.100000e+01  1.000000e+00  "
            ],
            "text/html": [
              "\n",
              "  <div id=\"df-e8caf0c1-b98f-4c91-8489-daf189374c7c\">\n",
              "    <div class=\"colab-df-container\">\n",
              "      <div>\n",
              "<style scoped>\n",
              "    .dataframe tbody tr th:only-of-type {\n",
              "        vertical-align: middle;\n",
              "    }\n",
              "\n",
              "    .dataframe tbody tr th {\n",
              "        vertical-align: top;\n",
              "    }\n",
              "\n",
              "    .dataframe thead th {\n",
              "        text-align: right;\n",
              "    }\n",
              "</style>\n",
              "<table border=\"1\" class=\"dataframe\">\n",
              "  <thead>\n",
              "    <tr style=\"text-align: right;\">\n",
              "      <th></th>\n",
              "      <th>flight_number</th>\n",
              "      <th>scheduled_elapsed_time_(minutes)</th>\n",
              "      <th>actual_elapsed_time_(minutes)</th>\n",
              "      <th>departure_delay_(minutes)</th>\n",
              "      <th>taxi-out_time_(minutes)</th>\n",
              "      <th>delay_carrier_(minutes)</th>\n",
              "      <th>delay_weather_(minutes)</th>\n",
              "      <th>delay_national_aviation_system_(minutes)</th>\n",
              "      <th>delay_security_(minutes)</th>\n",
              "      <th>delay_late_aircraft_arrival_(minutes)</th>\n",
              "      <th>year</th>\n",
              "      <th>month</th>\n",
              "      <th>day</th>\n",
              "      <th>delayed</th>\n",
              "    </tr>\n",
              "  </thead>\n",
              "  <tbody>\n",
              "    <tr>\n",
              "      <th>count</th>\n",
              "      <td>1.149734e+06</td>\n",
              "      <td>1.149734e+06</td>\n",
              "      <td>1.149734e+06</td>\n",
              "      <td>1.149734e+06</td>\n",
              "      <td>1.149734e+06</td>\n",
              "      <td>1.149734e+06</td>\n",
              "      <td>1.149734e+06</td>\n",
              "      <td>1.149734e+06</td>\n",
              "      <td>1.149734e+06</td>\n",
              "      <td>1.149734e+06</td>\n",
              "      <td>1.149734e+06</td>\n",
              "      <td>1.149734e+06</td>\n",
              "      <td>1.149734e+06</td>\n",
              "      <td>1.149734e+06</td>\n",
              "    </tr>\n",
              "    <tr>\n",
              "      <th>mean</th>\n",
              "      <td>1.401415e+03</td>\n",
              "      <td>1.817972e+02</td>\n",
              "      <td>1.722404e+02</td>\n",
              "      <td>9.574825e+00</td>\n",
              "      <td>1.882457e+01</td>\n",
              "      <td>3.868506e+00</td>\n",
              "      <td>4.677586e-01</td>\n",
              "      <td>3.497343e+00</td>\n",
              "      <td>1.710222e-02</td>\n",
              "      <td>4.316471e+00</td>\n",
              "      <td>2.016799e+03</td>\n",
              "      <td>6.539273e+00</td>\n",
              "      <td>1.574385e+01</td>\n",
              "      <td>3.394855e-01</td>\n",
              "    </tr>\n",
              "    <tr>\n",
              "      <th>std</th>\n",
              "      <td>1.060391e+03</td>\n",
              "      <td>9.785781e+01</td>\n",
              "      <td>9.933887e+01</td>\n",
              "      <td>4.121892e+01</td>\n",
              "      <td>9.527963e+00</td>\n",
              "      <td>2.381750e+01</td>\n",
              "      <td>9.263006e+00</td>\n",
              "      <td>1.638956e+01</td>\n",
              "      <td>8.460177e-01</td>\n",
              "      <td>2.230626e+01</td>\n",
              "      <td>3.020206e+00</td>\n",
              "      <td>3.380016e+00</td>\n",
              "      <td>8.763473e+00</td>\n",
              "      <td>4.735349e-01</td>\n",
              "    </tr>\n",
              "    <tr>\n",
              "      <th>min</th>\n",
              "      <td>1.000000e+00</td>\n",
              "      <td>3.900000e+01</td>\n",
              "      <td>0.000000e+00</td>\n",
              "      <td>-7.800000e+01</td>\n",
              "      <td>0.000000e+00</td>\n",
              "      <td>0.000000e+00</td>\n",
              "      <td>0.000000e+00</td>\n",
              "      <td>0.000000e+00</td>\n",
              "      <td>0.000000e+00</td>\n",
              "      <td>0.000000e+00</td>\n",
              "      <td>2.012000e+03</td>\n",
              "      <td>1.000000e+00</td>\n",
              "      <td>1.000000e+00</td>\n",
              "      <td>0.000000e+00</td>\n",
              "    </tr>\n",
              "    <tr>\n",
              "      <th>25%</th>\n",
              "      <td>6.010000e+02</td>\n",
              "      <td>9.900000e+01</td>\n",
              "      <td>9.300000e+01</td>\n",
              "      <td>-6.000000e+00</td>\n",
              "      <td>1.400000e+01</td>\n",
              "      <td>0.000000e+00</td>\n",
              "      <td>0.000000e+00</td>\n",
              "      <td>0.000000e+00</td>\n",
              "      <td>0.000000e+00</td>\n",
              "      <td>0.000000e+00</td>\n",
              "      <td>2.014000e+03</td>\n",
              "      <td>4.000000e+00</td>\n",
              "      <td>8.000000e+00</td>\n",
              "      <td>0.000000e+00</td>\n",
              "    </tr>\n",
              "    <tr>\n",
              "      <th>50%</th>\n",
              "      <td>1.213000e+03</td>\n",
              "      <td>1.650000e+02</td>\n",
              "      <td>1.530000e+02</td>\n",
              "      <td>-2.000000e+00</td>\n",
              "      <td>1.700000e+01</td>\n",
              "      <td>0.000000e+00</td>\n",
              "      <td>0.000000e+00</td>\n",
              "      <td>0.000000e+00</td>\n",
              "      <td>0.000000e+00</td>\n",
              "      <td>0.000000e+00</td>\n",
              "      <td>2.017000e+03</td>\n",
              "      <td>7.000000e+00</td>\n",
              "      <td>1.600000e+01</td>\n",
              "      <td>0.000000e+00</td>\n",
              "    </tr>\n",
              "    <tr>\n",
              "      <th>75%</th>\n",
              "      <td>2.043000e+03</td>\n",
              "      <td>2.150000e+02</td>\n",
              "      <td>2.120000e+02</td>\n",
              "      <td>6.000000e+00</td>\n",
              "      <td>2.200000e+01</td>\n",
              "      <td>0.000000e+00</td>\n",
              "      <td>0.000000e+00</td>\n",
              "      <td>0.000000e+00</td>\n",
              "      <td>0.000000e+00</td>\n",
              "      <td>0.000000e+00</td>\n",
              "      <td>2.019000e+03</td>\n",
              "      <td>9.000000e+00</td>\n",
              "      <td>2.300000e+01</td>\n",
              "      <td>1.000000e+00</td>\n",
              "    </tr>\n",
              "    <tr>\n",
              "      <th>max</th>\n",
              "      <td>9.665000e+03</td>\n",
              "      <td>7.050000e+02</td>\n",
              "      <td>7.640000e+02</td>\n",
              "      <td>1.545000e+03</td>\n",
              "      <td>1.750000e+02</td>\n",
              "      <td>1.545000e+03</td>\n",
              "      <td>1.470000e+03</td>\n",
              "      <td>1.237000e+03</td>\n",
              "      <td>2.050000e+02</td>\n",
              "      <td>1.509000e+03</td>\n",
              "      <td>2.022000e+03</td>\n",
              "      <td>1.200000e+01</td>\n",
              "      <td>3.100000e+01</td>\n",
              "      <td>1.000000e+00</td>\n",
              "    </tr>\n",
              "  </tbody>\n",
              "</table>\n",
              "</div>\n",
              "      <button class=\"colab-df-convert\" onclick=\"convertToInteractive('df-e8caf0c1-b98f-4c91-8489-daf189374c7c')\"\n",
              "              title=\"Convert this dataframe to an interactive table.\"\n",
              "              style=\"display:none;\">\n",
              "        \n",
              "  <svg xmlns=\"http://www.w3.org/2000/svg\" height=\"24px\"viewBox=\"0 0 24 24\"\n",
              "       width=\"24px\">\n",
              "    <path d=\"M0 0h24v24H0V0z\" fill=\"none\"/>\n",
              "    <path d=\"M18.56 5.44l.94 2.06.94-2.06 2.06-.94-2.06-.94-.94-2.06-.94 2.06-2.06.94zm-11 1L8.5 8.5l.94-2.06 2.06-.94-2.06-.94L8.5 2.5l-.94 2.06-2.06.94zm10 10l.94 2.06.94-2.06 2.06-.94-2.06-.94-.94-2.06-.94 2.06-2.06.94z\"/><path d=\"M17.41 7.96l-1.37-1.37c-.4-.4-.92-.59-1.43-.59-.52 0-1.04.2-1.43.59L10.3 9.45l-7.72 7.72c-.78.78-.78 2.05 0 2.83L4 21.41c.39.39.9.59 1.41.59.51 0 1.02-.2 1.41-.59l7.78-7.78 2.81-2.81c.8-.78.8-2.07 0-2.86zM5.41 20L4 18.59l7.72-7.72 1.47 1.35L5.41 20z\"/>\n",
              "  </svg>\n",
              "      </button>\n",
              "      \n",
              "  <style>\n",
              "    .colab-df-container {\n",
              "      display:flex;\n",
              "      flex-wrap:wrap;\n",
              "      gap: 12px;\n",
              "    }\n",
              "\n",
              "    .colab-df-convert {\n",
              "      background-color: #E8F0FE;\n",
              "      border: none;\n",
              "      border-radius: 50%;\n",
              "      cursor: pointer;\n",
              "      display: none;\n",
              "      fill: #1967D2;\n",
              "      height: 32px;\n",
              "      padding: 0 0 0 0;\n",
              "      width: 32px;\n",
              "    }\n",
              "\n",
              "    .colab-df-convert:hover {\n",
              "      background-color: #E2EBFA;\n",
              "      box-shadow: 0px 1px 2px rgba(60, 64, 67, 0.3), 0px 1px 3px 1px rgba(60, 64, 67, 0.15);\n",
              "      fill: #174EA6;\n",
              "    }\n",
              "\n",
              "    [theme=dark] .colab-df-convert {\n",
              "      background-color: #3B4455;\n",
              "      fill: #D2E3FC;\n",
              "    }\n",
              "\n",
              "    [theme=dark] .colab-df-convert:hover {\n",
              "      background-color: #434B5C;\n",
              "      box-shadow: 0px 1px 3px 1px rgba(0, 0, 0, 0.15);\n",
              "      filter: drop-shadow(0px 1px 2px rgba(0, 0, 0, 0.3));\n",
              "      fill: #FFFFFF;\n",
              "    }\n",
              "  </style>\n",
              "\n",
              "      <script>\n",
              "        const buttonEl =\n",
              "          document.querySelector('#df-e8caf0c1-b98f-4c91-8489-daf189374c7c button.colab-df-convert');\n",
              "        buttonEl.style.display =\n",
              "          google.colab.kernel.accessAllowed ? 'block' : 'none';\n",
              "\n",
              "        async function convertToInteractive(key) {\n",
              "          const element = document.querySelector('#df-e8caf0c1-b98f-4c91-8489-daf189374c7c');\n",
              "          const dataTable =\n",
              "            await google.colab.kernel.invokeFunction('convertToInteractive',\n",
              "                                                     [key], {});\n",
              "          if (!dataTable) return;\n",
              "\n",
              "          const docLinkHtml = 'Like what you see? Visit the ' +\n",
              "            '<a target=\"_blank\" href=https://colab.research.google.com/notebooks/data_table.ipynb>data table notebook</a>'\n",
              "            + ' to learn more about interactive tables.';\n",
              "          element.innerHTML = '';\n",
              "          dataTable['output_type'] = 'display_data';\n",
              "          await google.colab.output.renderOutput(dataTable, element);\n",
              "          const docLink = document.createElement('div');\n",
              "          docLink.innerHTML = docLinkHtml;\n",
              "          element.appendChild(docLink);\n",
              "        }\n",
              "      </script>\n",
              "    </div>\n",
              "  </div>\n",
              "  "
            ]
          },
          "metadata": {},
          "execution_count": 19
        }
      ]
    },
    {
      "cell_type": "code",
      "execution_count": 20,
      "metadata": {
        "colab": {
          "base_uri": "https://localhost:8080/"
        },
        "id": "Dsa5ae9Tacnn",
        "outputId": "c8452daf-dc70-446c-cace-ba009e231b8d"
      },
      "outputs": [
        {
          "output_type": "stream",
          "name": "stdout",
          "text": [
            "/content/drive/Shareddrives/IS833_Team_7_Project\n"
          ]
        }
      ],
      "source": [
        "#Set current directory to pathway where us-aiports.csv is\n",
        "%cd '/content/drive/Shareddrives/IS833_Team_7_Project/'"
      ]
    },
    {
      "cell_type": "code",
      "execution_count": 21,
      "metadata": {
        "id": "oeOaGKfKQ9on",
        "colab": {
          "base_uri": "https://localhost:8080/"
        },
        "outputId": "cbddb3fc-b011-42ee-c772-d7545cd813e1"
      },
      "outputs": [
        {
          "output_type": "execute_result",
          "data": {
            "text/plain": [
              "max     1545.00\n",
              "mean       9.57\n",
              "min      -78.00\n",
              "Name: departure_delay_(minutes), dtype: float64"
            ]
          },
          "metadata": {},
          "execution_count": 21
        }
      ],
      "source": [
        "#Examing max, min, and average for departure delays\n",
        "merged_df['departure_delay_(minutes)'].agg({'min', 'max', 'mean'}).round(2)"
      ]
    },
    {
      "cell_type": "code",
      "execution_count": 22,
      "metadata": {
        "id": "TQaRusavCrDQ",
        "colab": {
          "base_uri": "https://localhost:8080/",
          "height": 306
        },
        "outputId": "962add2e-b946-458d-afc3-726e119a652d"
      },
      "outputs": [
        {
          "output_type": "execute_result",
          "data": {
            "text/plain": [
              "  carrier_code  flight_number tail_number destination_airport  \\\n",
              "0           FL           16.0      N290AT                 BWI   \n",
              "2           FL          806.0      N991AT                 BWI   \n",
              "3           FL          812.0      N950AT                 BWI   \n",
              "\n",
              "  scheduled_departure_time actual_departure_time  \\\n",
              "0                    16:36                 16:31   \n",
              "2                     6:00                  5:57   \n",
              "3                     8:30                  8:23   \n",
              "\n",
              "   scheduled_elapsed_time_(minutes)  actual_elapsed_time_(minutes)  \\\n",
              "0                              92.0                           92.0   \n",
              "2                              92.0                           81.0   \n",
              "3                              94.0                           94.0   \n",
              "\n",
              "   departure_delay_(minutes) wheels-off_time  ...  icao_carrier_code  \\\n",
              "0                       -5.0           16:43  ...                TRS   \n",
              "2                       -3.0            6:08  ...                TRS   \n",
              "3                       -7.0            8:34  ...                TRS   \n",
              "\n",
              "      carrier_name  iata_code  latitude_deg  longitude_deg       date  year  \\\n",
              "0  AirTran Airways        BWI       39.1754     -76.668297 2012-01-01  2012   \n",
              "2  AirTran Airways        BWI       39.1754     -76.668297 2012-01-01  2012   \n",
              "3  AirTran Airways        BWI       39.1754     -76.668297 2012-01-01  2012   \n",
              "\n",
              "  month day delayed  \n",
              "0     1   1       0  \n",
              "2     1   1       0  \n",
              "3     1   1       0  \n",
              "\n",
              "[3 rows x 27 columns]"
            ],
            "text/html": [
              "\n",
              "  <div id=\"df-aa8c514c-1cc4-4e87-adf3-bcb8862efaef\">\n",
              "    <div class=\"colab-df-container\">\n",
              "      <div>\n",
              "<style scoped>\n",
              "    .dataframe tbody tr th:only-of-type {\n",
              "        vertical-align: middle;\n",
              "    }\n",
              "\n",
              "    .dataframe tbody tr th {\n",
              "        vertical-align: top;\n",
              "    }\n",
              "\n",
              "    .dataframe thead th {\n",
              "        text-align: right;\n",
              "    }\n",
              "</style>\n",
              "<table border=\"1\" class=\"dataframe\">\n",
              "  <thead>\n",
              "    <tr style=\"text-align: right;\">\n",
              "      <th></th>\n",
              "      <th>carrier_code</th>\n",
              "      <th>flight_number</th>\n",
              "      <th>tail_number</th>\n",
              "      <th>destination_airport</th>\n",
              "      <th>scheduled_departure_time</th>\n",
              "      <th>actual_departure_time</th>\n",
              "      <th>scheduled_elapsed_time_(minutes)</th>\n",
              "      <th>actual_elapsed_time_(minutes)</th>\n",
              "      <th>departure_delay_(minutes)</th>\n",
              "      <th>wheels-off_time</th>\n",
              "      <th>...</th>\n",
              "      <th>icao_carrier_code</th>\n",
              "      <th>carrier_name</th>\n",
              "      <th>iata_code</th>\n",
              "      <th>latitude_deg</th>\n",
              "      <th>longitude_deg</th>\n",
              "      <th>date</th>\n",
              "      <th>year</th>\n",
              "      <th>month</th>\n",
              "      <th>day</th>\n",
              "      <th>delayed</th>\n",
              "    </tr>\n",
              "  </thead>\n",
              "  <tbody>\n",
              "    <tr>\n",
              "      <th>0</th>\n",
              "      <td>FL</td>\n",
              "      <td>16.0</td>\n",
              "      <td>N290AT</td>\n",
              "      <td>BWI</td>\n",
              "      <td>16:36</td>\n",
              "      <td>16:31</td>\n",
              "      <td>92.0</td>\n",
              "      <td>92.0</td>\n",
              "      <td>-5.0</td>\n",
              "      <td>16:43</td>\n",
              "      <td>...</td>\n",
              "      <td>TRS</td>\n",
              "      <td>AirTran Airways</td>\n",
              "      <td>BWI</td>\n",
              "      <td>39.1754</td>\n",
              "      <td>-76.668297</td>\n",
              "      <td>2012-01-01</td>\n",
              "      <td>2012</td>\n",
              "      <td>1</td>\n",
              "      <td>1</td>\n",
              "      <td>0</td>\n",
              "    </tr>\n",
              "    <tr>\n",
              "      <th>2</th>\n",
              "      <td>FL</td>\n",
              "      <td>806.0</td>\n",
              "      <td>N991AT</td>\n",
              "      <td>BWI</td>\n",
              "      <td>6:00</td>\n",
              "      <td>5:57</td>\n",
              "      <td>92.0</td>\n",
              "      <td>81.0</td>\n",
              "      <td>-3.0</td>\n",
              "      <td>6:08</td>\n",
              "      <td>...</td>\n",
              "      <td>TRS</td>\n",
              "      <td>AirTran Airways</td>\n",
              "      <td>BWI</td>\n",
              "      <td>39.1754</td>\n",
              "      <td>-76.668297</td>\n",
              "      <td>2012-01-01</td>\n",
              "      <td>2012</td>\n",
              "      <td>1</td>\n",
              "      <td>1</td>\n",
              "      <td>0</td>\n",
              "    </tr>\n",
              "    <tr>\n",
              "      <th>3</th>\n",
              "      <td>FL</td>\n",
              "      <td>812.0</td>\n",
              "      <td>N950AT</td>\n",
              "      <td>BWI</td>\n",
              "      <td>8:30</td>\n",
              "      <td>8:23</td>\n",
              "      <td>94.0</td>\n",
              "      <td>94.0</td>\n",
              "      <td>-7.0</td>\n",
              "      <td>8:34</td>\n",
              "      <td>...</td>\n",
              "      <td>TRS</td>\n",
              "      <td>AirTran Airways</td>\n",
              "      <td>BWI</td>\n",
              "      <td>39.1754</td>\n",
              "      <td>-76.668297</td>\n",
              "      <td>2012-01-01</td>\n",
              "      <td>2012</td>\n",
              "      <td>1</td>\n",
              "      <td>1</td>\n",
              "      <td>0</td>\n",
              "    </tr>\n",
              "  </tbody>\n",
              "</table>\n",
              "<p>3 rows × 27 columns</p>\n",
              "</div>\n",
              "      <button class=\"colab-df-convert\" onclick=\"convertToInteractive('df-aa8c514c-1cc4-4e87-adf3-bcb8862efaef')\"\n",
              "              title=\"Convert this dataframe to an interactive table.\"\n",
              "              style=\"display:none;\">\n",
              "        \n",
              "  <svg xmlns=\"http://www.w3.org/2000/svg\" height=\"24px\"viewBox=\"0 0 24 24\"\n",
              "       width=\"24px\">\n",
              "    <path d=\"M0 0h24v24H0V0z\" fill=\"none\"/>\n",
              "    <path d=\"M18.56 5.44l.94 2.06.94-2.06 2.06-.94-2.06-.94-.94-2.06-.94 2.06-2.06.94zm-11 1L8.5 8.5l.94-2.06 2.06-.94-2.06-.94L8.5 2.5l-.94 2.06-2.06.94zm10 10l.94 2.06.94-2.06 2.06-.94-2.06-.94-.94-2.06-.94 2.06-2.06.94z\"/><path d=\"M17.41 7.96l-1.37-1.37c-.4-.4-.92-.59-1.43-.59-.52 0-1.04.2-1.43.59L10.3 9.45l-7.72 7.72c-.78.78-.78 2.05 0 2.83L4 21.41c.39.39.9.59 1.41.59.51 0 1.02-.2 1.41-.59l7.78-7.78 2.81-2.81c.8-.78.8-2.07 0-2.86zM5.41 20L4 18.59l7.72-7.72 1.47 1.35L5.41 20z\"/>\n",
              "  </svg>\n",
              "      </button>\n",
              "      \n",
              "  <style>\n",
              "    .colab-df-container {\n",
              "      display:flex;\n",
              "      flex-wrap:wrap;\n",
              "      gap: 12px;\n",
              "    }\n",
              "\n",
              "    .colab-df-convert {\n",
              "      background-color: #E8F0FE;\n",
              "      border: none;\n",
              "      border-radius: 50%;\n",
              "      cursor: pointer;\n",
              "      display: none;\n",
              "      fill: #1967D2;\n",
              "      height: 32px;\n",
              "      padding: 0 0 0 0;\n",
              "      width: 32px;\n",
              "    }\n",
              "\n",
              "    .colab-df-convert:hover {\n",
              "      background-color: #E2EBFA;\n",
              "      box-shadow: 0px 1px 2px rgba(60, 64, 67, 0.3), 0px 1px 3px 1px rgba(60, 64, 67, 0.15);\n",
              "      fill: #174EA6;\n",
              "    }\n",
              "\n",
              "    [theme=dark] .colab-df-convert {\n",
              "      background-color: #3B4455;\n",
              "      fill: #D2E3FC;\n",
              "    }\n",
              "\n",
              "    [theme=dark] .colab-df-convert:hover {\n",
              "      background-color: #434B5C;\n",
              "      box-shadow: 0px 1px 3px 1px rgba(0, 0, 0, 0.15);\n",
              "      filter: drop-shadow(0px 1px 2px rgba(0, 0, 0, 0.3));\n",
              "      fill: #FFFFFF;\n",
              "    }\n",
              "  </style>\n",
              "\n",
              "      <script>\n",
              "        const buttonEl =\n",
              "          document.querySelector('#df-aa8c514c-1cc4-4e87-adf3-bcb8862efaef button.colab-df-convert');\n",
              "        buttonEl.style.display =\n",
              "          google.colab.kernel.accessAllowed ? 'block' : 'none';\n",
              "\n",
              "        async function convertToInteractive(key) {\n",
              "          const element = document.querySelector('#df-aa8c514c-1cc4-4e87-adf3-bcb8862efaef');\n",
              "          const dataTable =\n",
              "            await google.colab.kernel.invokeFunction('convertToInteractive',\n",
              "                                                     [key], {});\n",
              "          if (!dataTable) return;\n",
              "\n",
              "          const docLinkHtml = 'Like what you see? Visit the ' +\n",
              "            '<a target=\"_blank\" href=https://colab.research.google.com/notebooks/data_table.ipynb>data table notebook</a>'\n",
              "            + ' to learn more about interactive tables.';\n",
              "          element.innerHTML = '';\n",
              "          dataTable['output_type'] = 'display_data';\n",
              "          await google.colab.output.renderOutput(dataTable, element);\n",
              "          const docLink = document.createElement('div');\n",
              "          docLink.innerHTML = docLinkHtml;\n",
              "          element.appendChild(docLink);\n",
              "        }\n",
              "      </script>\n",
              "    </div>\n",
              "  </div>\n",
              "  "
            ]
          },
          "metadata": {},
          "execution_count": 22
        }
      ],
      "source": [
        "merged_df[merged_df['departure_delay_(minutes)'] <= -1].head(3)"
      ]
    },
    {
      "cell_type": "code",
      "execution_count": 23,
      "metadata": {
        "id": "3v_6CNjbRkXS",
        "colab": {
          "base_uri": "https://localhost:8080/"
        },
        "outputId": "82eda743-11a5-4c5f-c6df-b4206a375589"
      },
      "outputs": [
        {
          "output_type": "execute_result",
          "data": {
            "text/plain": [
              "max     1545.00\n",
              "mean      31.71\n",
              "min        0.00\n",
              "Name: departure_delay_(minutes), dtype: float64"
            ]
          },
          "metadata": {},
          "execution_count": 23
        }
      ],
      "source": [
        "#Adjusting for flights that leave early (removing them in this subset)\n",
        "adj_merged_df = merged_df.copy()\n",
        "\n",
        "#For loop drops negative values to see adjusted min, mean, and max values\n",
        "for x in ['departure_delay_(minutes)']:\n",
        "  adj_merged_df = adj_merged_df[adj_merged_df[x] >= 0]  \n",
        "adj_merged_df.reset_index() \n",
        "\n",
        "\n",
        "adj_merged_df['departure_delay_(minutes)'].agg({'min', 'max', 'mean'}).round(2)"
      ]
    },
    {
      "cell_type": "code",
      "execution_count": 24,
      "metadata": {
        "id": "pi26fILxiP1z",
        "colab": {
          "base_uri": "https://localhost:8080/"
        },
        "outputId": "2006e0ea-5104-4f45-b699-4eb2a3a80ca2"
      },
      "outputs": [
        {
          "output_type": "execute_result",
          "data": {
            "text/plain": [
              "str"
            ]
          },
          "metadata": {},
          "execution_count": 24
        }
      ],
      "source": [
        "#Check type of values in latitude_deg series\n",
        "type(adj_merged_df['latitude_deg'].iloc[1])"
      ]
    },
    {
      "cell_type": "code",
      "execution_count": 25,
      "metadata": {
        "id": "8uFQiWKwijz-"
      },
      "outputs": [],
      "source": [
        "#Convert latitude_deg and longitude_deg columns to float\n",
        "adj_merged_df['latitude_deg'] = pd.to_numeric(adj_merged_df['latitude_deg'])\n",
        "adj_merged_df['longitude_deg'] = pd.to_numeric(adj_merged_df['longitude_deg'])\n"
      ]
    },
    {
      "cell_type": "code",
      "execution_count": 26,
      "metadata": {
        "id": "qq5wkoqLiudW",
        "colab": {
          "base_uri": "https://localhost:8080/"
        },
        "outputId": "4034fe51-3a66-4f25-bfb4-b964bab949e4"
      },
      "outputs": [
        {
          "output_type": "execute_result",
          "data": {
            "text/plain": [
              "numpy.float64"
            ]
          },
          "metadata": {},
          "execution_count": 26
        }
      ],
      "source": [
        "#Verify value type\n",
        "type(adj_merged_df['latitude_deg'].iloc[1])"
      ]
    },
    {
      "cell_type": "code",
      "execution_count": 27,
      "metadata": {
        "id": "q3nR3xZjp6Dq"
      },
      "outputs": [],
      "source": [
        "#Install folium library for heatmap visualization\n",
        "!pip install folium -q"
      ]
    },
    {
      "cell_type": "code",
      "execution_count": 28,
      "metadata": {
        "id": "mh0reR9K0m07",
        "colab": {
          "base_uri": "https://localhost:8080/"
        },
        "outputId": "966d0c99-c19a-4bb3-9916-f784afc0b5d4"
      },
      "outputs": [
        {
          "output_type": "execute_result",
          "data": {
            "text/plain": [
              "(464228, 27)"
            ]
          },
          "metadata": {},
          "execution_count": 28
        }
      ],
      "source": [
        "#Examine shape of new adjusted df\n",
        "adj_merged_df.shape"
      ]
    },
    {
      "cell_type": "markdown",
      "metadata": {
        "id": "PChuekVGnDb5"
      },
      "source": [
        "## 2.4 Data Ingestion, Cleaning, Exploration Conclusions\n",
        "We imported all of our relevant data and stored it under the name merged_df. This dataframe includes data from various sources. Outside of our original dataset, we imported a dataset listing each domestic airport's latitude and longitude coordinates. In addition to this, we imported a dataset that contained the flight carrier name as well as the carrier code associated with each individual airline. From this, we merged all datasets together to simplify and work with a singular dataframe.\n",
        "\n"
      ]
    },
    {
      "cell_type": "markdown",
      "metadata": {
        "id": "37w1WBxeceil"
      },
      "source": [
        "#**3 Data Visualization and Analysis**"
      ]
    },
    {
      "cell_type": "markdown",
      "metadata": {
        "id": "xMJqhULbHjm1"
      },
      "source": [
        "#3.1 The Concentration of Delays by Geographic Location\n",
        "The geographic heatmap displays the density of flight delays across the United States. The HeatMap function from the Folium library is utilized to generate a heatmap mask on a geographic map that shows the concentration of departure delays. The delay values are normalized using sklearn’s MinMaxScaler to ensure that they fall within a range of 0 to 1, which ensures a fair comparison of delays across different airports. \n",
        "\n"
      ]
    },
    {
      "cell_type": "code",
      "execution_count": 29,
      "metadata": {
        "id": "b1evUc-J1RhQ"
      },
      "outputs": [],
      "source": [
        "#Import maxminscaler\n",
        "from sklearn.preprocessing import MinMaxScaler\n",
        "\n",
        "#Create MinMaxScaler var\n",
        "scaler = MinMaxScaler(feature_range=(0,1))\n",
        "\n",
        "#Scale delay values to range of 0 to 1\n",
        "adj_merged_df['scaled_delay'] = scaler.fit_transform(adj_merged_df[['departure_delay_(minutes)']])\n",
        "\n",
        "\n",
        "#manually adding weights similar to the folium documentation would take too long - used MinMaxScaler to normalize departure delays\n"
      ]
    },
    {
      "cell_type": "code",
      "execution_count": 30,
      "metadata": {
        "id": "fD5_PkCd1HO-",
        "colab": {
          "base_uri": "https://localhost:8080/"
        },
        "outputId": "6945013c-68cd-4371-9fa6-3c1f89d7ac9e"
      },
      "outputs": [
        {
          "output_type": "stream",
          "name": "stdout",
          "text": [
            "latitude_deg     0\n",
            "longitude_deg    0\n",
            "scaled_delay     0\n",
            "dtype: int64\n"
          ]
        }
      ],
      "source": [
        "#Check for NaN values in the latitude_deg, longitude_deg, and scaled_delay columns\n",
        "print(adj_merged_df[['latitude_deg', 'longitude_deg', 'scaled_delay']].isna().sum())"
      ]
    },
    {
      "cell_type": "code",
      "execution_count": 31,
      "metadata": {
        "id": "I-8buOse0auY",
        "colab": {
          "base_uri": "https://localhost:8080/",
          "height": 980
        },
        "outputId": "8e907e4e-3fe3-4f59-9fc2-3cd8e9e2ed57"
      },
      "outputs": [
        {
          "output_type": "execute_result",
          "data": {
            "text/plain": [
              "<folium.folium.Map at 0x7fa069ab9160>"
            ],
            "text/html": [
              "<div style=\"width:100%;\"><div style=\"position:relative;width:100%;height:0;padding-bottom:60%;\"><span style=\"color:#565656\">Make this Notebook Trusted to load map: File -> Trust Notebook</span><iframe srcdoc=\"&lt;!DOCTYPE html&gt;\n",
              "&lt;html&gt;\n",
              "&lt;head&gt;\n",
              "    \n",
              "    &lt;meta http-equiv=&quot;content-type&quot; content=&quot;text/html; charset=UTF-8&quot; /&gt;\n",
              "    \n",
              "        &lt;script&gt;\n",
              "            L_NO_TOUCH = false;\n",
              "            L_DISABLE_3D = false;\n",
              "        &lt;/script&gt;\n",
              "    \n",
              "    &lt;style&gt;html, body {width: 100%;height: 100%;margin: 0;padding: 0;}&lt;/style&gt;\n",
              "    &lt;style&gt;#map {position:absolute;top:0;bottom:0;right:0;left:0;}&lt;/style&gt;\n",
              "    &lt;script src=&quot;https://cdn.jsdelivr.net/npm/leaflet@1.9.3/dist/leaflet.js&quot;&gt;&lt;/script&gt;\n",
              "    &lt;script src=&quot;https://code.jquery.com/jquery-1.12.4.min.js&quot;&gt;&lt;/script&gt;\n",
              "    &lt;script src=&quot;https://cdn.jsdelivr.net/npm/bootstrap@5.2.2/dist/js/bootstrap.bundle.min.js&quot;&gt;&lt;/script&gt;\n",
              "    &lt;script src=&quot;https://cdnjs.cloudflare.com/ajax/libs/Leaflet.awesome-markers/2.0.2/leaflet.awesome-markers.js&quot;&gt;&lt;/script&gt;\n",
              "    &lt;link rel=&quot;stylesheet&quot; href=&quot;https://cdn.jsdelivr.net/npm/leaflet@1.9.3/dist/leaflet.css&quot;/&gt;\n",
              "    &lt;link rel=&quot;stylesheet&quot; href=&quot;https://cdn.jsdelivr.net/npm/bootstrap@5.2.2/dist/css/bootstrap.min.css&quot;/&gt;\n",
              "    &lt;link rel=&quot;stylesheet&quot; href=&quot;https://netdna.bootstrapcdn.com/bootstrap/3.0.0/css/bootstrap.min.css&quot;/&gt;\n",
              "    &lt;link rel=&quot;stylesheet&quot; href=&quot;https://cdn.jsdelivr.net/npm/@fortawesome/fontawesome-free@6.2.0/css/all.min.css&quot;/&gt;\n",
              "    &lt;link rel=&quot;stylesheet&quot; href=&quot;https://cdnjs.cloudflare.com/ajax/libs/Leaflet.awesome-markers/2.0.2/leaflet.awesome-markers.css&quot;/&gt;\n",
              "    &lt;link rel=&quot;stylesheet&quot; href=&quot;https://cdn.jsdelivr.net/gh/python-visualization/folium/folium/templates/leaflet.awesome.rotate.min.css&quot;/&gt;\n",
              "    \n",
              "            &lt;meta name=&quot;viewport&quot; content=&quot;width=device-width,\n",
              "                initial-scale=1.0, maximum-scale=1.0, user-scalable=no&quot; /&gt;\n",
              "            &lt;style&gt;\n",
              "                #map_29664e106d3a9d7f25cbd905368edb7c {\n",
              "                    position: relative;\n",
              "                    width: 100.0%;\n",
              "                    height: 100.0%;\n",
              "                    left: 0.0%;\n",
              "                    top: 0.0%;\n",
              "                }\n",
              "                .leaflet-container { font-size: 1rem; }\n",
              "            &lt;/style&gt;\n",
              "        \n",
              "    &lt;script src=&quot;https://cdn.jsdelivr.net/gh/python-visualization/folium@main/folium/templates/leaflet_heat.min.js&quot;&gt;&lt;/script&gt;\n",
              "&lt;/head&gt;\n",
              "&lt;body&gt;\n",
              "    \n",
              "    \n",
              "            &lt;div class=&quot;folium-map&quot; id=&quot;map_29664e106d3a9d7f25cbd905368edb7c&quot; &gt;&lt;/div&gt;\n",
              "        \n",
              "&lt;/body&gt;\n",
              "&lt;script&gt;\n",
              "    \n",
              "    \n",
              "            var map_29664e106d3a9d7f25cbd905368edb7c = L.map(\n",
              "                &quot;map_29664e106d3a9d7f25cbd905368edb7c&quot;,\n",
              "                {\n",
              "                    center: [42.3601, -71.057083],\n",
              "                    crs: L.CRS.EPSG3857,\n",
              "                    zoom: 4.8,\n",
              "                    zoomControl: true,\n",
              "                    preferCanvas: false,\n",
              "                }\n",
              "            );\n",
              "\n",
              "            \n",
              "\n",
              "        \n",
              "    \n",
              "            var tile_layer_b675850dfb65e4c13cb43beea38050c4 = L.tileLayer(\n",
              "                &quot;https://{s}.tile.openstreetmap.org/{z}/{x}/{y}.png&quot;,\n",
              "                {&quot;attribution&quot;: &quot;Data by \\u0026copy; \\u003ca target=\\&quot;_blank\\&quot; href=\\&quot;http://openstreetmap.org\\&quot;\\u003eOpenStreetMap\\u003c/a\\u003e, under \\u003ca target=\\&quot;_blank\\&quot; href=\\&quot;http://www.openstreetmap.org/copyright\\&quot;\\u003eODbL\\u003c/a\\u003e.&quot;, &quot;detectRetina&quot;: false, &quot;maxNativeZoom&quot;: 18, &quot;maxZoom&quot;: 18, &quot;minZoom&quot;: 0, &quot;noWrap&quot;: false, &quot;opacity&quot;: 1, &quot;subdomains&quot;: &quot;abc&quot;, &quot;tms&quot;: false}\n",
              "            ).addTo(map_29664e106d3a9d7f25cbd905368edb7c);\n",
              "        \n",
              "    \n",
              "            var heat_map_ee5ff29c7529d743c528a04e3434f2ca = L.heatLayer(\n",
              "                [[39.1754, -76.668297], [33.6367, -84.428101], [40.91609954833984, -81.44219970703125], [42.94720077514648, -87.89659881591797], [26.53619956970215, -81.75520324707031], [28.429399490356445, -81.30899810791016], [37.131901, -76.492996], [27.395399, -82.554398], [39.7173, -86.294403], [47.449162, -122.311134], [45.58869934, -122.5979996], [32.7336006165, -117.190002441], [37.61899948120117, -122.375], [33.942501, -118.407997], [41.9786, -87.9048], [32.896801, -97.038002], [25.79319953918457, -80.29060363769531], [40.639447, -73.779317], [33.435302, -112.005905], [35.2140007019043, -80.94309997558594], [39.87189865112305, -75.24109649658203], [38.8521, -77.037697], [40.777199, -73.872597], [30.197535, -97.662015], [26.072599, -80.152702], [38.748697, -90.370003], [40.49150085, -80.23290253], [44.882, -93.221802], [29.984399795532227, -95.34140014648438], [43.6072998046875, -110.73799896240234], [30.4734, -87.1866], [43.1399, -89.337502], [39.048801, -84.667801], [34.270599365234375, -77.90260314941406], [38.1744, -85.736], [39.998001, -82.891899], [43.1189, -77.672401], [43.11119842529297, -76.1063003540039], [41.4117012024, -81.8498001099], [35.87760162353516, -78.7874984741211], [38.9445, -77.455803], [42.212398529052734, -83.35340118408203], [40.692501, -74.168701], [37.50519943237305, -77.3197021484375], [30.49410057067871, -81.68789672851562], [36.8946, -76.201202], [32.898602, -80.040497], [35.04240036010742, -89.97669982910156], [33.6796989441, -78.9282989502], [40.785749, -111.979746], [26.68320083618164, -80.09559631347656], [27.975500106811523, -82.533203125], [36.083361, -115.151817], [29.99340057373047, -90.25800323486328], [32.12760162, -81.20210266], [36.1245002746582, -86.6781997680664], [39.861698150635, -104.672996521], [39.2976, -94.713898], [42.94049835, -78.73220062], [41.708698, -86.317299], [44.8074, -68.828102], [21.32062, -157.924228], [33.816523, -118.149891], [37.362452, -121.929188], [29.645399, -95.2789], [34.197703, -118.356378], [38.69540023803711, -121.59100341796876], [40.48120117, -107.2180023], [45.77750015, -111.1529999], [24.556101, -81.759598], [33.8297, -116.507004], [38.5097999573, -107.893997192], [29.533701, -98.469803], [41.3931007385, -70.6143035889], [41.25310135, -70.06020355], [37.721298, -122.221001], [35.436199, -82.541801], [41.785999, -87.752403], [32.847099, -96.851799]],\n",
              "                {&quot;blur&quot;: 15, &quot;maxZoom&quot;: 18, &quot;minOpacity&quot;: 0.5, &quot;radius&quot;: 25}\n",
              "            ).addTo(map_29664e106d3a9d7f25cbd905368edb7c);\n",
              "        \n",
              "&lt;/script&gt;\n",
              "&lt;/html&gt;\" style=\"position:absolute;width:100%;height:100%;left:0;top:0;border:none !important;\" allowfullscreen webkitallowfullscreen mozallowfullscreen></iframe></div></div>"
            ]
          },
          "metadata": {},
          "execution_count": 31
        }
      ],
      "source": [
        "import folium\n",
        "from folium.plugins import HeatMap\n",
        "\n",
        "map_obj = folium.Map(location = [42.3601, -71.057083], zoom_start = 4.8)\n",
        "\n",
        "lats_longs = adj_merged_df[['latitude_deg', 'longitude_deg']].drop_duplicates()\n",
        "HeatMap(lats_longs).add_to(map_obj)\n",
        "\n",
        "map_obj\n"
      ]
    },
    {
      "cell_type": "code",
      "source": [
        "#Ssave the map as an HTML file\n",
        "map_obj.save('geo_heatmap.html')\n"
      ],
      "metadata": {
        "id": "lPjYqCU91vbN"
      },
      "execution_count": 32,
      "outputs": []
    },
    {
      "cell_type": "markdown",
      "metadata": {
        "id": "nSxxbJlFy7yz"
      },
      "source": [
        "##3.1.1 Heatmap Conclusions\n",
        "\n",
        "At first glance, one might interpret the red areas as simply airports that have the most amount of flights, but thanks to the MinMaxScaler class in the sklear.preprocessing module, this is in fact a normalized comparison that clearly shows which destination airports around the country, when flying from BOS, have higher concentrations of departure delayed flights.\n",
        "\n",
        "Surprisingly, an extremely busy airport such as ORD in Illinois does not have significant delays, however, most other Tier-1 cities with busy airports typically show to be red - at the higher end of average delays. Users can easily determine which airports or states should be avoided if they want to avoid departure delays, which is especially useful for connecting flights and time-sensitive travel.\n",
        "\n"
      ]
    },
    {
      "cell_type": "markdown",
      "metadata": {
        "id": "oxM6MO38HvPC"
      },
      "source": [
        "#3.2 Airports with Highest Number of Flights\n",
        "This table provides information about the highest number of flights.\n",
        "This code determines the number of flights and average delay time for each destination airport in the merged dataset. It calculates the total number of flights and sorts them in descending order, then computes the sum of departure delays, and the average delay time, and creates a new dataframe with the top 10 airports by flight volume. The resulting dataframe is printed to the console.\n",
        "\n",
        "Once we were able to visualize on a geographic map, concentrations of departure delays, we wanted to further investigate the actual airports with highest departure delay times and count of flights. \n",
        "\n"
      ]
    },
    {
      "cell_type": "code",
      "execution_count": 33,
      "metadata": {
        "id": "byCHnnP-qv5O",
        "colab": {
          "base_uri": "https://localhost:8080/"
        },
        "outputId": "d3ab83fd-c807-4128-dccd-603e74477e93"
      },
      "outputs": [
        {
          "output_type": "stream",
          "name": "stdout",
          "text": [
            "                     departure_delay_(minutes)_x  departure_delay_(minutes)_y\n",
            "destination_airport                                                          \n",
            "LGA                                    41.641853                        17719\n",
            "EWR                                    40.748625                        20364\n",
            "JFK                                    40.555515                        19211\n",
            "PHL                                    37.788273                        16611\n",
            "DCA                                    34.826970                        22736\n",
            "ORD                                    34.043257                        25892\n",
            "SFO                                    30.083913                        20140\n",
            "LAX                                    28.301788                        18122\n",
            "BWI                                    27.882073                        21225\n",
            "ATL                                    25.985552                        25124\n"
          ]
        }
      ],
      "source": [
        "#Visualize airports with highest number of flights (12ish) and use bar chart that shows percentage of flights that are on time or total amount of delayed flights\n",
        "total_flights_airports = adj_merged_df.groupby('destination_airport')['departure_delay_(minutes)'].count()\n",
        "total_flights_airports = total_flights_airports.sort_values(ascending=False)\n",
        "delay_flights_airports = adj_merged_df[adj_merged_df['departure_delay_(minutes)'] > 0].groupby('destination_airport')['departure_delay_(minutes)'].sum()\n",
        "delay_average_airports = delay_flights_airports / total_flights_airports\n",
        "\n",
        "barplot_airports = total_flights_airports[:10]\n",
        "barplot_airports = pd.merge(delay_average_airports,barplot_airports,on='destination_airport').sort_values(by = 'departure_delay_(minutes)_x', ascending=False)\n",
        "print(barplot_airports)"
      ]
    },
    {
      "cell_type": "markdown",
      "metadata": {
        "id": "l9SO5AmvHx9t"
      },
      "source": [
        "#3.3 Percentage of Delay Flight by Airline\n",
        "The bar chart provides a clear legible representation of the percentage of delayed flights for each airline, ranked in descending order. This information can support users in making informed decisions and planning their travel with a particular airline based on their performance in terms of flight delays.\n",
        "\n"
      ]
    },
    {
      "cell_type": "code",
      "execution_count": 34,
      "metadata": {
        "id": "ArSvfsd2nJQ6",
        "colab": {
          "base_uri": "https://localhost:8080/",
          "height": 306
        },
        "outputId": "d12cd2b7-7905-4570-d429-a04e7ec65d52"
      },
      "outputs": [
        {
          "output_type": "execute_result",
          "data": {
            "text/plain": [
              "   carrier_code  flight_number tail_number destination_airport  \\\n",
              "1            FL          804.0      N292AT                 BWI   \n",
              "6            FL          172.0      N924AT                 BWI   \n",
              "10           FL           16.0      N291AT                 BWI   \n",
              "\n",
              "   scheduled_departure_time actual_departure_time  \\\n",
              "1                     19:15                 19:15   \n",
              "6                     15:05                 15:50   \n",
              "10                    16:36                 17:06   \n",
              "\n",
              "    scheduled_elapsed_time_(minutes)  actual_elapsed_time_(minutes)  \\\n",
              "1                               95.0                          101.0   \n",
              "6                               90.0                           88.0   \n",
              "10                              92.0                          106.0   \n",
              "\n",
              "    departure_delay_(minutes) wheels-off_time  ...     carrier_name  \\\n",
              "1                         0.0           19:28  ...  AirTran Airways   \n",
              "6                        45.0           16:03  ...  AirTran Airways   \n",
              "10                       30.0           17:21  ...  AirTran Airways   \n",
              "\n",
              "    iata_code  latitude_deg  longitude_deg       date  year month day delayed  \\\n",
              "1         BWI       39.1754     -76.668297 2012-01-01  2012     1   1       0   \n",
              "6         BWI       39.1754     -76.668297 2013-01-01  2013     1   1       1   \n",
              "10        BWI       39.1754     -76.668297 2012-01-02  2012     1   2       1   \n",
              "\n",
              "   scaled_delay  \n",
              "1      0.000000  \n",
              "6      0.029126  \n",
              "10     0.019417  \n",
              "\n",
              "[3 rows x 28 columns]"
            ],
            "text/html": [
              "\n",
              "  <div id=\"df-ce2058cb-3972-468a-8c8f-4abbae1086c9\">\n",
              "    <div class=\"colab-df-container\">\n",
              "      <div>\n",
              "<style scoped>\n",
              "    .dataframe tbody tr th:only-of-type {\n",
              "        vertical-align: middle;\n",
              "    }\n",
              "\n",
              "    .dataframe tbody tr th {\n",
              "        vertical-align: top;\n",
              "    }\n",
              "\n",
              "    .dataframe thead th {\n",
              "        text-align: right;\n",
              "    }\n",
              "</style>\n",
              "<table border=\"1\" class=\"dataframe\">\n",
              "  <thead>\n",
              "    <tr style=\"text-align: right;\">\n",
              "      <th></th>\n",
              "      <th>carrier_code</th>\n",
              "      <th>flight_number</th>\n",
              "      <th>tail_number</th>\n",
              "      <th>destination_airport</th>\n",
              "      <th>scheduled_departure_time</th>\n",
              "      <th>actual_departure_time</th>\n",
              "      <th>scheduled_elapsed_time_(minutes)</th>\n",
              "      <th>actual_elapsed_time_(minutes)</th>\n",
              "      <th>departure_delay_(minutes)</th>\n",
              "      <th>wheels-off_time</th>\n",
              "      <th>...</th>\n",
              "      <th>carrier_name</th>\n",
              "      <th>iata_code</th>\n",
              "      <th>latitude_deg</th>\n",
              "      <th>longitude_deg</th>\n",
              "      <th>date</th>\n",
              "      <th>year</th>\n",
              "      <th>month</th>\n",
              "      <th>day</th>\n",
              "      <th>delayed</th>\n",
              "      <th>scaled_delay</th>\n",
              "    </tr>\n",
              "  </thead>\n",
              "  <tbody>\n",
              "    <tr>\n",
              "      <th>1</th>\n",
              "      <td>FL</td>\n",
              "      <td>804.0</td>\n",
              "      <td>N292AT</td>\n",
              "      <td>BWI</td>\n",
              "      <td>19:15</td>\n",
              "      <td>19:15</td>\n",
              "      <td>95.0</td>\n",
              "      <td>101.0</td>\n",
              "      <td>0.0</td>\n",
              "      <td>19:28</td>\n",
              "      <td>...</td>\n",
              "      <td>AirTran Airways</td>\n",
              "      <td>BWI</td>\n",
              "      <td>39.1754</td>\n",
              "      <td>-76.668297</td>\n",
              "      <td>2012-01-01</td>\n",
              "      <td>2012</td>\n",
              "      <td>1</td>\n",
              "      <td>1</td>\n",
              "      <td>0</td>\n",
              "      <td>0.000000</td>\n",
              "    </tr>\n",
              "    <tr>\n",
              "      <th>6</th>\n",
              "      <td>FL</td>\n",
              "      <td>172.0</td>\n",
              "      <td>N924AT</td>\n",
              "      <td>BWI</td>\n",
              "      <td>15:05</td>\n",
              "      <td>15:50</td>\n",
              "      <td>90.0</td>\n",
              "      <td>88.0</td>\n",
              "      <td>45.0</td>\n",
              "      <td>16:03</td>\n",
              "      <td>...</td>\n",
              "      <td>AirTran Airways</td>\n",
              "      <td>BWI</td>\n",
              "      <td>39.1754</td>\n",
              "      <td>-76.668297</td>\n",
              "      <td>2013-01-01</td>\n",
              "      <td>2013</td>\n",
              "      <td>1</td>\n",
              "      <td>1</td>\n",
              "      <td>1</td>\n",
              "      <td>0.029126</td>\n",
              "    </tr>\n",
              "    <tr>\n",
              "      <th>10</th>\n",
              "      <td>FL</td>\n",
              "      <td>16.0</td>\n",
              "      <td>N291AT</td>\n",
              "      <td>BWI</td>\n",
              "      <td>16:36</td>\n",
              "      <td>17:06</td>\n",
              "      <td>92.0</td>\n",
              "      <td>106.0</td>\n",
              "      <td>30.0</td>\n",
              "      <td>17:21</td>\n",
              "      <td>...</td>\n",
              "      <td>AirTran Airways</td>\n",
              "      <td>BWI</td>\n",
              "      <td>39.1754</td>\n",
              "      <td>-76.668297</td>\n",
              "      <td>2012-01-02</td>\n",
              "      <td>2012</td>\n",
              "      <td>1</td>\n",
              "      <td>2</td>\n",
              "      <td>1</td>\n",
              "      <td>0.019417</td>\n",
              "    </tr>\n",
              "  </tbody>\n",
              "</table>\n",
              "<p>3 rows × 28 columns</p>\n",
              "</div>\n",
              "      <button class=\"colab-df-convert\" onclick=\"convertToInteractive('df-ce2058cb-3972-468a-8c8f-4abbae1086c9')\"\n",
              "              title=\"Convert this dataframe to an interactive table.\"\n",
              "              style=\"display:none;\">\n",
              "        \n",
              "  <svg xmlns=\"http://www.w3.org/2000/svg\" height=\"24px\"viewBox=\"0 0 24 24\"\n",
              "       width=\"24px\">\n",
              "    <path d=\"M0 0h24v24H0V0z\" fill=\"none\"/>\n",
              "    <path d=\"M18.56 5.44l.94 2.06.94-2.06 2.06-.94-2.06-.94-.94-2.06-.94 2.06-2.06.94zm-11 1L8.5 8.5l.94-2.06 2.06-.94-2.06-.94L8.5 2.5l-.94 2.06-2.06.94zm10 10l.94 2.06.94-2.06 2.06-.94-2.06-.94-.94-2.06-.94 2.06-2.06.94z\"/><path d=\"M17.41 7.96l-1.37-1.37c-.4-.4-.92-.59-1.43-.59-.52 0-1.04.2-1.43.59L10.3 9.45l-7.72 7.72c-.78.78-.78 2.05 0 2.83L4 21.41c.39.39.9.59 1.41.59.51 0 1.02-.2 1.41-.59l7.78-7.78 2.81-2.81c.8-.78.8-2.07 0-2.86zM5.41 20L4 18.59l7.72-7.72 1.47 1.35L5.41 20z\"/>\n",
              "  </svg>\n",
              "      </button>\n",
              "      \n",
              "  <style>\n",
              "    .colab-df-container {\n",
              "      display:flex;\n",
              "      flex-wrap:wrap;\n",
              "      gap: 12px;\n",
              "    }\n",
              "\n",
              "    .colab-df-convert {\n",
              "      background-color: #E8F0FE;\n",
              "      border: none;\n",
              "      border-radius: 50%;\n",
              "      cursor: pointer;\n",
              "      display: none;\n",
              "      fill: #1967D2;\n",
              "      height: 32px;\n",
              "      padding: 0 0 0 0;\n",
              "      width: 32px;\n",
              "    }\n",
              "\n",
              "    .colab-df-convert:hover {\n",
              "      background-color: #E2EBFA;\n",
              "      box-shadow: 0px 1px 2px rgba(60, 64, 67, 0.3), 0px 1px 3px 1px rgba(60, 64, 67, 0.15);\n",
              "      fill: #174EA6;\n",
              "    }\n",
              "\n",
              "    [theme=dark] .colab-df-convert {\n",
              "      background-color: #3B4455;\n",
              "      fill: #D2E3FC;\n",
              "    }\n",
              "\n",
              "    [theme=dark] .colab-df-convert:hover {\n",
              "      background-color: #434B5C;\n",
              "      box-shadow: 0px 1px 3px 1px rgba(0, 0, 0, 0.15);\n",
              "      filter: drop-shadow(0px 1px 2px rgba(0, 0, 0, 0.3));\n",
              "      fill: #FFFFFF;\n",
              "    }\n",
              "  </style>\n",
              "\n",
              "      <script>\n",
              "        const buttonEl =\n",
              "          document.querySelector('#df-ce2058cb-3972-468a-8c8f-4abbae1086c9 button.colab-df-convert');\n",
              "        buttonEl.style.display =\n",
              "          google.colab.kernel.accessAllowed ? 'block' : 'none';\n",
              "\n",
              "        async function convertToInteractive(key) {\n",
              "          const element = document.querySelector('#df-ce2058cb-3972-468a-8c8f-4abbae1086c9');\n",
              "          const dataTable =\n",
              "            await google.colab.kernel.invokeFunction('convertToInteractive',\n",
              "                                                     [key], {});\n",
              "          if (!dataTable) return;\n",
              "\n",
              "          const docLinkHtml = 'Like what you see? Visit the ' +\n",
              "            '<a target=\"_blank\" href=https://colab.research.google.com/notebooks/data_table.ipynb>data table notebook</a>'\n",
              "            + ' to learn more about interactive tables.';\n",
              "          element.innerHTML = '';\n",
              "          dataTable['output_type'] = 'display_data';\n",
              "          await google.colab.output.renderOutput(dataTable, element);\n",
              "          const docLink = document.createElement('div');\n",
              "          docLink.innerHTML = docLinkHtml;\n",
              "          element.appendChild(docLink);\n",
              "        }\n",
              "      </script>\n",
              "    </div>\n",
              "  </div>\n",
              "  "
            ]
          },
          "metadata": {},
          "execution_count": 34
        }
      ],
      "source": [
        "adj_merged_df.head(3)"
      ]
    },
    {
      "cell_type": "code",
      "execution_count": 35,
      "metadata": {
        "colab": {
          "base_uri": "https://localhost:8080/",
          "height": 877
        },
        "id": "8Mrx0hjarH0V",
        "outputId": "f0d7a60c-2bb8-4b71-f246-9538f8f91dcc"
      },
      "outputs": [
        {
          "output_type": "display_data",
          "data": {
            "text/plain": [
              "<Figure size 1000x1000 with 1 Axes>"
            ],
            "image/png": "[encoded data removed]"
          },
          "metadata": {}
        }
      ],
      "source": [
        "#Graph showing delays based on airline(carrier code)\n",
        "import matplotlib.pyplot as plt\n",
        "\n",
        "total_flights = merged_df.groupby('carrier_name')['departure_delay_(minutes)'].count()\n",
        "delay_flights = merged_df[merged_df['departure_delay_(minutes)'] > 0].groupby('carrier_name')['departure_delay_(minutes)'].count()\n",
        "\n",
        "delay_percentage = delay_flights / total_flights * 100\n",
        "delay_percentage = delay_percentage.sort_values(ascending=True)\n",
        "\n",
        "#Create the bar chart\n",
        "fig, ax = plt.subplots(figsize=(10, 10))\n",
        "\n",
        "#Initialize color and reverse ascending order\n",
        "cmap = cm.get_cmap('Blues_r')\n",
        "cmap = cmap.reversed()\n",
        "\n",
        "# Create the horizontal bar chart with the progressive color scale\n",
        "ax.barh(delay_percentage.dropna().index, delay_percentage.dropna().values, color=cmap(np.linspace(0.2, 1, len(delay_percentage))))\n",
        "# Set the chart title and axis labels\n",
        "ax.set_title('Percentage of Delay Flights by Airline', fontsize=16, fontweight='bold')\n",
        "ax.set_xlabel('Percentage', fontsize=14)\n",
        "ax.set_ylabel('US Airlines', fontsize=14)\n",
        "\n",
        "for i, v in enumerate(delay_percentage.values): \n",
        "    ax.text(v + 0.2 , i , str(round(v, 2)) + \" %\", va='center', fontsize=12)\n",
        "\n",
        "#Set style and display chart\n",
        "plt.style.use('seaborn-v0_8-dark')\n",
        "plt.show()\n"
      ]
    },
    {
      "cell_type": "markdown",
      "metadata": {
        "id": "ZRaQuYCIbWmk"
      },
      "source": [
        "##3.3.1 Bar Chart Conclusions\n",
        "The graph gives a clear indication of the historical trend per airline in its flights departing from BOS. We can clearly see that US Airways and American Airlines are among the airlines that have fewer departure-delayed flights, encouraging customers to choose them when flying rather than airlines towards the top of the graph which have higher rates of departure delays. Passengers can expect, that on Frontier, almost 1 in 2 flights will experience a departure delay when departing from BOS.\n",
        "\n"
      ]
    },
    {
      "cell_type": "markdown",
      "metadata": {
        "id": "hs3sAybOLbwX"
      },
      "source": [
        "#3.4 Average Departure Delay by Month\n",
        "This visualization provides graphical information on average departure delay in minutes by month, ranked in descending order. This visualization can provide insights into the patterns of departure delays throughout the year. The difference in delay period in each month may be caused by seasonal factors such as weather conditions and holidays. As a result, this information can be a piece of useful information for travelers to better understand the average departure delay trends by month, allowing them to make informed decisions and plan their trips more effectively, and prepare for potential delays based on seasonal factors.\n",
        "\n",
        "\n",
        "\n"
      ]
    },
    {
      "cell_type": "code",
      "execution_count": 36,
      "metadata": {
        "id": "6lI4CJB9er8b",
        "colab": {
          "base_uri": "https://localhost:8080/",
          "height": 306
        },
        "outputId": "86b5b0b8-12ee-4b0c-d435-d364a30209a0"
      },
      "outputs": [
        {
          "output_type": "execute_result",
          "data": {
            "text/plain": [
              "  carrier_code  flight_number tail_number destination_airport  \\\n",
              "0           FL           16.0      N290AT                 BWI   \n",
              "1           FL          804.0      N292AT                 BWI   \n",
              "2           FL          806.0      N991AT                 BWI   \n",
              "\n",
              "  scheduled_departure_time actual_departure_time  \\\n",
              "0                    16:36                 16:31   \n",
              "1                    19:15                 19:15   \n",
              "2                     6:00                  5:57   \n",
              "\n",
              "   scheduled_elapsed_time_(minutes)  actual_elapsed_time_(minutes)  \\\n",
              "0                              92.0                           92.0   \n",
              "1                              95.0                          101.0   \n",
              "2                              92.0                           81.0   \n",
              "\n",
              "   departure_delay_(minutes) wheels-off_time  ...  icao_carrier_code  \\\n",
              "0                       -5.0           16:43  ...                TRS   \n",
              "1                        0.0           19:28  ...                TRS   \n",
              "2                       -3.0            6:08  ...                TRS   \n",
              "\n",
              "      carrier_name  iata_code  latitude_deg  longitude_deg       date  year  \\\n",
              "0  AirTran Airways        BWI       39.1754     -76.668297 2012-01-01  2012   \n",
              "1  AirTran Airways        BWI       39.1754     -76.668297 2012-01-01  2012   \n",
              "2  AirTran Airways        BWI       39.1754     -76.668297 2012-01-01  2012   \n",
              "\n",
              "  month day delayed  \n",
              "0     1   1       0  \n",
              "1     1   1       0  \n",
              "2     1   1       0  \n",
              "\n",
              "[3 rows x 27 columns]"
            ],
            "text/html": [
              "\n",
              "  <div id=\"df-c4ab939f-5068-42aa-8cee-5c3bad7851a4\">\n",
              "    <div class=\"colab-df-container\">\n",
              "      <div>\n",
              "<style scoped>\n",
              "    .dataframe tbody tr th:only-of-type {\n",
              "        vertical-align: middle;\n",
              "    }\n",
              "\n",
              "    .dataframe tbody tr th {\n",
              "        vertical-align: top;\n",
              "    }\n",
              "\n",
              "    .dataframe thead th {\n",
              "        text-align: right;\n",
              "    }\n",
              "</style>\n",
              "<table border=\"1\" class=\"dataframe\">\n",
              "  <thead>\n",
              "    <tr style=\"text-align: right;\">\n",
              "      <th></th>\n",
              "      <th>carrier_code</th>\n",
              "      <th>flight_number</th>\n",
              "      <th>tail_number</th>\n",
              "      <th>destination_airport</th>\n",
              "      <th>scheduled_departure_time</th>\n",
              "      <th>actual_departure_time</th>\n",
              "      <th>scheduled_elapsed_time_(minutes)</th>\n",
              "      <th>actual_elapsed_time_(minutes)</th>\n",
              "      <th>departure_delay_(minutes)</th>\n",
              "      <th>wheels-off_time</th>\n",
              "      <th>...</th>\n",
              "      <th>icao_carrier_code</th>\n",
              "      <th>carrier_name</th>\n",
              "      <th>iata_code</th>\n",
              "      <th>latitude_deg</th>\n",
              "      <th>longitude_deg</th>\n",
              "      <th>date</th>\n",
              "      <th>year</th>\n",
              "      <th>month</th>\n",
              "      <th>day</th>\n",
              "      <th>delayed</th>\n",
              "    </tr>\n",
              "  </thead>\n",
              "  <tbody>\n",
              "    <tr>\n",
              "      <th>0</th>\n",
              "      <td>FL</td>\n",
              "      <td>16.0</td>\n",
              "      <td>N290AT</td>\n",
              "      <td>BWI</td>\n",
              "      <td>16:36</td>\n",
              "      <td>16:31</td>\n",
              "      <td>92.0</td>\n",
              "      <td>92.0</td>\n",
              "      <td>-5.0</td>\n",
              "      <td>16:43</td>\n",
              "      <td>...</td>\n",
              "      <td>TRS</td>\n",
              "      <td>AirTran Airways</td>\n",
              "      <td>BWI</td>\n",
              "      <td>39.1754</td>\n",
              "      <td>-76.668297</td>\n",
              "      <td>2012-01-01</td>\n",
              "      <td>2012</td>\n",
              "      <td>1</td>\n",
              "      <td>1</td>\n",
              "      <td>0</td>\n",
              "    </tr>\n",
              "    <tr>\n",
              "      <th>1</th>\n",
              "      <td>FL</td>\n",
              "      <td>804.0</td>\n",
              "      <td>N292AT</td>\n",
              "      <td>BWI</td>\n",
              "      <td>19:15</td>\n",
              "      <td>19:15</td>\n",
              "      <td>95.0</td>\n",
              "      <td>101.0</td>\n",
              "      <td>0.0</td>\n",
              "      <td>19:28</td>\n",
              "      <td>...</td>\n",
              "      <td>TRS</td>\n",
              "      <td>AirTran Airways</td>\n",
              "      <td>BWI</td>\n",
              "      <td>39.1754</td>\n",
              "      <td>-76.668297</td>\n",
              "      <td>2012-01-01</td>\n",
              "      <td>2012</td>\n",
              "      <td>1</td>\n",
              "      <td>1</td>\n",
              "      <td>0</td>\n",
              "    </tr>\n",
              "    <tr>\n",
              "      <th>2</th>\n",
              "      <td>FL</td>\n",
              "      <td>806.0</td>\n",
              "      <td>N991AT</td>\n",
              "      <td>BWI</td>\n",
              "      <td>6:00</td>\n",
              "      <td>5:57</td>\n",
              "      <td>92.0</td>\n",
              "      <td>81.0</td>\n",
              "      <td>-3.0</td>\n",
              "      <td>6:08</td>\n",
              "      <td>...</td>\n",
              "      <td>TRS</td>\n",
              "      <td>AirTran Airways</td>\n",
              "      <td>BWI</td>\n",
              "      <td>39.1754</td>\n",
              "      <td>-76.668297</td>\n",
              "      <td>2012-01-01</td>\n",
              "      <td>2012</td>\n",
              "      <td>1</td>\n",
              "      <td>1</td>\n",
              "      <td>0</td>\n",
              "    </tr>\n",
              "  </tbody>\n",
              "</table>\n",
              "<p>3 rows × 27 columns</p>\n",
              "</div>\n",
              "      <button class=\"colab-df-convert\" onclick=\"convertToInteractive('df-c4ab939f-5068-42aa-8cee-5c3bad7851a4')\"\n",
              "              title=\"Convert this dataframe to an interactive table.\"\n",
              "              style=\"display:none;\">\n",
              "        \n",
              "  <svg xmlns=\"http://www.w3.org/2000/svg\" height=\"24px\"viewBox=\"0 0 24 24\"\n",
              "       width=\"24px\">\n",
              "    <path d=\"M0 0h24v24H0V0z\" fill=\"none\"/>\n",
              "    <path d=\"M18.56 5.44l.94 2.06.94-2.06 2.06-.94-2.06-.94-.94-2.06-.94 2.06-2.06.94zm-11 1L8.5 8.5l.94-2.06 2.06-.94-2.06-.94L8.5 2.5l-.94 2.06-2.06.94zm10 10l.94 2.06.94-2.06 2.06-.94-2.06-.94-.94-2.06-.94 2.06-2.06.94z\"/><path d=\"M17.41 7.96l-1.37-1.37c-.4-.4-.92-.59-1.43-.59-.52 0-1.04.2-1.43.59L10.3 9.45l-7.72 7.72c-.78.78-.78 2.05 0 2.83L4 21.41c.39.39.9.59 1.41.59.51 0 1.02-.2 1.41-.59l7.78-7.78 2.81-2.81c.8-.78.8-2.07 0-2.86zM5.41 20L4 18.59l7.72-7.72 1.47 1.35L5.41 20z\"/>\n",
              "  </svg>\n",
              "      </button>\n",
              "      \n",
              "  <style>\n",
              "    .colab-df-container {\n",
              "      display:flex;\n",
              "      flex-wrap:wrap;\n",
              "      gap: 12px;\n",
              "    }\n",
              "\n",
              "    .colab-df-convert {\n",
              "      background-color: #E8F0FE;\n",
              "      border: none;\n",
              "      border-radius: 50%;\n",
              "      cursor: pointer;\n",
              "      display: none;\n",
              "      fill: #1967D2;\n",
              "      height: 32px;\n",
              "      padding: 0 0 0 0;\n",
              "      width: 32px;\n",
              "    }\n",
              "\n",
              "    .colab-df-convert:hover {\n",
              "      background-color: #E2EBFA;\n",
              "      box-shadow: 0px 1px 2px rgba(60, 64, 67, 0.3), 0px 1px 3px 1px rgba(60, 64, 67, 0.15);\n",
              "      fill: #174EA6;\n",
              "    }\n",
              "\n",
              "    [theme=dark] .colab-df-convert {\n",
              "      background-color: #3B4455;\n",
              "      fill: #D2E3FC;\n",
              "    }\n",
              "\n",
              "    [theme=dark] .colab-df-convert:hover {\n",
              "      background-color: #434B5C;\n",
              "      box-shadow: 0px 1px 3px 1px rgba(0, 0, 0, 0.15);\n",
              "      filter: drop-shadow(0px 1px 2px rgba(0, 0, 0, 0.3));\n",
              "      fill: #FFFFFF;\n",
              "    }\n",
              "  </style>\n",
              "\n",
              "      <script>\n",
              "        const buttonEl =\n",
              "          document.querySelector('#df-c4ab939f-5068-42aa-8cee-5c3bad7851a4 button.colab-df-convert');\n",
              "        buttonEl.style.display =\n",
              "          google.colab.kernel.accessAllowed ? 'block' : 'none';\n",
              "\n",
              "        async function convertToInteractive(key) {\n",
              "          const element = document.querySelector('#df-c4ab939f-5068-42aa-8cee-5c3bad7851a4');\n",
              "          const dataTable =\n",
              "            await google.colab.kernel.invokeFunction('convertToInteractive',\n",
              "                                                     [key], {});\n",
              "          if (!dataTable) return;\n",
              "\n",
              "          const docLinkHtml = 'Like what you see? Visit the ' +\n",
              "            '<a target=\"_blank\" href=https://colab.research.google.com/notebooks/data_table.ipynb>data table notebook</a>'\n",
              "            + ' to learn more about interactive tables.';\n",
              "          element.innerHTML = '';\n",
              "          dataTable['output_type'] = 'display_data';\n",
              "          await google.colab.output.renderOutput(dataTable, element);\n",
              "          const docLink = document.createElement('div');\n",
              "          docLink.innerHTML = docLinkHtml;\n",
              "          element.appendChild(docLink);\n",
              "        }\n",
              "      </script>\n",
              "    </div>\n",
              "  </div>\n",
              "  "
            ]
          },
          "metadata": {},
          "execution_count": 36
        }
      ],
      "source": [
        "merged_df.head(3)"
      ]
    },
    {
      "cell_type": "code",
      "execution_count": 37,
      "metadata": {
        "colab": {
          "base_uri": "https://localhost:8080/",
          "height": 865
        },
        "id": "wvEqHno2KWa6",
        "outputId": "22a25c12-e5fc-41ae-d83a-142099e78ba1"
      },
      "outputs": [
        {
          "output_type": "display_data",
          "data": {
            "text/plain": [
              "<Figure size 1000x1000 with 1 Axes>"
            ],
            "image/png": "[encoded data removed]"
          },
          "metadata": {}
        }
      ],
      "source": [
        "# Read in the data\n",
        "df_monthly = merged_df\n",
        "\n",
        "# Create a new column with the month names\n",
        "df_monthly['month_name'] = pd.to_datetime(df_monthly['date']).dt.month_name()\n",
        "\n",
        "# Define a blue color palette with a gradient\n",
        "palette = sns.color_palette(\"Blues\",n_colors=15)\n",
        "palette.reverse()\n",
        "\n",
        "#Plot the horizontal bar chart and invert the y-axis\n",
        "fig, ax = plt.subplots(figsize=(10, 10))\n",
        "sns.barplot(x='departure_delay_(minutes)', \n",
        "            y='month_name', \n",
        "            data=df_monthly, \n",
        "            order=df_monthly.groupby('month_name')['departure_delay_(minutes)'].mean().sort_values(ascending=False).index, \n",
        "            orient='h',\n",
        "            palette=palette,\n",
        "            ci=None)\n",
        "\n",
        "\n",
        "#Set the x-tick labels and axis labels\n",
        "ax.set_xlabel('Average Departure Delay (minutes)')\n",
        "ax.set_ylabel('Month')\n",
        "\n",
        "#Set the chart title and display chart\n",
        "plt.title('Average Departure Delay by Month')\n",
        "plt.show()"
      ]
    },
    {
      "cell_type": "markdown",
      "source": [
        "##3.4.1 Average Delay by Month Conclusion\n",
        "From plotting the average delay in relation to the months we observe that July had the highest mean delay time and November having the least. This arises due to travel being at its peak during the summer periods when most people embark on holidays. In delaying with the huge travel volumes, issues pertaining to capacity and system scheduling errors usually have the tendency to cause delays for flights.  "
      ],
      "metadata": {
        "id": "MjZk9g9BGhUT"
      }
    },
    {
      "cell_type": "code",
      "execution_count": 38,
      "metadata": {
        "id": "Yu8L8dfnRFje"
      },
      "outputs": [],
      "source": [
        "# #Examining Range and Avg of airlines_df['Departure delay (Minutes)']\n",
        "# airlines_df.head()"
      ]
    },
    {
      "cell_type": "code",
      "execution_count": 39,
      "metadata": {
        "colab": {
          "base_uri": "https://localhost:8080/"
        },
        "id": "bNveXo9UnWJp",
        "outputId": "59a4585e-54d0-43a4-91ed-4f431cc035e1"
      },
      "outputs": [
        {
          "output_type": "stream",
          "name": "stdout",
          "text": [
            "                                max       mean   min\n",
            "carrier_name                                        \n",
            "Frontier                     1221.0  18.063850 -20.0\n",
            "SkyWest Airlines             1239.0  14.094457 -18.0\n",
            "Hawaiian Airlines             859.0  12.322679 -20.0\n",
            "United Airlines              1510.0  11.646308 -78.0\n",
            "Comair                        142.0  11.560000  -8.0\n",
            "JetBlue Airways              1068.0  11.004467 -66.0\n",
            "Pinnacle Airlines            1089.0  10.621753 -25.0\n",
            "Delta Air Lines              1185.0  10.445107 -30.0\n",
            "Southwest Airlines            628.0  10.413017 -21.0\n",
            "Atlantic Southeast Airlines  1545.0  10.306813 -25.0\n",
            "Mesa Airlines                 400.0   9.876812 -15.0\n",
            "American Eagle                907.0   9.038769 -22.0\n",
            "American Airlines            1538.0   7.080310 -30.0\n",
            "AirTran Airways               989.0   4.937019 -26.0\n",
            "Alaska Airlines               764.0   4.545188 -29.0\n",
            "US Airways                    475.0   1.656727 -21.0\n"
          ]
        }
      ],
      "source": [
        "#Raw Max, Min, Mean (unadjusted)\n",
        "print(merged_df.groupby('carrier_name')['departure_delay_(minutes)'].agg({'mean', 'min', 'max'}).sort_values(by = 'mean', ascending=False))"
      ]
    },
    {
      "cell_type": "code",
      "execution_count": 40,
      "metadata": {
        "colab": {
          "base_uri": "https://localhost:8080/"
        },
        "id": "5Qj3dhFyIQRV",
        "outputId": "3b8b3fd7-2d1f-46ae-f329-3c527f9e6f64"
      },
      "outputs": [
        {
          "output_type": "stream",
          "name": "stdout",
          "text": [
            "                       max       mean   min\n",
            "destination_airport                        \n",
            "OAK                  302.0  24.553097 -15.0\n",
            "SMF                  240.0  20.983986 -12.0\n",
            "SYR                  425.0  19.213050 -34.0\n",
            "BUR                  781.0  18.819302 -20.0\n",
            "PSP                  185.0  16.555556 -13.0\n",
            "...                    ...        ...   ...\n",
            "MSN                   14.0  -0.800000  -9.0\n",
            "TVC                   -2.0  -2.000000  -2.0\n",
            "ILM                   79.0  -2.165414 -11.0\n",
            "GRB                   -5.0  -5.000000  -5.0\n",
            "GSP                   -7.0  -7.000000  -7.0\n",
            "\n",
            "[82 rows x 3 columns]\n"
          ]
        }
      ],
      "source": [
        "#Raw Max, Min, Mean (unadjusted)\n",
        "print(merged_df.groupby('destination_airport')['departure_delay_(minutes)'].agg({'mean', 'min', 'max'}).sort_values(by = 'mean', ascending=False))"
      ]
    },
    {
      "cell_type": "code",
      "execution_count": 41,
      "metadata": {
        "colab": {
          "base_uri": "https://localhost:8080/",
          "height": 551
        },
        "id": "PqjeiwkMqZQk",
        "outputId": "eae670d0-1e44-4ef6-a45b-3b33f897ed31"
      },
      "outputs": [
        {
          "output_type": "execute_result",
          "data": {
            "text/plain": [
              "                   carrier_name     max       mean  min\n",
              "0                        Comair   142.0  22.666667  0.0\n",
              "1            Southwest Airlines   628.0  24.147617  0.0\n",
              "2               Alaska Airlines   764.0  25.046206  0.0\n",
              "3                    US Airways   475.0  25.485826  0.0\n",
              "4                 Mesa Airlines   400.0  27.601266  0.0\n",
              "5               AirTran Airways   989.0  27.804202  0.0\n",
              "6               United Airlines  1510.0  28.749597  0.0\n",
              "7               Delta Air Lines  1185.0  30.885043  0.0\n",
              "8             American Airlines  1538.0  33.089437  0.0\n",
              "9               JetBlue Airways  1068.0  34.574134  0.0\n",
              "10               American Eagle   907.0  35.628042  0.0\n",
              "11            Hawaiian Airlines   859.0  36.750000  0.0\n",
              "12             SkyWest Airlines  1239.0  39.009572  0.0\n",
              "13                     Frontier  1221.0  41.581905  0.0\n",
              "14  Atlantic Southeast Airlines  1545.0  42.954013  0.0\n",
              "15            Pinnacle Airlines  1089.0  43.356566  0.0"
            ],
            "text/html": [
              "\n",
              "  <div id=\"df-9af97e79-2d0f-4399-9dbd-c6f3145a4f9c\">\n",
              "    <div class=\"colab-df-container\">\n",
              "      <div>\n",
              "<style scoped>\n",
              "    .dataframe tbody tr th:only-of-type {\n",
              "        vertical-align: middle;\n",
              "    }\n",
              "\n",
              "    .dataframe tbody tr th {\n",
              "        vertical-align: top;\n",
              "    }\n",
              "\n",
              "    .dataframe thead th {\n",
              "        text-align: right;\n",
              "    }\n",
              "</style>\n",
              "<table border=\"1\" class=\"dataframe\">\n",
              "  <thead>\n",
              "    <tr style=\"text-align: right;\">\n",
              "      <th></th>\n",
              "      <th>carrier_name</th>\n",
              "      <th>max</th>\n",
              "      <th>mean</th>\n",
              "      <th>min</th>\n",
              "    </tr>\n",
              "  </thead>\n",
              "  <tbody>\n",
              "    <tr>\n",
              "      <th>0</th>\n",
              "      <td>Comair</td>\n",
              "      <td>142.0</td>\n",
              "      <td>22.666667</td>\n",
              "      <td>0.0</td>\n",
              "    </tr>\n",
              "    <tr>\n",
              "      <th>1</th>\n",
              "      <td>Southwest Airlines</td>\n",
              "      <td>628.0</td>\n",
              "      <td>24.147617</td>\n",
              "      <td>0.0</td>\n",
              "    </tr>\n",
              "    <tr>\n",
              "      <th>2</th>\n",
              "      <td>Alaska Airlines</td>\n",
              "      <td>764.0</td>\n",
              "      <td>25.046206</td>\n",
              "      <td>0.0</td>\n",
              "    </tr>\n",
              "    <tr>\n",
              "      <th>3</th>\n",
              "      <td>US Airways</td>\n",
              "      <td>475.0</td>\n",
              "      <td>25.485826</td>\n",
              "      <td>0.0</td>\n",
              "    </tr>\n",
              "    <tr>\n",
              "      <th>4</th>\n",
              "      <td>Mesa Airlines</td>\n",
              "      <td>400.0</td>\n",
              "      <td>27.601266</td>\n",
              "      <td>0.0</td>\n",
              "    </tr>\n",
              "    <tr>\n",
              "      <th>5</th>\n",
              "      <td>AirTran Airways</td>\n",
              "      <td>989.0</td>\n",
              "      <td>27.804202</td>\n",
              "      <td>0.0</td>\n",
              "    </tr>\n",
              "    <tr>\n",
              "      <th>6</th>\n",
              "      <td>United Airlines</td>\n",
              "      <td>1510.0</td>\n",
              "      <td>28.749597</td>\n",
              "      <td>0.0</td>\n",
              "    </tr>\n",
              "    <tr>\n",
              "      <th>7</th>\n",
              "      <td>Delta Air Lines</td>\n",
              "      <td>1185.0</td>\n",
              "      <td>30.885043</td>\n",
              "      <td>0.0</td>\n",
              "    </tr>\n",
              "    <tr>\n",
              "      <th>8</th>\n",
              "      <td>American Airlines</td>\n",
              "      <td>1538.0</td>\n",
              "      <td>33.089437</td>\n",
              "      <td>0.0</td>\n",
              "    </tr>\n",
              "    <tr>\n",
              "      <th>9</th>\n",
              "      <td>JetBlue Airways</td>\n",
              "      <td>1068.0</td>\n",
              "      <td>34.574134</td>\n",
              "      <td>0.0</td>\n",
              "    </tr>\n",
              "    <tr>\n",
              "      <th>10</th>\n",
              "      <td>American Eagle</td>\n",
              "      <td>907.0</td>\n",
              "      <td>35.628042</td>\n",
              "      <td>0.0</td>\n",
              "    </tr>\n",
              "    <tr>\n",
              "      <th>11</th>\n",
              "      <td>Hawaiian Airlines</td>\n",
              "      <td>859.0</td>\n",
              "      <td>36.750000</td>\n",
              "      <td>0.0</td>\n",
              "    </tr>\n",
              "    <tr>\n",
              "      <th>12</th>\n",
              "      <td>SkyWest Airlines</td>\n",
              "      <td>1239.0</td>\n",
              "      <td>39.009572</td>\n",
              "      <td>0.0</td>\n",
              "    </tr>\n",
              "    <tr>\n",
              "      <th>13</th>\n",
              "      <td>Frontier</td>\n",
              "      <td>1221.0</td>\n",
              "      <td>41.581905</td>\n",
              "      <td>0.0</td>\n",
              "    </tr>\n",
              "    <tr>\n",
              "      <th>14</th>\n",
              "      <td>Atlantic Southeast Airlines</td>\n",
              "      <td>1545.0</td>\n",
              "      <td>42.954013</td>\n",
              "      <td>0.0</td>\n",
              "    </tr>\n",
              "    <tr>\n",
              "      <th>15</th>\n",
              "      <td>Pinnacle Airlines</td>\n",
              "      <td>1089.0</td>\n",
              "      <td>43.356566</td>\n",
              "      <td>0.0</td>\n",
              "    </tr>\n",
              "  </tbody>\n",
              "</table>\n",
              "</div>\n",
              "      <button class=\"colab-df-convert\" onclick=\"convertToInteractive('df-9af97e79-2d0f-4399-9dbd-c6f3145a4f9c')\"\n",
              "              title=\"Convert this dataframe to an interactive table.\"\n",
              "              style=\"display:none;\">\n",
              "        \n",
              "  <svg xmlns=\"http://www.w3.org/2000/svg\" height=\"24px\"viewBox=\"0 0 24 24\"\n",
              "       width=\"24px\">\n",
              "    <path d=\"M0 0h24v24H0V0z\" fill=\"none\"/>\n",
              "    <path d=\"M18.56 5.44l.94 2.06.94-2.06 2.06-.94-2.06-.94-.94-2.06-.94 2.06-2.06.94zm-11 1L8.5 8.5l.94-2.06 2.06-.94-2.06-.94L8.5 2.5l-.94 2.06-2.06.94zm10 10l.94 2.06.94-2.06 2.06-.94-2.06-.94-.94-2.06-.94 2.06-2.06.94z\"/><path d=\"M17.41 7.96l-1.37-1.37c-.4-.4-.92-.59-1.43-.59-.52 0-1.04.2-1.43.59L10.3 9.45l-7.72 7.72c-.78.78-.78 2.05 0 2.83L4 21.41c.39.39.9.59 1.41.59.51 0 1.02-.2 1.41-.59l7.78-7.78 2.81-2.81c.8-.78.8-2.07 0-2.86zM5.41 20L4 18.59l7.72-7.72 1.47 1.35L5.41 20z\"/>\n",
              "  </svg>\n",
              "      </button>\n",
              "      \n",
              "  <style>\n",
              "    .colab-df-container {\n",
              "      display:flex;\n",
              "      flex-wrap:wrap;\n",
              "      gap: 12px;\n",
              "    }\n",
              "\n",
              "    .colab-df-convert {\n",
              "      background-color: #E8F0FE;\n",
              "      border: none;\n",
              "      border-radius: 50%;\n",
              "      cursor: pointer;\n",
              "      display: none;\n",
              "      fill: #1967D2;\n",
              "      height: 32px;\n",
              "      padding: 0 0 0 0;\n",
              "      width: 32px;\n",
              "    }\n",
              "\n",
              "    .colab-df-convert:hover {\n",
              "      background-color: #E2EBFA;\n",
              "      box-shadow: 0px 1px 2px rgba(60, 64, 67, 0.3), 0px 1px 3px 1px rgba(60, 64, 67, 0.15);\n",
              "      fill: #174EA6;\n",
              "    }\n",
              "\n",
              "    [theme=dark] .colab-df-convert {\n",
              "      background-color: #3B4455;\n",
              "      fill: #D2E3FC;\n",
              "    }\n",
              "\n",
              "    [theme=dark] .colab-df-convert:hover {\n",
              "      background-color: #434B5C;\n",
              "      box-shadow: 0px 1px 3px 1px rgba(0, 0, 0, 0.15);\n",
              "      filter: drop-shadow(0px 1px 2px rgba(0, 0, 0, 0.3));\n",
              "      fill: #FFFFFF;\n",
              "    }\n",
              "  </style>\n",
              "\n",
              "      <script>\n",
              "        const buttonEl =\n",
              "          document.querySelector('#df-9af97e79-2d0f-4399-9dbd-c6f3145a4f9c button.colab-df-convert');\n",
              "        buttonEl.style.display =\n",
              "          google.colab.kernel.accessAllowed ? 'block' : 'none';\n",
              "\n",
              "        async function convertToInteractive(key) {\n",
              "          const element = document.querySelector('#df-9af97e79-2d0f-4399-9dbd-c6f3145a4f9c');\n",
              "          const dataTable =\n",
              "            await google.colab.kernel.invokeFunction('convertToInteractive',\n",
              "                                                     [key], {});\n",
              "          if (!dataTable) return;\n",
              "\n",
              "          const docLinkHtml = 'Like what you see? Visit the ' +\n",
              "            '<a target=\"_blank\" href=https://colab.research.google.com/notebooks/data_table.ipynb>data table notebook</a>'\n",
              "            + ' to learn more about interactive tables.';\n",
              "          element.innerHTML = '';\n",
              "          dataTable['output_type'] = 'display_data';\n",
              "          await google.colab.output.renderOutput(dataTable, element);\n",
              "          const docLink = document.createElement('div');\n",
              "          docLink.innerHTML = docLinkHtml;\n",
              "          element.appendChild(docLink);\n",
              "        }\n",
              "      </script>\n",
              "    </div>\n",
              "  </div>\n",
              "  "
            ]
          },
          "metadata": {},
          "execution_count": 41
        }
      ],
      "source": [
        "#Inspecting adjusted min, max, mean (negative departure delays removed under adj_merged_df)\n",
        "delay_by_airline = adj_merged_df.groupby('carrier_name')['departure_delay_(minutes)'].agg({'min', 'max', 'mean'}).sort_values(by = 'mean', ascending=True).reset_index()\n",
        "delay_by_airline"
      ]
    },
    {
      "cell_type": "code",
      "execution_count": 42,
      "metadata": {
        "id": "RjiTb5zVtLCg"
      },
      "outputs": [],
      "source": [
        "#Create min, mean, max variables \n",
        "min = adj_merged_df['departure_delay_(minutes)'].min().round(2) \n",
        "mean = adj_merged_df['departure_delay_(minutes)'].mean().round(2) \n",
        "max = adj_merged_df['departure_delay_(minutes)'].max().round(2) "
      ]
    },
    {
      "cell_type": "code",
      "execution_count": 43,
      "metadata": {
        "colab": {
          "base_uri": "https://localhost:8080/"
        },
        "id": "rcwaSPtPtPEr",
        "outputId": "fb6d0379-e08d-4c4e-e2e3-983e02a32160"
      },
      "outputs": [
        {
          "output_type": "stream",
          "name": "stdout",
          "text": [
            "min:  0.0\n",
            "mean:  31.71\n",
            "max:  1545.0\n"
          ]
        }
      ],
      "source": [
        "#sanity check\n",
        "print('min: ', min)\n",
        "print('mean: ', mean)\n",
        "print('max: ', max)"
      ]
    },
    {
      "cell_type": "markdown",
      "metadata": {
        "id": "jES52QiPCx_v"
      },
      "source": [
        "#3.5 Average Delay by Airline\n",
        "\n",
        "To better understand our dataset, we first calculated the raw or unadjusted max, min, and mean for departure delays for all airlines. After realizing that the dataframe also included negative departure times, meaning flights left early or were rescheduled for an early departure, we created an adjusted departure delay column in the dataframe to better understand departure delays by airline. The above visualization shows the average departure delay by airline compared to the population average. This helps us better understand which airlines have higher average delays relative to the mean. \n",
        "\n"
      ]
    },
    {
      "cell_type": "code",
      "execution_count": 44,
      "metadata": {
        "colab": {
          "base_uri": "https://localhost:8080/",
          "height": 865
        },
        "id": "T8JIoE2nyYA7",
        "outputId": "5ae7cd03-32bf-47d8-a1e5-d903e2c67720"
      },
      "outputs": [
        {
          "output_type": "display_data",
          "data": {
            "text/plain": [
              "<Figure size 1000x1000 with 1 Axes>"
            ],
            "image/png": "[encoded data removed]"
          },
          "metadata": {}
        }
      ],
      "source": [
        "#Create fig, ax\n",
        "fig, ax = plt.subplots(figsize= (10,10))\n",
        "\n",
        "#Initialize color and reverse ascending order\n",
        "cmap = cm.get_cmap('Blues_r')\n",
        "cmap = cmap.reversed()\n",
        "\n",
        "#Create x, y variables for barh plot\n",
        "x = delay_by_airline['carrier_name']\n",
        "y = delay_by_airline['mean']\n",
        "#create barh plot\n",
        "plt.barh(x, y, color=cmap(np.linspace(0.2, 1,len(delay_percentage))))\n",
        "\n",
        "#create vertical line of mean delay time for population\n",
        "plt.axvline(x = mean, color = 'b', linestyle='--', ymax = 100, label = 'Mean Delay Time (Minutes)')\n",
        "\n",
        "# Set the x, y, labels and axis labels\n",
        "ax.set_xlabel('Mean Delay (Minutes)')\n",
        "ax.set_ylabel('Airline')\n",
        "ax.set_title('Mean Delay by Airline')\n",
        "ax.legend(loc='lower right')\n",
        "\n",
        "\n",
        "plt.show()\n",
        "\n"
      ]
    },
    {
      "cell_type": "markdown",
      "metadata": {
        "id": "ogLsxE-y50oN"
      },
      "source": [
        "#3.5.1 Average Delay by Airline\n",
        "From the above graph we are able to determine that Pinnacle Airlines has the highest average delay and Comair having the least. The mean delay time falls within 32 minutes."
      ]
    },
    {
      "cell_type": "code",
      "execution_count": 45,
      "metadata": {
        "id": "hmFnUZuzsc6p"
      },
      "outputs": [],
      "source": [
        "#Create new dataframe containing flights whose departure delay is greater than the mean delay\n",
        "flights_above_mean = adj_merged_df[adj_merged_df['departure_delay_(minutes)'] >= mean]"
      ]
    },
    {
      "cell_type": "code",
      "execution_count": 46,
      "metadata": {
        "id": "6ImAxWfusc07"
      },
      "outputs": [],
      "source": [
        "#Create new dataframe containing flights whose departure delay is less than the mean delay\n",
        "flights_below_mean = adj_merged_df[adj_merged_df['departure_delay_(minutes)'] < mean]"
      ]
    },
    {
      "cell_type": "code",
      "execution_count": 47,
      "metadata": {
        "colab": {
          "base_uri": "https://localhost:8080/"
        },
        "id": "kzMQqdYQYMeV",
        "outputId": "3266074f-347b-41bb-c840-a3ee0571e6b2"
      },
      "outputs": [
        {
          "output_type": "execute_result",
          "data": {
            "text/plain": [
              "pandas.core.frame.DataFrame"
            ]
          },
          "metadata": {},
          "execution_count": 47
        }
      ],
      "source": [
        "type(flights_below_mean)"
      ]
    },
    {
      "cell_type": "code",
      "execution_count": 48,
      "metadata": {
        "id": "a4ZDuez1noGo"
      },
      "outputs": [],
      "source": [
        "#Create a lenght variable for calculating percentages \n",
        "total_delayed_len = len(adj_merged_df['departure_delay_(minutes)'])"
      ]
    },
    {
      "cell_type": "code",
      "execution_count": 49,
      "metadata": {
        "id": "L8AwvDTl20Y1"
      },
      "outputs": [],
      "source": [
        "#Merge delayed <,> mean dataframes\n",
        "total_delayed = pd.concat((flights_above_mean, flights_below_mean))\n"
      ]
    },
    {
      "cell_type": "code",
      "execution_count": 50,
      "metadata": {
        "colab": {
          "base_uri": "https://localhost:8080/",
          "height": 484
        },
        "id": "eOZzdCT5RanJ",
        "outputId": "a7c31d29-fafb-4351-bddd-8e02919f5369"
      },
      "outputs": [
        {
          "output_type": "display_data",
          "data": {
            "text/plain": [
              "<Figure size 1000x500 with 1 Axes>"
            ],
            "image/png": "[encoded data removed]"
          },
          "metadata": {}
        }
      ],
      "source": [
        "# get counts of flights per airline\n",
        "counts = merged_df['carrier_name'].value_counts().sort_values()\n",
        "\n",
        "# create figure and axis objects\n",
        "fig, ax = plt.subplots(figsize=(10, 5))\n",
        "\n",
        "# create horizontal bar chart with the same cmap color as the delay chart\n",
        "cmap = cm.get_cmap('Blues_r')\n",
        "cmap = cmap.reversed()\n",
        "\n",
        "ax.barh(counts.index, counts.values, color=cmap(np.linspace(0.2, 1, len(counts))))\n",
        "\n",
        "# set x-axis label\n",
        "ax.set_xlabel('Total Number of Flights')\n",
        "\n",
        "# set y-axis label\n",
        "ax.set_ylabel('Airline')\n",
        "\n",
        "# set title\n",
        "ax.set_title('Total Number of Flights per Airline', fontsize=16, fontweight='bold')\n",
        "\n",
        "\n",
        "plt.show()\n"
      ]
    },
    {
      "cell_type": "markdown",
      "metadata": {
        "id": "LH2hzzzHEJTQ"
      },
      "source": [
        "# 3.6 Percentage of Delayed Flights Above and Below Mean\n",
        "\n",
        "The pie chart offers a easy percentage visualization of flights that fall above and below the mean delay for the entire population."
      ]
    },
    {
      "cell_type": "code",
      "execution_count": 51,
      "metadata": {
        "colab": {
          "base_uri": "https://localhost:8080/",
          "height": 744
        },
        "id": "ueIM2lWQscua",
        "outputId": "c87273b9-bf5c-4b24-9174-a35248fb15b4"
      },
      "outputs": [
        {
          "output_type": "display_data",
          "data": {
            "text/plain": [
              "<Figure size 640x480 with 1 Axes>"
            ],
            "image/png": "[encoded data removed]"
          },
          "metadata": {}
        }
      ],
      "source": [
        "# Calculate percentages\n",
        "percent_below_mean = (len(flights_below_mean)) / total_delayed_len * 100\n",
        "percent_above_mean = (len(flights_above_mean)) / total_delayed_len * 100\n",
        "\n",
        "#Create variables for pie chart\n",
        "labels = ['Flights below mean', 'Flights above mean']\n",
        "sizes = [percent_below_mean, percent_above_mean]\n",
        "colors = sns.color_palette('pastel')\n",
        "\n",
        "\n",
        "#Create pie chart\n",
        "fig, ax = plt.subplots()\n",
        "ax.pie(\n",
        "    sizes, \n",
        "    explode =(0,.25),\n",
        "    labels=labels,\n",
        "    colors=colors,\n",
        "    autopct='%1.1f%%',\n",
        "    shadow = True,\n",
        "    startangle = 90,\n",
        "    radius = 2,\n",
        "    wedgeprops = {'linewidth': 3}\n",
        "    )\n",
        "\n",
        "#Create and move title\n",
        "ax.set_title(\n",
        "    'Percentage of Delayed Flights Above and Below \\n Mean Delay Time (adjusted)',\n",
        "    fontdict = {'horizontalalignment': 'center'},\n",
        "    y = 1.5\n",
        "    )\n",
        "\n",
        "plt.show()\n"
      ]
    },
    {
      "cell_type": "markdown",
      "metadata": {
        "id": "XH6FmWarFQWi"
      },
      "source": [
        "#3.7 Histogram Plots Showing Departure Delayed Flights Across Minutes Delayed\n",
        "\n",
        "The below histogram plots show how the population of flights delayed is distributed. The below histograms also show the distribution of delayed flights above and below the mean delay"
      ]
    },
    {
      "cell_type": "code",
      "execution_count": 52,
      "metadata": {
        "colab": {
          "base_uri": "https://localhost:8080/",
          "height": 463
        },
        "id": "61n0J0N_25Kj",
        "outputId": "60653daf-a0f2-4292-a786-f46cc49d5922"
      },
      "outputs": [
        {
          "output_type": "execute_result",
          "data": {
            "text/plain": [
              "(0.0, 250.0)"
            ]
          },
          "metadata": {},
          "execution_count": 52
        },
        {
          "output_type": "display_data",
          "data": {
            "text/plain": [
              "<Figure size 640x480 with 1 Axes>"
            ],
            "image/png": "[encoded data removed]"
          },
          "metadata": {}
        }
      ],
      "source": [
        "#Create a histogram plot that shows the distribution of all delayed flights by departure delay\n",
        "sns.histplot(data = total_delayed, x = 'departure_delay_(minutes)', bins =70)\n",
        "plt.xlim(0, 250)\n",
        "# plt.ylim(0, 22000)"
      ]
    },
    {
      "cell_type": "code",
      "execution_count": 53,
      "metadata": {
        "colab": {
          "base_uri": "https://localhost:8080/",
          "height": 483
        },
        "id": "HQnVlEvG11ZW",
        "outputId": "bfe198fe-9f44-4571-8e04-12224d117e7c"
      },
      "outputs": [
        {
          "output_type": "execute_result",
          "data": {
            "text/plain": [
              "Text(0.5, 1.0, 'Flight Below Mean Delay Time')"
            ]
          },
          "metadata": {},
          "execution_count": 53
        },
        {
          "output_type": "display_data",
          "data": {
            "text/plain": [
              "<Figure size 640x480 with 1 Axes>"
            ],
            "image/png": "[encoded data removed]"
          },
          "metadata": {}
        }
      ],
      "source": [
        "#Create a histogram plot that shows the distribution of all delayed flights below the departure delay mean of the population\n",
        "sns.histplot(data = flights_below_mean, x = 'departure_delay_(minutes)')\n",
        "plt.title('Flight Below Mean Delay Time')"
      ]
    },
    {
      "cell_type": "code",
      "execution_count": 54,
      "metadata": {
        "colab": {
          "base_uri": "https://localhost:8080/",
          "height": 483
        },
        "id": "VZ_djkPb2KMk",
        "outputId": "f0d91c3a-12bb-4733-e791-6bc67d1026d1"
      },
      "outputs": [
        {
          "output_type": "execute_result",
          "data": {
            "text/plain": [
              "Text(0.5, 1.0, 'Flights Above Mean Delay')"
            ]
          },
          "metadata": {},
          "execution_count": 54
        },
        {
          "output_type": "display_data",
          "data": {
            "text/plain": [
              "<Figure size 640x480 with 1 Axes>"
            ],
            "image/png": "[encoded data removed]"
          },
          "metadata": {}
        }
      ],
      "source": [
        "#Create a histogram plot that shows the distribution of all delayed flights above the departure delay mean of the population\n",
        "sns.histplot(data = flights_above_mean, x = 'departure_delay_(minutes)')\n",
        "plt.xlim(0, 400)\n",
        "plt.title('Flights Above Mean Delay')"
      ]
    },
    {
      "cell_type": "markdown",
      "metadata": {
        "id": "pILtWOZ_E0Qz"
      },
      "source": [
        "#3.8 Correlational Heatmap\n",
        "\n",
        "The correlational heatmap provides an overview of the correlational coefficients between variables. A mask is used to reduce redundancy in the visualization and increase legibility. "
      ]
    },
    {
      "cell_type": "code",
      "execution_count": 55,
      "metadata": {
        "colab": {
          "base_uri": "https://localhost:8080/",
          "height": 1000
        },
        "id": "ypUE9Pj0tSyZ",
        "outputId": "9f08b6fd-3406-4b2d-87fa-ccf3b27a0fc2"
      },
      "outputs": [
        {
          "output_type": "display_data",
          "data": {
            "text/plain": [
              "<Figure size 1000x1000 with 2 Axes>"
            ],
            "image/png": "[encoded data removed]"
          },
          "metadata": {}
        }
      ],
      "source": [
        "#Create corr variable\n",
        "corr = merged_df.corr()\n",
        "\n",
        "#Create figure and ax\n",
        "fig, ax = plt.subplots(figsize = (10,10))\n",
        "\n",
        "#Create mask to reduce redundancy of chart\n",
        "mask = np.triu(np.ones_like(corr, dtype = bool))\n",
        "\n",
        "# Plot heatmap\n",
        "sns.heatmap(corr, annot =True, annot_kws={'size':9} , cmap=\"coolwarm\", cbar_kws = {'shrink': .5}, ax = ax, mask = mask)\n",
        "ax.set_title('Correlation Heatmap', fontdict = {'fontsize':24})\n",
        "plt.show()"
      ]
    },
    {
      "cell_type": "markdown",
      "metadata": {
        "id": "QbgcJKHBDS_w"
      },
      "source": [
        "#3.9 Flight delays for each hour of the day\n",
        "\n",
        "A bar chart that shows the number of flight departure delays for each hour of the day. The horizontal axis shows the hour of the day, from 0 to 23, and the vertical axis shows the number of delays. The height of each bar represents the number of flight delays that occurred during that hour.\n",
        "\n",
        "You can use this graph to plan your travel better by avoiding flights during hours that are more likely to experience departure delays, or by selecting airlines that are less likely to have delays during your preferred travel times.\n",
        "\n"
      ]
    },
    {
      "cell_type": "code",
      "execution_count": 56,
      "metadata": {
        "colab": {
          "base_uri": "https://localhost:8080/",
          "height": 542
        },
        "id": "IpDSqAoTDipN",
        "outputId": "b455225f-99dc-4ec7-d82e-50fac5965381"
      },
      "outputs": [
        {
          "output_type": "display_data",
          "data": {
            "text/html": [
              "<html>\n",
              "<head><meta charset=\"utf-8\" /></head>\n",
              "<body>\n",
              "    <div>            <script src=\"https://cdnjs.cloudflare.com/ajax/libs/mathjax/2.7.5/MathJax.js?config=TeX-AMS-MML_SVG\"></script><script type=\"text/javascript\">if (window.MathJax && window.MathJax.Hub && window.MathJax.Hub.Config) {window.MathJax.Hub.Config({SVG: {font: \"STIX-Web\"}});}</script>                <script type=\"text/javascript\">window.PlotlyConfig = {MathJaxConfig: 'local'};</script>\n",
              "        <script src=\"https://cdn.plot.ly/plotly-2.18.2.min.js\"></script>                <div id=\"7685b278-5e4e-4167-b52b-4b9c2a54156d\" class=\"plotly-graph-div\" style=\"height:525px; width:100%;\"></div>            <script type=\"text/javascript\">                                    window.PLOTLYENV=window.PLOTLYENV || {};                                    if (document.getElementById(\"7685b278-5e4e-4167-b52b-4b9c2a54156d\")) {                    Plotly.newPlot(                        \"7685b278-5e4e-4167-b52b-4b9c2a54156d\",                        [{\"alignmentgroup\":\"True\",\"hovertemplate\":\"Hour of the Day=%{x}<br>Number of Delays=%{y}<extra></extra>\",\"legendgroup\":\"\",\"marker\":{\"color\":\"#636efa\",\"pattern\":{\"shape\":\"\"}},\"name\":\"\",\"offsetgroup\":\"\",\"orientation\":\"v\",\"showlegend\":false,\"textposition\":\"auto\",\"x\":[0,1,4,5,6,7,8,9,10,11,12,13,14,15,16,17,18,19,20,21,22,23],\"xaxis\":\"x\",\"y\":[1,3,0,6949,19138,24662,22165,19812,16576,19431,18539,17188,26128,24739,34317,40012,36798,32880,19731,9220,1896,133],\"yaxis\":\"y\",\"type\":\"bar\"}],                        {\"template\":{\"data\":{\"histogram2dcontour\":[{\"type\":\"histogram2dcontour\",\"colorbar\":{\"outlinewidth\":0,\"ticks\":\"\"},\"colorscale\":[[0.0,\"#0d0887\"],[0.1111111111111111,\"#46039f\"],[0.2222222222222222,\"#7201a8\"],[0.3333333333333333,\"#9c179e\"],[0.4444444444444444,\"#bd3786\"],[0.5555555555555556,\"#d8576b\"],[0.6666666666666666,\"#ed7953\"],[0.7777777777777778,\"#fb9f3a\"],[0.8888888888888888,\"#fdca26\"],[1.0,\"#f0f921\"]]}],\"choropleth\":[{\"type\":\"choropleth\",\"colorbar\":{\"outlinewidth\":0,\"ticks\":\"\"}}],\"histogram2d\":[{\"type\":\"histogram2d\",\"colorbar\":{\"outlinewidth\":0,\"ticks\":\"\"},\"colorscale\":[[0.0,\"#0d0887\"],[0.1111111111111111,\"#46039f\"],[0.2222222222222222,\"#7201a8\"],[0.3333333333333333,\"#9c179e\"],[0.4444444444444444,\"#bd3786\"],[0.5555555555555556,\"#d8576b\"],[0.6666666666666666,\"#ed7953\"],[0.7777777777777778,\"#fb9f3a\"],[0.8888888888888888,\"#fdca26\"],[1.0,\"#f0f921\"]]}],\"heatmap\":[{\"type\":\"heatmap\",\"colorbar\":{\"outlinewidth\":0,\"ticks\":\"\"},\"colorscale\":[[0.0,\"#0d0887\"],[0.1111111111111111,\"#46039f\"],[0.2222222222222222,\"#7201a8\"],[0.3333333333333333,\"#9c179e\"],[0.4444444444444444,\"#bd3786\"],[0.5555555555555556,\"#d8576b\"],[0.6666666666666666,\"#ed7953\"],[0.7777777777777778,\"#fb9f3a\"],[0.8888888888888888,\"#fdca26\"],[1.0,\"#f0f921\"]]}],\"heatmapgl\":[{\"type\":\"heatmapgl\",\"colorbar\":{\"outlinewidth\":0,\"ticks\":\"\"},\"colorscale\":[[0.0,\"#0d0887\"],[0.1111111111111111,\"#46039f\"],[0.2222222222222222,\"#7201a8\"],[0.3333333333333333,\"#9c179e\"],[0.4444444444444444,\"#bd3786\"],[0.5555555555555556,\"#d8576b\"],[0.6666666666666666,\"#ed7953\"],[0.7777777777777778,\"#fb9f3a\"],[0.8888888888888888,\"#fdca26\"],[1.0,\"#f0f921\"]]}],\"contourcarpet\":[{\"type\":\"contourcarpet\",\"colorbar\":{\"outlinewidth\":0,\"ticks\":\"\"}}],\"contour\":[{\"type\":\"contour\",\"colorbar\":{\"outlinewidth\":0,\"ticks\":\"\"},\"colorscale\":[[0.0,\"#0d0887\"],[0.1111111111111111,\"#46039f\"],[0.2222222222222222,\"#7201a8\"],[0.3333333333333333,\"#9c179e\"],[0.4444444444444444,\"#bd3786\"],[0.5555555555555556,\"#d8576b\"],[0.6666666666666666,\"#ed7953\"],[0.7777777777777778,\"#fb9f3a\"],[0.8888888888888888,\"#fdca26\"],[1.0,\"#f0f921\"]]}],\"surface\":[{\"type\":\"surface\",\"colorbar\":{\"outlinewidth\":0,\"ticks\":\"\"},\"colorscale\":[[0.0,\"#0d0887\"],[0.1111111111111111,\"#46039f\"],[0.2222222222222222,\"#7201a8\"],[0.3333333333333333,\"#9c179e\"],[0.4444444444444444,\"#bd3786\"],[0.5555555555555556,\"#d8576b\"],[0.6666666666666666,\"#ed7953\"],[0.7777777777777778,\"#fb9f3a\"],[0.8888888888888888,\"#fdca26\"],[1.0,\"#f0f921\"]]}],\"mesh3d\":[{\"type\":\"mesh3d\",\"colorbar\":{\"outlinewidth\":0,\"ticks\":\"\"}}],\"scatter\":[{\"fillpattern\":{\"fillmode\":\"overlay\",\"size\":10,\"solidity\":0.2},\"type\":\"scatter\"}],\"parcoords\":[{\"type\":\"parcoords\",\"line\":{\"colorbar\":{\"outlinewidth\":0,\"ticks\":\"\"}}}],\"scatterpolargl\":[{\"type\":\"scatterpolargl\",\"marker\":{\"colorbar\":{\"outlinewidth\":0,\"ticks\":\"\"}}}],\"bar\":[{\"error_x\":{\"color\":\"#2a3f5f\"},\"error_y\":{\"color\":\"#2a3f5f\"},\"marker\":{\"line\":{\"color\":\"#E5ECF6\",\"width\":0.5},\"pattern\":{\"fillmode\":\"overlay\",\"size\":10,\"solidity\":0.2}},\"type\":\"bar\"}],\"scattergeo\":[{\"type\":\"scattergeo\",\"marker\":{\"colorbar\":{\"outlinewidth\":0,\"ticks\":\"\"}}}],\"scatterpolar\":[{\"type\":\"scatterpolar\",\"marker\":{\"colorbar\":{\"outlinewidth\":0,\"ticks\":\"\"}}}],\"histogram\":[{\"marker\":{\"pattern\":{\"fillmode\":\"overlay\",\"size\":10,\"solidity\":0.2}},\"type\":\"histogram\"}],\"scattergl\":[{\"type\":\"scattergl\",\"marker\":{\"colorbar\":{\"outlinewidth\":0,\"ticks\":\"\"}}}],\"scatter3d\":[{\"type\":\"scatter3d\",\"line\":{\"colorbar\":{\"outlinewidth\":0,\"ticks\":\"\"}},\"marker\":{\"colorbar\":{\"outlinewidth\":0,\"ticks\":\"\"}}}],\"scattermapbox\":[{\"type\":\"scattermapbox\",\"marker\":{\"colorbar\":{\"outlinewidth\":0,\"ticks\":\"\"}}}],\"scatterternary\":[{\"type\":\"scatterternary\",\"marker\":{\"colorbar\":{\"outlinewidth\":0,\"ticks\":\"\"}}}],\"scattercarpet\":[{\"type\":\"scattercarpet\",\"marker\":{\"colorbar\":{\"outlinewidth\":0,\"ticks\":\"\"}}}],\"carpet\":[{\"aaxis\":{\"endlinecolor\":\"#2a3f5f\",\"gridcolor\":\"white\",\"linecolor\":\"white\",\"minorgridcolor\":\"white\",\"startlinecolor\":\"#2a3f5f\"},\"baxis\":{\"endlinecolor\":\"#2a3f5f\",\"gridcolor\":\"white\",\"linecolor\":\"white\",\"minorgridcolor\":\"white\",\"startlinecolor\":\"#2a3f5f\"},\"type\":\"carpet\"}],\"table\":[{\"cells\":{\"fill\":{\"color\":\"#EBF0F8\"},\"line\":{\"color\":\"white\"}},\"header\":{\"fill\":{\"color\":\"#C8D4E3\"},\"line\":{\"color\":\"white\"}},\"type\":\"table\"}],\"barpolar\":[{\"marker\":{\"line\":{\"color\":\"#E5ECF6\",\"width\":0.5},\"pattern\":{\"fillmode\":\"overlay\",\"size\":10,\"solidity\":0.2}},\"type\":\"barpolar\"}],\"pie\":[{\"automargin\":true,\"type\":\"pie\"}]},\"layout\":{\"autotypenumbers\":\"strict\",\"colorway\":[\"#636efa\",\"#EF553B\",\"#00cc96\",\"#ab63fa\",\"#FFA15A\",\"#19d3f3\",\"#FF6692\",\"#B6E880\",\"#FF97FF\",\"#FECB52\"],\"font\":{\"color\":\"#2a3f5f\"},\"hovermode\":\"closest\",\"hoverlabel\":{\"align\":\"left\"},\"paper_bgcolor\":\"white\",\"plot_bgcolor\":\"#E5ECF6\",\"polar\":{\"bgcolor\":\"#E5ECF6\",\"angularaxis\":{\"gridcolor\":\"white\",\"linecolor\":\"white\",\"ticks\":\"\"},\"radialaxis\":{\"gridcolor\":\"white\",\"linecolor\":\"white\",\"ticks\":\"\"}},\"ternary\":{\"bgcolor\":\"#E5ECF6\",\"aaxis\":{\"gridcolor\":\"white\",\"linecolor\":\"white\",\"ticks\":\"\"},\"baxis\":{\"gridcolor\":\"white\",\"linecolor\":\"white\",\"ticks\":\"\"},\"caxis\":{\"gridcolor\":\"white\",\"linecolor\":\"white\",\"ticks\":\"\"}},\"coloraxis\":{\"colorbar\":{\"outlinewidth\":0,\"ticks\":\"\"}},\"colorscale\":{\"sequential\":[[0.0,\"#0d0887\"],[0.1111111111111111,\"#46039f\"],[0.2222222222222222,\"#7201a8\"],[0.3333333333333333,\"#9c179e\"],[0.4444444444444444,\"#bd3786\"],[0.5555555555555556,\"#d8576b\"],[0.6666666666666666,\"#ed7953\"],[0.7777777777777778,\"#fb9f3a\"],[0.8888888888888888,\"#fdca26\"],[1.0,\"#f0f921\"]],\"sequentialminus\":[[0.0,\"#0d0887\"],[0.1111111111111111,\"#46039f\"],[0.2222222222222222,\"#7201a8\"],[0.3333333333333333,\"#9c179e\"],[0.4444444444444444,\"#bd3786\"],[0.5555555555555556,\"#d8576b\"],[0.6666666666666666,\"#ed7953\"],[0.7777777777777778,\"#fb9f3a\"],[0.8888888888888888,\"#fdca26\"],[1.0,\"#f0f921\"]],\"diverging\":[[0,\"#8e0152\"],[0.1,\"#c51b7d\"],[0.2,\"#de77ae\"],[0.3,\"#f1b6da\"],[0.4,\"#fde0ef\"],[0.5,\"#f7f7f7\"],[0.6,\"#e6f5d0\"],[0.7,\"#b8e186\"],[0.8,\"#7fbc41\"],[0.9,\"#4d9221\"],[1,\"#276419\"]]},\"xaxis\":{\"gridcolor\":\"white\",\"linecolor\":\"white\",\"ticks\":\"\",\"title\":{\"standoff\":15},\"zerolinecolor\":\"white\",\"automargin\":true,\"zerolinewidth\":2},\"yaxis\":{\"gridcolor\":\"white\",\"linecolor\":\"white\",\"ticks\":\"\",\"title\":{\"standoff\":15},\"zerolinecolor\":\"white\",\"automargin\":true,\"zerolinewidth\":2},\"scene\":{\"xaxis\":{\"backgroundcolor\":\"#E5ECF6\",\"gridcolor\":\"white\",\"linecolor\":\"white\",\"showbackground\":true,\"ticks\":\"\",\"zerolinecolor\":\"white\",\"gridwidth\":2},\"yaxis\":{\"backgroundcolor\":\"#E5ECF6\",\"gridcolor\":\"white\",\"linecolor\":\"white\",\"showbackground\":true,\"ticks\":\"\",\"zerolinecolor\":\"white\",\"gridwidth\":2},\"zaxis\":{\"backgroundcolor\":\"#E5ECF6\",\"gridcolor\":\"white\",\"linecolor\":\"white\",\"showbackground\":true,\"ticks\":\"\",\"zerolinecolor\":\"white\",\"gridwidth\":2}},\"shapedefaults\":{\"line\":{\"color\":\"#2a3f5f\"}},\"annotationdefaults\":{\"arrowcolor\":\"#2a3f5f\",\"arrowhead\":0,\"arrowwidth\":1},\"geo\":{\"bgcolor\":\"white\",\"landcolor\":\"#E5ECF6\",\"subunitcolor\":\"white\",\"showland\":true,\"showlakes\":true,\"lakecolor\":\"white\"},\"title\":{\"x\":0.05},\"mapbox\":{\"style\":\"light\"}}},\"xaxis\":{\"anchor\":\"y\",\"domain\":[0.0,1.0],\"title\":{\"text\":\"Hour of the Day\"}},\"yaxis\":{\"anchor\":\"x\",\"domain\":[0.0,1.0],\"title\":{\"text\":\"Number of Delays\"}},\"legend\":{\"tracegroupgap\":0},\"title\":{\"text\":\"3.9 Number of Delays by Hour of the Day\"},\"barmode\":\"relative\"},                        {\"responsive\": true}                    ).then(function(){\n",
              "                            \n",
              "var gd = document.getElementById('7685b278-5e4e-4167-b52b-4b9c2a54156d');\n",
              "var x = new MutationObserver(function (mutations, observer) {{\n",
              "        var display = window.getComputedStyle(gd).display;\n",
              "        if (!display || display === 'none') {{\n",
              "            console.log([gd, 'removed!']);\n",
              "            Plotly.purge(gd);\n",
              "            observer.disconnect();\n",
              "        }}\n",
              "}});\n",
              "\n",
              "// Listen for the removal of the full notebook cells\n",
              "var notebookContainer = gd.closest('#notebook-container');\n",
              "if (notebookContainer) {{\n",
              "    x.observe(notebookContainer, {childList: true});\n",
              "}}\n",
              "\n",
              "// Listen for the clearing of the current output cell\n",
              "var outputEl = gd.closest('.output');\n",
              "if (outputEl) {{\n",
              "    x.observe(outputEl, {childList: true});\n",
              "}}\n",
              "\n",
              "                        })                };                            </script>        </div>\n",
              "</body>\n",
              "</html>"
            ]
          },
          "metadata": {}
        }
      ],
      "source": [
        "import plotly.express as px\n",
        "\n",
        "# Load data from a CSV file\n",
        "data = merged_df\n",
        "\n",
        "# Convert scheduled departure time to a datetime object\n",
        "data['scheduled_departure_time'] = pd.to_datetime(data['scheduled_departure_time'])\n",
        "\n",
        "# Create a new column for the hour of the scheduled departure time\n",
        "data['hour'] = data['scheduled_departure_time'].dt.hour\n",
        "\n",
        "# Calculate the number of delayed flights for each hour of the day\n",
        "delayed_by_hour = data.groupby('hour')['delayed'].sum().reset_index()\n",
        "\n",
        "# Create a bar chart of the number of delays by hour\n",
        "fig = px.bar(\n",
        "    delayed_by_hour,\n",
        "    x='hour',\n",
        "    y='delayed',\n",
        "    labels={'hour': 'Hour of the Day', 'delayed': 'Number of Delays'},\n",
        "    title='3.9 Number of Delays by Hour of the Day'\n",
        ")\n",
        "\n",
        "# Display the bar chart\n",
        "fig.show()\n"
      ]
    },
    {
      "cell_type": "markdown",
      "metadata": {
        "id": "PCCjhlWoHSH1"
      },
      "source": [
        "#3.9.1 Flight delays for each hour of the day conclusion\n",
        "\n",
        "From the graph we are able to determine that most delays occur within 16:00 to 19:00. These might also be very busy periods within the airports with most flights happening within this timeframe hence the huge spike in delays."
      ]
    },
    {
      "cell_type": "markdown",
      "metadata": {
        "id": "yiHre83tZULp"
      },
      "source": [
        "#3.10 Flight delays for each airline and airport combination\n",
        "\n",
        "The bubble chart shows the number of flight delays for each airline and airport combination. The x-axis shows the airline codes, the y-axis shows the airport codes, and the size of each bubble represents the number of flight delays for that combination. The color of each bubble represents the percentage of flights delayed for that combination."
      ]
    },
    {
      "cell_type": "code",
      "execution_count": 57,
      "metadata": {
        "colab": {
          "base_uri": "https://localhost:8080/",
          "height": 542
        },
        "id": "e_mEFYpZZUq-",
        "outputId": "be8844b3-2740-44fc-e6b3-aa5484721203"
      },
      "outputs": [
        {
          "output_type": "display_data",
          "data": {
            "text/html": [
              "<html>\n",
              "<head><meta charset=\"utf-8\" /></head>\n",
              "<body>\n",
              "    <div>            <script src=\"https://cdnjs.cloudflare.com/ajax/libs/mathjax/2.7.5/MathJax.js?config=TeX-AMS-MML_SVG\"></script><script type=\"text/javascript\">if (window.MathJax && window.MathJax.Hub && window.MathJax.Hub.Config) {window.MathJax.Hub.Config({SVG: {font: \"STIX-Web\"}});}</script>                <script type=\"text/javascript\">window.PlotlyConfig = {MathJaxConfig: 'local'};</script>\n",
              "        <script src=\"https://cdn.plot.ly/plotly-2.18.2.min.js\"></script>                <div id=\"c6fcb973-3182-4069-84ce-6e895aa29b67\" class=\"plotly-graph-div\" style=\"height:525px; width:100%;\"></div>            <script type=\"text/javascript\">                                    window.PLOTLYENV=window.PLOTLYENV || {};                                    if (document.getElementById(\"c6fcb973-3182-4069-84ce-6e895aa29b67\")) {                    Plotly.newPlot(                        \"c6fcb973-3182-4069-84ce-6e895aa29b67\",                        [{\"hovertemplate\":\"Airline Name=%{x}<br>Airport Code=%{y}<br>Number of Delays=%{marker.size}<br>% Delayed=%{marker.color}<extra></extra>\",\"legendgroup\":\"\",\"marker\":{\"color\":[27.61,26.54,26.97,0.0,32.35,20.08,20.59,21.08,14.29,32.94,26.93,32.44,31.52,35.82,36.16,26.4,20.2,29.24,22.97,100.0,28.57,23.93,30.36,25.07,29.37,0.0,0.0,27.36,26.05,31.13,0.0,0.0,22.55,27.27,25.33,14.29,27.01,30.0,27.76,25.0,33.33,27.2,50.0,34.78,58.12,85.71,44.44,25.6,25.61,0.0,27.88,25.15,60.4,0.0,28.4,100.0,27.45,33.33,0.0,24.81,21.21,34.4,0.0,29.17,36.35,40.23,37.1,9.09,32.35,100.0,34.09,41.96,37.01,29.32,30.52,0.0,28.18,32.45,32.99,43.48,30.85,38.62,30.82,0.0,30.33,32.94,24.48,26.71,27.63,0.0,31.69,0.0,27.27,32.45,60.56,33.33,0.0,20.0,31.61,43.46,37.8,34.41,27.1,41.74,52.52,50.56,43.86,26.51,38.64,42.5,36.99,29.06,38.01,25.91,52.11,34.14,29.56,45.79,29.96,23.02,29.38,34.9,28.2,28.94,44.64,33.29,35.72,35.58,18.62,46.38,42.74,25.79,27.35,33.54,32.62,36.02,39.96,38.5,29.31,52.44,22.58,41.42,42.6,27.42,40.83,35.11,33.33,34.14,59.88,35.06,45.76,50.22,30.81,50.32,27.69,35.19,30.71,29.17,30.79,39.75,35.69,42.49,27.75,43.0,40.8,49.73,56.42,61.03,34.87,41.13,40.52,34.34,28.57,34.97,26.69,38.58,24.93,44.9,20.13,27.06,0.0,42.86,23.51,40.35,25.09,0.0,35.56,30.0,27.6,100.0,30.64,0.0,20.42,27.11,40.0,25.0,100.0,20.83,46.43,28.33,26.37,25.44,26.17,25.93,0.0,32.41,30.77,100.0,17.86,20.08,30.56,0.0,27.27,25.0,17.86,30.0,24.58,30.06,36.36,27.58,100.0,25.0,42.83,18.84,31.49,43.07,46.24,32.55,50.0,20.0,40.34,40.03,39.93,40.7,57.45,32.19,48.49,46.82,18.92,42.46,36.49,40.17,35.5,40.94,38.47,100.0,31.82,31.03,51.77,40.81,42.39,90.0,29.4,15.78,0.0,16.57,20.92,31.61,0.0,100.0,53.64,42.3,40.72,8.73,0.0,39.6,46.52,20.0,48.26,11.9,50.0,100.0,41.08,100.0,11.11,100.0,51.9,13.79],\"coloraxis\":\"coloraxis\",\"size\":[1229,851,339,0,231,201,14,98,2,360,1033,1010,2932,763,345,5867,5788,7748,127,1,4,2443,4365,4385,7408,0,0,8016,5853,2676,0,0,129,3,58,19,94,3,191,93,21,102,2,8,68,6,4,1479,115,0,46,257,90,0,23,1,28,1,0,32,456,1147,0,7,14832,696,105,2,11,1,1407,60,272,6786,758,0,31,3032,449,3001,4531,56,2731,0,411,6371,70,78,215,0,766,0,6,306,86,6,0,1,1320,870,2879,1432,58,48,542,181,50,44,17,17,243,480,2377,1058,37,1370,3729,223,4635,29,1471,2168,2121,10432,3059,2255,2731,5428,81,9448,50,694,2136,277,2486,9257,3803,4890,3050,1448,56,10310,581,68,1086,1661,5,240,406,3622,7065,931,4422,1866,3823,19,5080,3389,218,6730,2574,150,1012,2834,5467,1124,1010,343,948,475,5782,102,2,135,75,103,188,22,31,263,0,3,590,23,68,0,32,69,971,1,91,0,58,241,6,3,1,200,13,253,246,217,251,28,0,268,8,1,60,52,11,0,6,1,5,63,131,49,8,179,1,1,523,13,57,59,80,69,2,1,1916,586,3173,11900,320,841,804,3557,7,1568,835,1490,82,6365,1670,1,7,72,117,91,3758,9,3266,2579,0,2355,3483,1270,0,1,265,6036,12258,11,0,5201,7530,1,2822,15,1,1,9496,2,11,1,10732,8],\"sizemode\":\"area\",\"sizeref\":37.08,\"symbol\":\"circle\"},\"mode\":\"markers\",\"name\":\"\",\"orientation\":\"v\",\"showlegend\":false,\"x\":[\"AirTran Airways\",\"AirTran Airways\",\"AirTran Airways\",\"AirTran Airways\",\"AirTran Airways\",\"AirTran Airways\",\"AirTran Airways\",\"AirTran Airways\",\"AirTran Airways\",\"Alaska Airlines\",\"Alaska Airlines\",\"Alaska Airlines\",\"Alaska Airlines\",\"Alaska Airlines\",\"American Airlines\",\"American Airlines\",\"American Airlines\",\"American Airlines\",\"American Airlines\",\"American Airlines\",\"American Airlines\",\"American Airlines\",\"American Airlines\",\"American Airlines\",\"American Airlines\",\"American Airlines\",\"American Airlines\",\"American Airlines\",\"American Airlines\",\"American Airlines\",\"American Airlines\",\"American Airlines\",\"American Airlines\",\"American Eagle\",\"American Eagle\",\"American Eagle\",\"American Eagle\",\"American Eagle\",\"American Eagle\",\"American Eagle\",\"American Eagle\",\"American Eagle\",\"American Eagle\",\"American Eagle\",\"American Eagle\",\"Atlantic Southeast Airlines\",\"Atlantic Southeast Airlines\",\"Atlantic Southeast Airlines\",\"Atlantic Southeast Airlines\",\"Atlantic Southeast Airlines\",\"Atlantic Southeast Airlines\",\"Atlantic Southeast Airlines\",\"Atlantic Southeast Airlines\",\"Atlantic Southeast Airlines\",\"Atlantic Southeast Airlines\",\"Atlantic Southeast Airlines\",\"Atlantic Southeast Airlines\",\"Atlantic Southeast Airlines\",\"Atlantic Southeast Airlines\",\"Atlantic Southeast Airlines\",\"Atlantic Southeast Airlines\",\"Atlantic Southeast Airlines\",\"Comair\",\"Comair\",\"Delta Air Lines\",\"Delta Air Lines\",\"Delta Air Lines\",\"Delta Air Lines\",\"Delta Air Lines\",\"Delta Air Lines\",\"Delta Air Lines\",\"Delta Air Lines\",\"Delta Air Lines\",\"Delta Air Lines\",\"Delta Air Lines\",\"Delta Air Lines\",\"Delta Air Lines\",\"Delta Air Lines\",\"Delta Air Lines\",\"Delta Air Lines\",\"Delta Air Lines\",\"Delta Air Lines\",\"Delta Air Lines\",\"Delta Air Lines\",\"Delta Air Lines\",\"Delta Air Lines\",\"Delta Air Lines\",\"Delta Air Lines\",\"Delta Air Lines\",\"Delta Air Lines\",\"Delta Air Lines\",\"Delta Air Lines\",\"Delta Air Lines\",\"Delta Air Lines\",\"Delta Air Lines\",\"Delta Air Lines\",\"Delta Air Lines\",\"Delta Air Lines\",\"Delta Air Lines\",\"Delta Air Lines\",\"Delta Air Lines\",\"Delta Air Lines\",\"Frontier\",\"Frontier\",\"Frontier\",\"Frontier\",\"Frontier\",\"Frontier\",\"Frontier\",\"Frontier\",\"Hawaiian Airlines\",\"JetBlue Airways\",\"JetBlue Airways\",\"JetBlue Airways\",\"JetBlue Airways\",\"JetBlue Airways\",\"JetBlue Airways\",\"JetBlue Airways\",\"JetBlue Airways\",\"JetBlue Airways\",\"JetBlue Airways\",\"JetBlue Airways\",\"JetBlue Airways\",\"JetBlue Airways\",\"JetBlue Airways\",\"JetBlue Airways\",\"JetBlue Airways\",\"JetBlue Airways\",\"JetBlue Airways\",\"JetBlue Airways\",\"JetBlue Airways\",\"JetBlue Airways\",\"JetBlue Airways\",\"JetBlue Airways\",\"JetBlue Airways\",\"JetBlue Airways\",\"JetBlue Airways\",\"JetBlue Airways\",\"JetBlue Airways\",\"JetBlue Airways\",\"JetBlue Airways\",\"JetBlue Airways\",\"JetBlue Airways\",\"JetBlue Airways\",\"JetBlue Airways\",\"JetBlue Airways\",\"JetBlue Airways\",\"JetBlue Airways\",\"JetBlue Airways\",\"JetBlue Airways\",\"JetBlue Airways\",\"JetBlue Airways\",\"JetBlue Airways\",\"JetBlue Airways\",\"JetBlue Airways\",\"JetBlue Airways\",\"JetBlue Airways\",\"JetBlue Airways\",\"JetBlue Airways\",\"JetBlue Airways\",\"JetBlue Airways\",\"JetBlue Airways\",\"JetBlue Airways\",\"JetBlue Airways\",\"JetBlue Airways\",\"JetBlue Airways\",\"JetBlue Airways\",\"JetBlue Airways\",\"JetBlue Airways\",\"JetBlue Airways\",\"JetBlue Airways\",\"Mesa Airlines\",\"Mesa Airlines\",\"Mesa Airlines\",\"Pinnacle Airlines\",\"Pinnacle Airlines\",\"Pinnacle Airlines\",\"Pinnacle Airlines\",\"Pinnacle Airlines\",\"Pinnacle Airlines\",\"Pinnacle Airlines\",\"Pinnacle Airlines\",\"Pinnacle Airlines\",\"Pinnacle Airlines\",\"Pinnacle Airlines\",\"Pinnacle Airlines\",\"Pinnacle Airlines\",\"Pinnacle Airlines\",\"Pinnacle Airlines\",\"Pinnacle Airlines\",\"Pinnacle Airlines\",\"Pinnacle Airlines\",\"Pinnacle Airlines\",\"Pinnacle Airlines\",\"Pinnacle Airlines\",\"Pinnacle Airlines\",\"Pinnacle Airlines\",\"Pinnacle Airlines\",\"Pinnacle Airlines\",\"Pinnacle Airlines\",\"Pinnacle Airlines\",\"Pinnacle Airlines\",\"Pinnacle Airlines\",\"Pinnacle Airlines\",\"Pinnacle Airlines\",\"SkyWest Airlines\",\"SkyWest Airlines\",\"SkyWest Airlines\",\"SkyWest Airlines\",\"SkyWest Airlines\",\"SkyWest Airlines\",\"SkyWest Airlines\",\"SkyWest Airlines\",\"SkyWest Airlines\",\"SkyWest Airlines\",\"SkyWest Airlines\",\"SkyWest Airlines\",\"SkyWest Airlines\",\"SkyWest Airlines\",\"SkyWest Airlines\",\"SkyWest Airlines\",\"SkyWest Airlines\",\"SkyWest Airlines\",\"SkyWest Airlines\",\"SkyWest Airlines\",\"SkyWest Airlines\",\"SkyWest Airlines\",\"SkyWest Airlines\",\"SkyWest Airlines\",\"SkyWest Airlines\",\"Southwest Airlines\",\"Southwest Airlines\",\"Southwest Airlines\",\"Southwest Airlines\",\"Southwest Airlines\",\"Southwest Airlines\",\"Southwest Airlines\",\"Southwest Airlines\",\"Southwest Airlines\",\"Southwest Airlines\",\"Southwest Airlines\",\"Southwest Airlines\",\"Southwest Airlines\",\"Southwest Airlines\",\"Southwest Airlines\",\"Southwest Airlines\",\"Southwest Airlines\",\"Southwest Airlines\",\"Southwest Airlines\",\"Southwest Airlines\",\"Southwest Airlines\",\"Southwest Airlines\",\"US Airways\",\"US Airways\",\"US Airways\",\"US Airways\",\"US Airways\",\"US Airways\",\"US Airways\",\"United Airlines\",\"United Airlines\",\"United Airlines\",\"United Airlines\",\"United Airlines\",\"United Airlines\",\"United Airlines\",\"United Airlines\",\"United Airlines\",\"United Airlines\",\"United Airlines\",\"United Airlines\",\"United Airlines\",\"United Airlines\",\"United Airlines\",\"United Airlines\",\"United Airlines\",\"United Airlines\",\"United Airlines\"],\"xaxis\":\"x\",\"y\":[\"ATL\",\"BWI\",\"CAK\",\"IND\",\"MCO\",\"MKE\",\"PHF\",\"RSW\",\"SRQ\",\"LAX\",\"PDX\",\"SAN\",\"SEA\",\"SFO\",\"AUS\",\"CLT\",\"DCA\",\"DFW\",\"FLL\",\"IAH\",\"JAC\",\"JFK\",\"LAX\",\"LGA\",\"MIA\",\"MSN\",\"MSP\",\"ORD\",\"PHL\",\"PHX\",\"PIT\",\"PNS\",\"STL\",\"CMH\",\"CVG\",\"ILM\",\"JFK\",\"MIA\",\"ORD\",\"PIT\",\"PNS\",\"ROC\",\"SDF\",\"STL\",\"SYR\",\"ATL\",\"CHS\",\"CLE\",\"CVG\",\"DCA\",\"DTW\",\"EWR\",\"IAD\",\"IND\",\"JAX\",\"LGA\",\"MEM\",\"MSP\",\"MYR\",\"ORF\",\"RDU\",\"RIC\",\"MSN\",\"PHL\",\"ATL\",\"AUS\",\"BNA\",\"BUF\",\"CHS\",\"CMH\",\"CVG\",\"DEN\",\"DFW\",\"DTW\",\"FLL\",\"IND\",\"JAX\",\"JFK\",\"LAS\",\"LAX\",\"LGA\",\"MCI\",\"MCO\",\"MEM\",\"MIA\",\"MSP\",\"MSY\",\"ORD\",\"PBI\",\"PHL\",\"RDU\",\"RIC\",\"ROC\",\"RSW\",\"SAN\",\"SAV\",\"SBN\",\"SDF\",\"SEA\",\"SFO\",\"SLC\",\"TPA\",\"DEN\",\"MCI\",\"MCO\",\"MIA\",\"PHL\",\"RDU\",\"RSW\",\"TPA\",\"HNL\",\"ACK\",\"ATL\",\"AUS\",\"AVL\",\"BNA\",\"BUF\",\"BUR\",\"BWI\",\"BZN\",\"CHS\",\"CLE\",\"CLT\",\"DCA\",\"DEN\",\"DFW\",\"DTW\",\"EWR\",\"EYW\",\"FLL\",\"HDN\",\"HOU\",\"IAD\",\"IAH\",\"JAX\",\"JFK\",\"LAS\",\"LAX\",\"LGA\",\"LGB\",\"MCI\",\"MCO\",\"MIA\",\"MKE\",\"MSP\",\"MSY\",\"MTJ\",\"MVY\",\"OAK\",\"ORD\",\"PBI\",\"PDX\",\"PHL\",\"PHX\",\"PIT\",\"PSP\",\"RDU\",\"RIC\",\"ROC\",\"RSW\",\"SAN\",\"SAT\",\"SAV\",\"SEA\",\"SFO\",\"SJC\",\"SLC\",\"SMF\",\"SRQ\",\"SYR\",\"TPA\",\"IAD\",\"IAH\",\"ORD\",\"BGR\",\"BNA\",\"BUF\",\"BWI\",\"CHS\",\"CLE\",\"CLT\",\"CMH\",\"CVG\",\"DTW\",\"EWR\",\"GSP\",\"IND\",\"JAX\",\"JFK\",\"LGA\",\"MCI\",\"MCO\",\"MEM\",\"MKE\",\"MSP\",\"MYR\",\"ORD\",\"ORF\",\"PBI\",\"PHL\",\"PIT\",\"RDU\",\"RIC\",\"SAV\",\"TVC\",\"BNA\",\"BUF\",\"BWI\",\"CHS\",\"CLE\",\"CVG\",\"DTW\",\"EWR\",\"IAD\",\"IAH\",\"JAX\",\"JFK\",\"LGA\",\"MCI\",\"MKE\",\"MSN\",\"MSY\",\"ORD\",\"ORF\",\"PHL\",\"PIT\",\"RDU\",\"RIC\",\"RSW\",\"SAV\",\"ATL\",\"AUS\",\"BNA\",\"BWI\",\"CAK\",\"CMH\",\"DAL\",\"DEN\",\"FLL\",\"HOU\",\"IND\",\"MCI\",\"MCO\",\"MDW\",\"MKE\",\"MSP\",\"MSY\",\"PHL\",\"PHX\",\"RSW\",\"STL\",\"TPA\",\"CLT\",\"DCA\",\"IND\",\"LGA\",\"PHL\",\"PHX\",\"PIT\",\"ATL\",\"CLE\",\"DEN\",\"EWR\",\"FLL\",\"GRB\",\"IAD\",\"IAH\",\"LAS\",\"LAX\",\"MCO\",\"MSN\",\"MSP\",\"ORD\",\"PHX\",\"RSW\",\"SBN\",\"SFO\",\"TPA\"],\"yaxis\":\"y\",\"type\":\"scatter\"}],                        {\"template\":{\"data\":{\"histogram2dcontour\":[{\"type\":\"histogram2dcontour\",\"colorbar\":{\"outlinewidth\":0,\"ticks\":\"\"},\"colorscale\":[[0.0,\"#0d0887\"],[0.1111111111111111,\"#46039f\"],[0.2222222222222222,\"#7201a8\"],[0.3333333333333333,\"#9c179e\"],[0.4444444444444444,\"#bd3786\"],[0.5555555555555556,\"#d8576b\"],[0.6666666666666666,\"#ed7953\"],[0.7777777777777778,\"#fb9f3a\"],[0.8888888888888888,\"#fdca26\"],[1.0,\"#f0f921\"]]}],\"choropleth\":[{\"type\":\"choropleth\",\"colorbar\":{\"outlinewidth\":0,\"ticks\":\"\"}}],\"histogram2d\":[{\"type\":\"histogram2d\",\"colorbar\":{\"outlinewidth\":0,\"ticks\":\"\"},\"colorscale\":[[0.0,\"#0d0887\"],[0.1111111111111111,\"#46039f\"],[0.2222222222222222,\"#7201a8\"],[0.3333333333333333,\"#9c179e\"],[0.4444444444444444,\"#bd3786\"],[0.5555555555555556,\"#d8576b\"],[0.6666666666666666,\"#ed7953\"],[0.7777777777777778,\"#fb9f3a\"],[0.8888888888888888,\"#fdca26\"],[1.0,\"#f0f921\"]]}],\"heatmap\":[{\"type\":\"heatmap\",\"colorbar\":{\"outlinewidth\":0,\"ticks\":\"\"},\"colorscale\":[[0.0,\"#0d0887\"],[0.1111111111111111,\"#46039f\"],[0.2222222222222222,\"#7201a8\"],[0.3333333333333333,\"#9c179e\"],[0.4444444444444444,\"#bd3786\"],[0.5555555555555556,\"#d8576b\"],[0.6666666666666666,\"#ed7953\"],[0.7777777777777778,\"#fb9f3a\"],[0.8888888888888888,\"#fdca26\"],[1.0,\"#f0f921\"]]}],\"heatmapgl\":[{\"type\":\"heatmapgl\",\"colorbar\":{\"outlinewidth\":0,\"ticks\":\"\"},\"colorscale\":[[0.0,\"#0d0887\"],[0.1111111111111111,\"#46039f\"],[0.2222222222222222,\"#7201a8\"],[0.3333333333333333,\"#9c179e\"],[0.4444444444444444,\"#bd3786\"],[0.5555555555555556,\"#d8576b\"],[0.6666666666666666,\"#ed7953\"],[0.7777777777777778,\"#fb9f3a\"],[0.8888888888888888,\"#fdca26\"],[1.0,\"#f0f921\"]]}],\"contourcarpet\":[{\"type\":\"contourcarpet\",\"colorbar\":{\"outlinewidth\":0,\"ticks\":\"\"}}],\"contour\":[{\"type\":\"contour\",\"colorbar\":{\"outlinewidth\":0,\"ticks\":\"\"},\"colorscale\":[[0.0,\"#0d0887\"],[0.1111111111111111,\"#46039f\"],[0.2222222222222222,\"#7201a8\"],[0.3333333333333333,\"#9c179e\"],[0.4444444444444444,\"#bd3786\"],[0.5555555555555556,\"#d8576b\"],[0.6666666666666666,\"#ed7953\"],[0.7777777777777778,\"#fb9f3a\"],[0.8888888888888888,\"#fdca26\"],[1.0,\"#f0f921\"]]}],\"surface\":[{\"type\":\"surface\",\"colorbar\":{\"outlinewidth\":0,\"ticks\":\"\"},\"colorscale\":[[0.0,\"#0d0887\"],[0.1111111111111111,\"#46039f\"],[0.2222222222222222,\"#7201a8\"],[0.3333333333333333,\"#9c179e\"],[0.4444444444444444,\"#bd3786\"],[0.5555555555555556,\"#d8576b\"],[0.6666666666666666,\"#ed7953\"],[0.7777777777777778,\"#fb9f3a\"],[0.8888888888888888,\"#fdca26\"],[1.0,\"#f0f921\"]]}],\"mesh3d\":[{\"type\":\"mesh3d\",\"colorbar\":{\"outlinewidth\":0,\"ticks\":\"\"}}],\"scatter\":[{\"fillpattern\":{\"fillmode\":\"overlay\",\"size\":10,\"solidity\":0.2},\"type\":\"scatter\"}],\"parcoords\":[{\"type\":\"parcoords\",\"line\":{\"colorbar\":{\"outlinewidth\":0,\"ticks\":\"\"}}}],\"scatterpolargl\":[{\"type\":\"scatterpolargl\",\"marker\":{\"colorbar\":{\"outlinewidth\":0,\"ticks\":\"\"}}}],\"bar\":[{\"error_x\":{\"color\":\"#2a3f5f\"},\"error_y\":{\"color\":\"#2a3f5f\"},\"marker\":{\"line\":{\"color\":\"#E5ECF6\",\"width\":0.5},\"pattern\":{\"fillmode\":\"overlay\",\"size\":10,\"solidity\":0.2}},\"type\":\"bar\"}],\"scattergeo\":[{\"type\":\"scattergeo\",\"marker\":{\"colorbar\":{\"outlinewidth\":0,\"ticks\":\"\"}}}],\"scatterpolar\":[{\"type\":\"scatterpolar\",\"marker\":{\"colorbar\":{\"outlinewidth\":0,\"ticks\":\"\"}}}],\"histogram\":[{\"marker\":{\"pattern\":{\"fillmode\":\"overlay\",\"size\":10,\"solidity\":0.2}},\"type\":\"histogram\"}],\"scattergl\":[{\"type\":\"scattergl\",\"marker\":{\"colorbar\":{\"outlinewidth\":0,\"ticks\":\"\"}}}],\"scatter3d\":[{\"type\":\"scatter3d\",\"line\":{\"colorbar\":{\"outlinewidth\":0,\"ticks\":\"\"}},\"marker\":{\"colorbar\":{\"outlinewidth\":0,\"ticks\":\"\"}}}],\"scattermapbox\":[{\"type\":\"scattermapbox\",\"marker\":{\"colorbar\":{\"outlinewidth\":0,\"ticks\":\"\"}}}],\"scatterternary\":[{\"type\":\"scatterternary\",\"marker\":{\"colorbar\":{\"outlinewidth\":0,\"ticks\":\"\"}}}],\"scattercarpet\":[{\"type\":\"scattercarpet\",\"marker\":{\"colorbar\":{\"outlinewidth\":0,\"ticks\":\"\"}}}],\"carpet\":[{\"aaxis\":{\"endlinecolor\":\"#2a3f5f\",\"gridcolor\":\"white\",\"linecolor\":\"white\",\"minorgridcolor\":\"white\",\"startlinecolor\":\"#2a3f5f\"},\"baxis\":{\"endlinecolor\":\"#2a3f5f\",\"gridcolor\":\"white\",\"linecolor\":\"white\",\"minorgridcolor\":\"white\",\"startlinecolor\":\"#2a3f5f\"},\"type\":\"carpet\"}],\"table\":[{\"cells\":{\"fill\":{\"color\":\"#EBF0F8\"},\"line\":{\"color\":\"white\"}},\"header\":{\"fill\":{\"color\":\"#C8D4E3\"},\"line\":{\"color\":\"white\"}},\"type\":\"table\"}],\"barpolar\":[{\"marker\":{\"line\":{\"color\":\"#E5ECF6\",\"width\":0.5},\"pattern\":{\"fillmode\":\"overlay\",\"size\":10,\"solidity\":0.2}},\"type\":\"barpolar\"}],\"pie\":[{\"automargin\":true,\"type\":\"pie\"}]},\"layout\":{\"autotypenumbers\":\"strict\",\"colorway\":[\"#636efa\",\"#EF553B\",\"#00cc96\",\"#ab63fa\",\"#FFA15A\",\"#19d3f3\",\"#FF6692\",\"#B6E880\",\"#FF97FF\",\"#FECB52\"],\"font\":{\"color\":\"#2a3f5f\"},\"hovermode\":\"closest\",\"hoverlabel\":{\"align\":\"left\"},\"paper_bgcolor\":\"white\",\"plot_bgcolor\":\"#E5ECF6\",\"polar\":{\"bgcolor\":\"#E5ECF6\",\"angularaxis\":{\"gridcolor\":\"white\",\"linecolor\":\"white\",\"ticks\":\"\"},\"radialaxis\":{\"gridcolor\":\"white\",\"linecolor\":\"white\",\"ticks\":\"\"}},\"ternary\":{\"bgcolor\":\"#E5ECF6\",\"aaxis\":{\"gridcolor\":\"white\",\"linecolor\":\"white\",\"ticks\":\"\"},\"baxis\":{\"gridcolor\":\"white\",\"linecolor\":\"white\",\"ticks\":\"\"},\"caxis\":{\"gridcolor\":\"white\",\"linecolor\":\"white\",\"ticks\":\"\"}},\"coloraxis\":{\"colorbar\":{\"outlinewidth\":0,\"ticks\":\"\"}},\"colorscale\":{\"sequential\":[[0.0,\"#0d0887\"],[0.1111111111111111,\"#46039f\"],[0.2222222222222222,\"#7201a8\"],[0.3333333333333333,\"#9c179e\"],[0.4444444444444444,\"#bd3786\"],[0.5555555555555556,\"#d8576b\"],[0.6666666666666666,\"#ed7953\"],[0.7777777777777778,\"#fb9f3a\"],[0.8888888888888888,\"#fdca26\"],[1.0,\"#f0f921\"]],\"sequentialminus\":[[0.0,\"#0d0887\"],[0.1111111111111111,\"#46039f\"],[0.2222222222222222,\"#7201a8\"],[0.3333333333333333,\"#9c179e\"],[0.4444444444444444,\"#bd3786\"],[0.5555555555555556,\"#d8576b\"],[0.6666666666666666,\"#ed7953\"],[0.7777777777777778,\"#fb9f3a\"],[0.8888888888888888,\"#fdca26\"],[1.0,\"#f0f921\"]],\"diverging\":[[0,\"#8e0152\"],[0.1,\"#c51b7d\"],[0.2,\"#de77ae\"],[0.3,\"#f1b6da\"],[0.4,\"#fde0ef\"],[0.5,\"#f7f7f7\"],[0.6,\"#e6f5d0\"],[0.7,\"#b8e186\"],[0.8,\"#7fbc41\"],[0.9,\"#4d9221\"],[1,\"#276419\"]]},\"xaxis\":{\"gridcolor\":\"white\",\"linecolor\":\"white\",\"ticks\":\"\",\"title\":{\"standoff\":15},\"zerolinecolor\":\"white\",\"automargin\":true,\"zerolinewidth\":2},\"yaxis\":{\"gridcolor\":\"white\",\"linecolor\":\"white\",\"ticks\":\"\",\"title\":{\"standoff\":15},\"zerolinecolor\":\"white\",\"automargin\":true,\"zerolinewidth\":2},\"scene\":{\"xaxis\":{\"backgroundcolor\":\"#E5ECF6\",\"gridcolor\":\"white\",\"linecolor\":\"white\",\"showbackground\":true,\"ticks\":\"\",\"zerolinecolor\":\"white\",\"gridwidth\":2},\"yaxis\":{\"backgroundcolor\":\"#E5ECF6\",\"gridcolor\":\"white\",\"linecolor\":\"white\",\"showbackground\":true,\"ticks\":\"\",\"zerolinecolor\":\"white\",\"gridwidth\":2},\"zaxis\":{\"backgroundcolor\":\"#E5ECF6\",\"gridcolor\":\"white\",\"linecolor\":\"white\",\"showbackground\":true,\"ticks\":\"\",\"zerolinecolor\":\"white\",\"gridwidth\":2}},\"shapedefaults\":{\"line\":{\"color\":\"#2a3f5f\"}},\"annotationdefaults\":{\"arrowcolor\":\"#2a3f5f\",\"arrowhead\":0,\"arrowwidth\":1},\"geo\":{\"bgcolor\":\"white\",\"landcolor\":\"#E5ECF6\",\"subunitcolor\":\"white\",\"showland\":true,\"showlakes\":true,\"lakecolor\":\"white\"},\"title\":{\"x\":0.05},\"mapbox\":{\"style\":\"light\"}}},\"xaxis\":{\"anchor\":\"y\",\"domain\":[0.0,1.0],\"title\":{\"text\":\"Airline Name\"}},\"yaxis\":{\"anchor\":\"x\",\"domain\":[0.0,1.0],\"title\":{\"text\":\"Airport Code\"}},\"coloraxis\":{\"colorbar\":{\"title\":{\"text\":\"% Delayed\"}},\"colorscale\":[[0.0,\"#0d0887\"],[0.1111111111111111,\"#46039f\"],[0.2222222222222222,\"#7201a8\"],[0.3333333333333333,\"#9c179e\"],[0.4444444444444444,\"#bd3786\"],[0.5555555555555556,\"#d8576b\"],[0.6666666666666666,\"#ed7953\"],[0.7777777777777778,\"#fb9f3a\"],[0.8888888888888888,\"#fdca26\"],[1.0,\"#f0f921\"]]},\"legend\":{\"tracegroupgap\":0,\"itemsizing\":\"constant\"},\"title\":{\"text\":\"Number of Delays by Airline and Airport\"}},                        {\"responsive\": true}                    ).then(function(){\n",
              "                            \n",
              "var gd = document.getElementById('c6fcb973-3182-4069-84ce-6e895aa29b67');\n",
              "var x = new MutationObserver(function (mutations, observer) {{\n",
              "        var display = window.getComputedStyle(gd).display;\n",
              "        if (!display || display === 'none') {{\n",
              "            console.log([gd, 'removed!']);\n",
              "            Plotly.purge(gd);\n",
              "            observer.disconnect();\n",
              "        }}\n",
              "}});\n",
              "\n",
              "// Listen for the removal of the full notebook cells\n",
              "var notebookContainer = gd.closest('#notebook-container');\n",
              "if (notebookContainer) {{\n",
              "    x.observe(notebookContainer, {childList: true});\n",
              "}}\n",
              "\n",
              "// Listen for the clearing of the current output cell\n",
              "var outputEl = gd.closest('.output');\n",
              "if (outputEl) {{\n",
              "    x.observe(outputEl, {childList: true});\n",
              "}}\n",
              "\n",
              "                        })                };                            </script>        </div>\n",
              "</body>\n",
              "</html>"
            ]
          },
          "metadata": {}
        }
      ],
      "source": [
        "# Group data by airline and airport, and calculate the number of delayed flights for each combination\n",
        "delayed_by_airline_airport = data.groupby(['carrier_name', 'destination_airport'])['delayed'].agg(['count', 'sum']).reset_index()\n",
        "delayed_by_airline_airport.rename(columns={'count': 'total_flights', 'sum': 'delayed_flights'}, inplace=True)\n",
        "delayed_by_airline_airport['delayed_percentage'] = round(delayed_by_airline_airport['delayed_flights'] / delayed_by_airline_airport['total_flights'] * 100,2)\n",
        "\n",
        "# Create bubble chart\n",
        "fig = px.scatter(\n",
        "    delayed_by_airline_airport,\n",
        "    x='carrier_name',\n",
        "    y='destination_airport',\n",
        "    size='delayed_flights',\n",
        "    color='delayed_percentage',\n",
        "    labels={'carrier_name': 'Airline Name', 'destination_airport': 'Airport Code', 'delayed_flights': 'Number of Delays', 'delayed_percentage': '% Delayed'},\n",
        "    title='Number of Delays by Airline and Airport'\n",
        ")\n",
        "\n",
        "# Display the bubble chart\n",
        "fig.show()"
      ]
    },
    {
      "cell_type": "markdown",
      "metadata": {
        "id": "dHVm7IX5IaA-"
      },
      "source": [
        "##3.10.1 Flight delays for each airline and airport combination conclusion\n",
        "The correlation between airlines, flight delays and airports is an important obersvation that can be obtained from the data. Using this we can show which in which airports airline operators experience their most delays. As a passenger it can be useful in determing which airline to use based on the airport you intend to travel.\n",
        "\n",
        "After further exploring our merged dataset, we wanted to begin to build our Machine Learning Model. The aim of our model is to predict departure delay time based on the airline carrier name and destination airport to provide consumers with an interactive and useful tool."
      ]
    },
    {
      "cell_type": "markdown",
      "metadata": {
        "id": "rdMJBEgsAI8W"
      },
      "source": [
        "#**4.0 Machine Learning Models**\n",
        "To aid in our ability to make predictions that can give travelers insight on flight delays we will use machine learning models and train them on the dataset we have gathered. The performance on the model on a test dataset will enable us to determine its ability to predict flight delays. We will extensively cover model selection and deployment in the subsequent sections."
      ]
    },
    {
      "cell_type": "markdown",
      "metadata": {
        "id": "uRjhSfluAUlU"
      },
      "source": [
        "##4.1 Feature Engineering"
      ]
    },
    {
      "cell_type": "code",
      "execution_count": 58,
      "metadata": {
        "id": "THtUnyJV-TgQ"
      },
      "outputs": [],
      "source": [
        "#Create dummy variables for categorical variables\n",
        "one_hot = pd.get_dummies(merged_df[['carrier_name', 'destination_airport']])"
      ]
    },
    {
      "cell_type": "markdown",
      "metadata": {
        "id": "9BPNVl3Tt7zC"
      },
      "source": [
        "#4.1.1 Feature Engineering Conclusions\n",
        "Through our data exploration and model design, we realized that we wanted to incorporate the flight carrier name and the flight destination airport in our predictive machine-learning model. Since these columns in our dataframe are populated with string objects, we needed to create dummy variables for these columns in order to incorporate them into our linear regression model. We used one hot encoding to create dummy variables for all strings within the respective carrier name and destination airport columns. \n",
        "\n"
      ]
    },
    {
      "cell_type": "markdown",
      "metadata": {
        "id": "NBMJCT1kOcIq"
      },
      "source": [
        "##4.2 Linear Regression Model\n",
        "In predicting flight delays with the data, we will use a linear regression model. An important step in this process is to split our data to a train and test set. The train data will be used to develop the model and the test data will be used to ascertain how well it can perform on an unseen data. Performance of the model is judged using two parameters which are Mean Squared Error(MSE) and R2.\n"
      ]
    },
    {
      "cell_type": "code",
      "execution_count": 59,
      "metadata": {
        "colab": {
          "base_uri": "https://localhost:8080/"
        },
        "id": "XrNvtOsWGeAx",
        "outputId": "ece99a11-5caf-4ae5-ef7b-830cf09bc159"
      },
      "outputs": [
        {
          "output_type": "stream",
          "name": "stdout",
          "text": [
            "Mean Squared Error:  90.02838271010461\n",
            "R2 Score:  0.9468890881241473\n"
          ]
        }
      ],
      "source": [
        "from sklearn.linear_model import LinearRegression\n",
        "from sklearn.metrics import mean_squared_error, r2_score\n",
        "import joblib\n",
        "\n",
        "# Combine dummy variables with other features\n",
        "X = pd.concat([merged_df.drop(['departure_delay_(minutes)', 'carrier_name','iata_carrier_code' ,'destination_airport', 'carrier_code', 'tail_number', 'scheduled_departure_time', 'actual_departure_time', 'wheels-off_time', 'iata_code', 'carrier_name', 'icao_carrier_code','date', 'month_name'], axis=1), one_hot], axis=1)\n",
        "y = merged_df['departure_delay_(minutes)']\n",
        "\n",
        "# Split into training and testing sets\n",
        "Xtrain, Xtest, ytrain, ytest = train_test_split(X, y, test_size=0.3, random_state=833)\n",
        "\n",
        "# Initialize and fit linear regression model\n",
        "model = LinearRegression()\n",
        "model.fit(Xtrain, ytrain)\n",
        "\n",
        "# Predict on testing set\n",
        "y_pred = model.predict(Xtest)\n",
        "\n",
        "# Performance metrics\n",
        "mse = mean_squared_error(ytest, y_pred)\n",
        "r2 = r2_score(ytest, y_pred)\n",
        "\n",
        "# Print performance metrics\n",
        "print('Mean Squared Error: ', mse)\n",
        "print('R2 Score: ', r2)\n",
        "\n",
        "# Save the trained model to a file\n",
        "joblib.dump(model, 'trained_model.pkl')\n",
        "\n",
        "RMSE = math.sqrt(mse)"
      ]
    },
    {
      "cell_type": "markdown",
      "metadata": {
        "id": "_wQHVUJZqR5K"
      },
      "source": [
        "##4.2.1 Linear Regression Model Conclusions\n",
        "We chose to select Mean Squared Error(MSE) and R2 Score for evaluating our model performance. With an MSE of about 90, we believe that our model performs quite well indicating that the average difference between the predicted departure delay and the actual departure delay is about 9.5 minutes. The R2 Score of .946 indicates that the model explains almost 95% of the variability in departure delays. The score suggests that the model performs well as it can explain a high percentage of variability. Ultimately, the model performs well in predicting departure delays based on the available features within our dataset.\n",
        "\n",
        "\n",
        "\n"
      ]
    },
    {
      "cell_type": "markdown",
      "metadata": {
        "id": "VW9CFC_qqWGe"
      },
      "source": [
        "##4.3 Interactive Flight Delay Prediction Widget\n",
        "\n",
        "\n"
      ]
    },
    {
      "cell_type": "code",
      "execution_count": 60,
      "metadata": {
        "colab": {
          "base_uri": "https://localhost:8080/",
          "height": 99,
          "referenced_widgets": [
            "ca42ad0d1a7442cabdee716f8d6b4f07",
            "ca23c19132544ae49addbfbffb4a335d",
            "f43048ee4dcd485283448062606f27fd",
            "9e4af23e575847b4a07473e5664f3666",
            "c505239c434a45fc9cbc6878f01c1870",
            "00f224296a904e7bbf090c95dd642865",
            "074f182949e74d99a2bbfa44b4c3277e",
            "66c2a83b7d9e446ab0c96f3820e89754",
            "2d8fc9279c624ae4b2c5248cd6961a0e",
            "8456789253ba4fcbb641de3bab14191a"
          ]
        },
        "id": "7-d_vhfuCKut",
        "outputId": "abc9caa0-b763-45e0-c25a-5d0c3c384a52"
      },
      "outputs": [
        {
          "output_type": "display_data",
          "data": {
            "text/plain": [
              "interactive(children=(Dropdown(description='Carrier name:', options=('AirTran Airways', 'Alaska Airlines', 'Am…"
            ],
            "application/vnd.jupyter.widget-view+json": {
              "version_major": 2,
              "version_minor": 0,
              "model_id": "ca42ad0d1a7442cabdee716f8d6b4f07"
            }
          },
          "metadata": {}
        }
      ],
      "source": [
        "import ipywidgets as widgets\n",
        "# Load the trained model\n",
        "model = joblib.load('trained_model.pkl') \n",
        "\n",
        "\n",
        "input_data = merged_df\n",
        "\n",
        "# Preprocess the input data\n",
        "one_hot = pd.get_dummies(input_data[['carrier_name', 'destination_airport']])\n",
        "merged_df = pd.concat([input_data.drop(['departure_delay_(minutes)', 'carrier_name','iata_carrier_code' ,'destination_airport', 'carrier_code', 'tail_number', 'scheduled_departure_time', 'actual_departure_time', 'wheels-off_time', 'iata_code', 'icao_carrier_code','date', 'month_name'], axis=1), one_hot], axis=1)\n",
        "\n",
        "# Create dropdown widgets for carrier name and destination airport\n",
        "carrier_options = sorted(input_data['carrier_name'].unique())\n",
        "destination_options = sorted(input_data['destination_airport'].unique())\n",
        "carrier_dropdown = widgets.Dropdown(options=carrier_options, description='Carrier name:')\n",
        "destination_dropdown = widgets.Dropdown(options=destination_options, description='Destination airport:')\n",
        "\n",
        "# Define function to handle widget inputs and make predictions\n",
        "def predict_delay(carrier_name, destination_airport):\n",
        "    # Check if there is data matching the selected carrier name and destination airport\n",
        "    if not ((merged_df['carrier_name_'+carrier_name] == 1) & (merged_df['destination_airport_'+destination_airport] == 1)).any():\n",
        "        print('Please select other options as there is no data for this flight.')\n",
        "        return\n",
        "    \n",
        "    # Preprocess the input data\n",
        "    one_hot = pd.get_dummies(input_data[['carrier_name', 'destination_airport']])\n",
        "    X = pd.concat([input_data.drop(['departure_delay_(minutes)', 'carrier_name','iata_carrier_code' ,'destination_airport', 'carrier_code', 'tail_number', 'scheduled_departure_time', 'actual_departure_time', 'wheels-off_time', 'iata_code', 'icao_carrier_code','date', 'month_name'], axis=1), one_hot], axis=1)\n",
        "    \n",
        "    # Make predictions for the given carrier name and destination airport\n",
        "    predictions = model.predict(X.loc[(merged_df['carrier_name_'+carrier_name] == 1) & (merged_df['destination_airport_'+destination_airport] == 1)])\n",
        "    \n",
        "    # Print the predicted departure delay in minutes\n",
        "    print('Predicted departure delay:', round(predictions[0],2), '+/-', round(RMSE, 2), 'minutes') \n",
        "\n",
        "# Connect widget inputs to prediction function\n",
        "widgets.interactive(predict_delay, carrier_name=carrier_dropdown, destination_airport=destination_dropdown)\n"
      ]
    },
    {
      "cell_type": "markdown",
      "metadata": {
        "id": "L0suF8itq0oR"
      },
      "source": [
        "##4.3.1 Widget Conclusions\n",
        "Since the root mean squared error is 9.49, we can say that the predicted departure delay of a unique carrier name and destination pair is within the predicted delay in minutes plus or minus the root mean squared error. It is worth noting that the root mean squared error only accounts for 1 standard deviation from the mean, meaning that the predicted value will be within plus or minus 9.49 minutes 68% if the distribution of errors is normal. To determine the distribution of errors we will plot a histogram to further investigate.\n",
        "\n"
      ]
    },
    {
      "cell_type": "markdown",
      "metadata": {
        "id": "_blGXrX3q4Cg"
      },
      "source": [
        "#**5.0 Examining the Errors from the Model**\n"
      ]
    },
    {
      "cell_type": "markdown",
      "metadata": {
        "id": "IcfmPDrCq-AQ"
      },
      "source": [
        "#5.1 Histogram Showing Distribution of Errors"
      ]
    },
    {
      "cell_type": "code",
      "execution_count": 61,
      "metadata": {
        "colab": {
          "base_uri": "https://localhost:8080/",
          "height": 483
        },
        "id": "GN-B-CGYesZd",
        "outputId": "2c594cc7-2f30-4ded-a35f-cd7a9c64fd0e"
      },
      "outputs": [
        {
          "output_type": "execute_result",
          "data": {
            "text/plain": [
              "Text(0.5, 1.0, 'Distribution of Errors')"
            ]
          },
          "metadata": {},
          "execution_count": 61
        },
        {
          "output_type": "display_data",
          "data": {
            "text/plain": [
              "<Figure size 640x480 with 1 Axes>"
            ],
            "image/png": "[encoded data removed]"
          },
          "metadata": {}
        }
      ],
      "source": [
        "#Histogram showing the distributrion of erros\n",
        "# Compute errors\n",
        "errors = y_pred - ytest\n",
        "\n",
        "# Plot distribution of errors\n",
        "sns.histplot(errors, kde=True, stat='density')\n",
        "plt.xlim(-100, 100)\n",
        "# Add labels and title\n",
        "plt.xlabel('Error (minutes)')\n",
        "plt.ylabel('Density')\n",
        "plt.title('Distribution of Errors', fontdict={'fontweight': 'bold'})\n",
        "\n"
      ]
    },
    {
      "cell_type": "markdown",
      "metadata": {
        "id": "h2jT3gDGrFNW"
      },
      "source": [
        "#5.1.1 Distribution of Errors Conclusions\n",
        "The distribution of errors histogram shows very long tails. It appears to be normally distributed but to further examine the distribution of errors we will use a QQ plot to further examine the tails of the distribution of errors.\n",
        "\n"
      ]
    },
    {
      "cell_type": "markdown",
      "metadata": {
        "id": "GIpwbaXurKVA"
      },
      "source": [
        "#5.2 Q-Q Plot of Errors"
      ]
    },
    {
      "cell_type": "code",
      "execution_count": 62,
      "metadata": {
        "colab": {
          "base_uri": "https://localhost:8080/",
          "height": 483
        },
        "id": "tF1fH8AGgYhH",
        "outputId": "4ae6f7ca-8c19-4ec9-df26-cc04f98e83c7"
      },
      "outputs": [
        {
          "output_type": "execute_result",
          "data": {
            "text/plain": [
              "Text(0.5, 1.0, 'Q-Q Plot of Errors')"
            ]
          },
          "metadata": {},
          "execution_count": 62
        },
        {
          "output_type": "display_data",
          "data": {
            "text/plain": [
              "<Figure size 640x480 with 1 Axes>"
            ],
            "image/png": "[encoded data removed]"
          },
          "metadata": {}
        }
      ],
      "source": [
        "from statsmodels.graphics.gofplots import qqplot\n",
        "\n",
        "# Create Q-Q plot\n",
        "qqplot(errors, line='s')\n",
        "\n",
        "# Customize x-axis tick marks\n",
        "\n",
        "plt.xticks(np.array([-4, -3, -2, -1, 0, 1, 2, 3, 4]))\n",
        "# Add labels and title\n",
        "plt.xlabel('Theoretical Quantiles')\n",
        "plt.ylabel('Sample Quantiles')\n",
        "plt.title('Q-Q Plot of Errors')\n"
      ]
    },
    {
      "cell_type": "markdown",
      "metadata": {
        "id": "_p71U5IEhPgA"
      },
      "source": [
        "## 5.2.1 Q-Q Plot Of Errors Conclusion\n",
        "The above Q-Q plot indicates that the errors seen in the linear regression model are mostly normally distributed. We see that there is a negative left tail that starts to deviate from the reference line at around -3 on the Theoretical Quantiles Axis. This indicates that the tailed deviations may be heavier than we would expect under a true normal distribution. Although the tails may be heavier, since the bulk of the data between -3 and 3 is close to the reference line, 99.7% of the data can be considered normally distributed, which in our case indicates that the model performs well enough under our predictive criteria. \n",
        "\n",
        "\n"
      ]
    },
    {
      "cell_type": "markdown",
      "metadata": {
        "id": "Rru7uHX4bHu-"
      },
      "source": [
        "#**6.0** Data Exportation for Looker\n",
        "To create further interactive plots, we export the dataset to Looker where we can use specified functions to highlight some interesting relations and observations from the data. This is also an ideal way to present and communicate data analysis to a wide audience for much easier understanding.\n",
        "\n"
      ]
    },
    {
      "cell_type": "code",
      "execution_count": null,
      "metadata": {
        "id": "t8-ZEvm09Vzx"
      },
      "outputs": [],
      "source": [
        "from google.colab import files\n",
        "merged_looker_export = merged_df.drop(columns=['scheduled_elapsed_time_(minutes)','actual_elapsed_time_(minutes)','taxi-out_time_(minutes)','year','month','day','delay_carrier_(minutes)','delay_weather_(minutes)','delay_national_aviation_system_(minutes)','delay_security_(minutes)','delay_late_aircraft_arrival_(minutes)'],axis=1)\n",
        "merged_looker_export.to_csv('merged_looker_export.csv', index = False, encoding = 'utf-8-sig') \n",
        "files.download('merged_looker_export.csv')"
      ]
    },
    {
      "cell_type": "markdown",
      "source": [
        "#**7.0** Challenges\n",
        "Throughout this project, we experienced a variety of challenges. One of the first challenges we faced was understanding and hypothesizing why Tail Numbers were missing from the dataset. Through our exploration and analysis, we were unable to find a convincing reason from the dataset itself. To appropriately deal with these NaN values for the Tail Numbers, we began to research the airline industry itself. We arrived at the conclusion that because of possible deplaning or last-minute aircraft changes, the tail numbers were lost or unrecorded. As a result, we dropped the rows with missing tail numbers under this assumption. \n",
        "\n",
        "Another challenge we faced was during the creation of our Machine Learning Model. Originally, we were attempting to use a logistic regression model but realized the model failed because we were omitting classification string variables and our y variable was continuous. After realizing this approach would not work, we shifted to a linear regression model. The difficulty with creating our linear regression model was incorporating the categorical string variables without running out of computational power. We ended up using one-hot encoding to create dummy variables for the carrier name and destination airport, as we wanted to ensure these variables were captured in the model.\n",
        "\n",
        "\n",
        "The last major challenge we faced was implementing error handling in our drop-down widget. We originally created the widget that would only work if there was historical data for the unique pair of carrier names and destinations. If a unique pair was selected where there was no data, the widget would produce an error and crash. Ultimately, we leveraged ChatGPT to aid us in the creation of the error handling to ensure users would not get error messages resulting in the widget crashing.\n",
        "\n"
      ],
      "metadata": {
        "id": "LiUIRiIXAoWu"
      }
    },
    {
      "cell_type": "markdown",
      "metadata": {
        "id": "YJlOIPvu_h4T"
      },
      "source": [
        "#**8.0** Project Conclusions\n",
        "In this project, our team utilized Python and a variety of imported libraries such as, Plotly, Seaborn, Folium, SciKit-Learn, ipywidgets, and more, to visualize and analyze flight delay data from major airlines in the US. Through our analysis, we were able to build a predictive model that accurately predicted the departure delay, in minutes, of a particular flight. Our visualizations revealed that flight departure delays were not concentrated in terms of day or month, but rather influenced by specific factors and variables in our dataset such as airport destination and the airline carrier. Moreover, our team also identified specific airports and routes that were more likely to experience departure delays. Our visualizations and model provide valuable insights that can help travelers gain enough information to make informed decisions about which flights are predicted to have a delay from the departure gate. Travelers can leverage our visualizations, machine learning predictive model, and widget, to better plan their travel journey.\n",
        "\n"
      ]
    },
    {
      "cell_type": "markdown",
      "metadata": {
        "id": "TaiKXyZd40k8"
      },
      "source": [
        "References:\n",
        "\n",
        "https://stackoverflow.com/questions/48899051/how-to-drop-a-specific-column-of-csv-file-while-reading-it-using-pandas\n",
        "\n",
        "https://python-visualization.github.io/folium/quickstart.html#Getting-Started\n",
        "\n",
        "https://docs.python.org/3/library/string.html#format-string-syntax\n",
        "\n",
        "\n",
        "https://towardsdatascience.com/scale-standardize-or-normalize-with-scikit-learn-6ccc7d176a02\n",
        "\n",
        "https://wellsr.com/python/plotting-geographical-heatmaps-with-python-folium-module/\n",
        "\n",
        "https://www.statsmodels.org/stable/generated/statsmodels.graphics.gofplots.qqplot.html\n",
        "\n",
        "https://ipywidgets.readthedocs.io/en/7.x/examples/Widget%20List.html\n",
        "\n",
        "https://openai.com/blog/chatgpt - ChatGPT was used to help with errors and overall syntax issues. It was leveraged to help create the drop-down widget and provide resources on documentation for how to build and what types of interactive tools can be built with the ipywidgets library. \n",
        "\n",
        "\n",
        "\n"
      ]
    }
  ],
  "metadata": {
    "accelerator": "GPU",
    "colab": {
      "provenance": []
    },
    "gpuClass": "standard",
    "kernelspec": {
      "display_name": "Python 3",
      "name": "python3"
    },
    "language_info": {
      "name": "python"
    },
    "widgets": {
      "application/vnd.jupyter.widget-state+json": {
        "ca42ad0d1a7442cabdee716f8d6b4f07": {
          "model_module": "@jupyter-widgets/controls",
          "model_name": "VBoxModel",
          "model_module_version": "1.5.0",
          "state": {
            "_dom_classes": [
              "widget-interact"
            ],
            "_model_module": "@jupyter-widgets/controls",
            "_model_module_version": "1.5.0",
            "_model_name": "VBoxModel",
            "_view_count": null,
            "_view_module": "@jupyter-widgets/controls",
            "_view_module_version": "1.5.0",
            "_view_name": "VBoxView",
            "box_style": "",
            "children": [
              "IPY_MODEL_ca23c19132544ae49addbfbffb4a335d",
              "IPY_MODEL_f43048ee4dcd485283448062606f27fd",
              "IPY_MODEL_9e4af23e575847b4a07473e5664f3666"
            ],
            "layout": "IPY_MODEL_c505239c434a45fc9cbc6878f01c1870"
          }
        },
        "ca23c19132544ae49addbfbffb4a335d": {
          "model_module": "@jupyter-widgets/controls",
          "model_name": "DropdownModel",
          "model_module_version": "1.5.0",
          "state": {
            "_dom_classes": [],
            "_model_module": "@jupyter-widgets/controls",
            "_model_module_version": "1.5.0",
            "_model_name": "DropdownModel",
            "_options_labels": [
              "AirTran Airways",
              "Alaska Airlines",
              "American Airlines",
              "American Eagle",
              "Atlantic Southeast Airlines",
              "Comair",
              "Delta Air Lines",
              "Frontier",
              "Hawaiian Airlines",
              "JetBlue Airways",
              "Mesa Airlines",
              "Pinnacle Airlines",
              "SkyWest Airlines",
              "Southwest Airlines",
              "US Airways",
              "United Airlines"
            ],
            "_view_count": null,
            "_view_module": "@jupyter-widgets/controls",
            "_view_module_version": "1.5.0",
            "_view_name": "DropdownView",
            "description": "Carrier name:",
            "description_tooltip": null,
            "disabled": false,
            "index": 6,
            "layout": "IPY_MODEL_00f224296a904e7bbf090c95dd642865",
            "style": "IPY_MODEL_074f182949e74d99a2bbfa44b4c3277e"
          }
        },
        "f43048ee4dcd485283448062606f27fd": {
          "model_module": "@jupyter-widgets/controls",
          "model_name": "DropdownModel",
          "model_module_version": "1.5.0",
          "state": {
            "_dom_classes": [],
            "_model_module": "@jupyter-widgets/controls",
            "_model_module_version": "1.5.0",
            "_model_name": "DropdownModel",
            "_options_labels": [
              "ACK",
              "ATL",
              "AUS",
              "AVL",
              "BGR",
              "BNA",
              "BUF",
              "BUR",
              "BWI",
              "BZN",
              "CAK",
              "CHS",
              "CLE",
              "CLT",
              "CMH",
              "CVG",
              "DAL",
              "DCA",
              "DEN",
              "DFW",
              "DTW",
              "EWR",
              "EYW",
              "FLL",
              "GRB",
              "GSP",
              "HDN",
              "HNL",
              "HOU",
              "IAD",
              "IAH",
              "ILM",
              "IND",
              "JAC",
              "JAX",
              "JFK",
              "LAS",
              "LAX",
              "LGA",
              "LGB",
              "MCI",
              "MCO",
              "MDW",
              "MEM",
              "MIA",
              "MKE",
              "MSN",
              "MSP",
              "MSY",
              "MTJ",
              "MVY",
              "MYR",
              "OAK",
              "ORD",
              "ORF",
              "PBI",
              "PDX",
              "PHF",
              "PHL",
              "PHX",
              "PIT",
              "PNS",
              "PSP",
              "RDU",
              "RIC",
              "ROC",
              "RSW",
              "SAN",
              "SAT",
              "SAV",
              "SBN",
              "SDF",
              "SEA",
              "SFO",
              "SJC",
              "SLC",
              "SMF",
              "SRQ",
              "STL",
              "SYR",
              "TPA",
              "TVC"
            ],
            "_view_count": null,
            "_view_module": "@jupyter-widgets/controls",
            "_view_module_version": "1.5.0",
            "_view_name": "DropdownView",
            "description": "Destination airport:",
            "description_tooltip": null,
            "disabled": false,
            "index": 73,
            "layout": "IPY_MODEL_66c2a83b7d9e446ab0c96f3820e89754",
            "style": "IPY_MODEL_2d8fc9279c624ae4b2c5248cd6961a0e"
          }
        },
        "9e4af23e575847b4a07473e5664f3666": {
          "model_module": "@jupyter-widgets/output",
          "model_name": "OutputModel",
          "model_module_version": "1.0.0",
          "state": {
            "_dom_classes": [],
            "_model_module": "@jupyter-widgets/output",
            "_model_module_version": "1.0.0",
            "_model_name": "OutputModel",
            "_view_count": null,
            "_view_module": "@jupyter-widgets/output",
            "_view_module_version": "1.0.0",
            "_view_name": "OutputView",
            "layout": "IPY_MODEL_8456789253ba4fcbb641de3bab14191a",
            "msg_id": "",
            "outputs": [
              {
                "output_type": "stream",
                "name": "stdout",
                "text": [
                  "Predicted departure delay: 9.76 +/- 9.49 minutes\n"
                ]
              }
            ]
          }
        },
        "c505239c434a45fc9cbc6878f01c1870": {
          "model_module": "@jupyter-widgets/base",
          "model_name": "LayoutModel",
          "model_module_version": "1.2.0",
          "state": {
            "_model_module": "@jupyter-widgets/base",
            "_model_module_version": "1.2.0",
            "_model_name": "LayoutModel",
            "_view_count": null,
            "_view_module": "@jupyter-widgets/base",
            "_view_module_version": "1.2.0",
            "_view_name": "LayoutView",
            "align_content": null,
            "align_items": null,
            "align_self": null,
            "border": null,
            "bottom": null,
            "display": null,
            "flex": null,
            "flex_flow": null,
            "grid_area": null,
            "grid_auto_columns": null,
            "grid_auto_flow": null,
            "grid_auto_rows": null,
            "grid_column": null,
            "grid_gap": null,
            "grid_row": null,
            "grid_template_areas": null,
            "grid_template_columns": null,
            "grid_template_rows": null,
            "height": null,
            "justify_content": null,
            "justify_items": null,
            "left": null,
            "margin": null,
            "max_height": null,
            "max_width": null,
            "min_height": null,
            "min_width": null,
            "object_fit": null,
            "object_position": null,
            "order": null,
            "overflow": null,
            "overflow_x": null,
            "overflow_y": null,
            "padding": null,
            "right": null,
            "top": null,
            "visibility": null,
            "width": null
          }
        },
        "00f224296a904e7bbf090c95dd642865": {
          "model_module": "@jupyter-widgets/base",
          "model_name": "LayoutModel",
          "model_module_version": "1.2.0",
          "state": {
            "_model_module": "@jupyter-widgets/base",
            "_model_module_version": "1.2.0",
            "_model_name": "LayoutModel",
            "_view_count": null,
            "_view_module": "@jupyter-widgets/base",
            "_view_module_version": "1.2.0",
            "_view_name": "LayoutView",
            "align_content": null,
            "align_items": null,
            "align_self": null,
            "border": null,
            "bottom": null,
            "display": null,
            "flex": null,
            "flex_flow": null,
            "grid_area": null,
            "grid_auto_columns": null,
            "grid_auto_flow": null,
            "grid_auto_rows": null,
            "grid_column": null,
            "grid_gap": null,
            "grid_row": null,
            "grid_template_areas": null,
            "grid_template_columns": null,
            "grid_template_rows": null,
            "height": null,
            "justify_content": null,
            "justify_items": null,
            "left": null,
            "margin": null,
            "max_height": null,
            "max_width": null,
            "min_height": null,
            "min_width": null,
            "object_fit": null,
            "object_position": null,
            "order": null,
            "overflow": null,
            "overflow_x": null,
            "overflow_y": null,
            "padding": null,
            "right": null,
            "top": null,
            "visibility": null,
            "width": null
          }
        },
        "074f182949e74d99a2bbfa44b4c3277e": {
          "model_module": "@jupyter-widgets/controls",
          "model_name": "DescriptionStyleModel",
          "model_module_version": "1.5.0",
          "state": {
            "_model_module": "@jupyter-widgets/controls",
            "_model_module_version": "1.5.0",
            "_model_name": "DescriptionStyleModel",
            "_view_count": null,
            "_view_module": "@jupyter-widgets/base",
            "_view_module_version": "1.2.0",
            "_view_name": "StyleView",
            "description_width": ""
          }
        },
        "66c2a83b7d9e446ab0c96f3820e89754": {
          "model_module": "@jupyter-widgets/base",
          "model_name": "LayoutModel",
          "model_module_version": "1.2.0",
          "state": {
            "_model_module": "@jupyter-widgets/base",
            "_model_module_version": "1.2.0",
            "_model_name": "LayoutModel",
            "_view_count": null,
            "_view_module": "@jupyter-widgets/base",
            "_view_module_version": "1.2.0",
            "_view_name": "LayoutView",
            "align_content": null,
            "align_items": null,
            "align_self": null,
            "border": null,
            "bottom": null,
            "display": null,
            "flex": null,
            "flex_flow": null,
            "grid_area": null,
            "grid_auto_columns": null,
            "grid_auto_flow": null,
            "grid_auto_rows": null,
            "grid_column": null,
            "grid_gap": null,
            "grid_row": null,
            "grid_template_areas": null,
            "grid_template_columns": null,
            "grid_template_rows": null,
            "height": null,
            "justify_content": null,
            "justify_items": null,
            "left": null,
            "margin": null,
            "max_height": null,
            "max_width": null,
            "min_height": null,
            "min_width": null,
            "object_fit": null,
            "object_position": null,
            "order": null,
            "overflow": null,
            "overflow_x": null,
            "overflow_y": null,
            "padding": null,
            "right": null,
            "top": null,
            "visibility": null,
            "width": null
          }
        },
        "2d8fc9279c624ae4b2c5248cd6961a0e": {
          "model_module": "@jupyter-widgets/controls",
          "model_name": "DescriptionStyleModel",
          "model_module_version": "1.5.0",
          "state": {
            "_model_module": "@jupyter-widgets/controls",
            "_model_module_version": "1.5.0",
            "_model_name": "DescriptionStyleModel",
            "_view_count": null,
            "_view_module": "@jupyter-widgets/base",
            "_view_module_version": "1.2.0",
            "_view_name": "StyleView",
            "description_width": ""
          }
        },
        "8456789253ba4fcbb641de3bab14191a": {
          "model_module": "@jupyter-widgets/base",
          "model_name": "LayoutModel",
          "model_module_version": "1.2.0",
          "state": {
            "_model_module": "@jupyter-widgets/base",
            "_model_module_version": "1.2.0",
            "_model_name": "LayoutModel",
            "_view_count": null,
            "_view_module": "@jupyter-widgets/base",
            "_view_module_version": "1.2.0",
            "_view_name": "LayoutView",
            "align_content": null,
            "align_items": null,
            "align_self": null,
            "border": null,
            "bottom": null,
            "display": null,
            "flex": null,
            "flex_flow": null,
            "grid_area": null,
            "grid_auto_columns": null,
            "grid_auto_flow": null,
            "grid_auto_rows": null,
            "grid_column": null,
            "grid_gap": null,
            "grid_row": null,
            "grid_template_areas": null,
            "grid_template_columns": null,
            "grid_template_rows": null,
            "height": null,
            "justify_content": null,
            "justify_items": null,
            "left": null,
            "margin": null,
            "max_height": null,
            "max_width": null,
            "min_height": null,
            "min_width": null,
            "object_fit": null,
            "object_position": null,
            "order": null,
            "overflow": null,
            "overflow_x": null,
            "overflow_y": null,
            "padding": null,
            "right": null,
            "top": null,
            "visibility": null,
            "width": null
          }
        }
      }
    }
  },
  "nbformat": 4,
  "nbformat_minor": 0
}